{
 "cells": [
  {
   "cell_type": "markdown",
   "id": "a44bdc6a",
   "metadata": {},
   "source": [
    "There are two main types of recommender systems: \n",
    "\n",
    "Content-based filters\n",
    "Collaborative filters\n",
    "\n",
    "Content-based filters predicts what a user likes based on what that particular user has liked in the past. On the other hand, collaborative-based filters predict what a user like based on what other users, that are similar to that particular user, have liked.\n",
    "\n",
    "I have developed Collaborative based recommendation system.\n",
    "\n",
    "I have followed following approach:\n",
    "  1) Importing Libraries and Loading datasets\n",
    "\n",
    "  2) Exploratoty Data Analysis(EDA) & Visualization\n",
    "\n",
    "  3) Data Preprocessing & Preparing Main datasets.\n",
    "\n",
    "  4) Computing Similarities between Songs using Cosine_similarities and K Nearest Neighbors(KNN) .\n",
    "\n",
    "  5) Constructing Collaborative Recommendation System.\n",
    "\n",
    "  6) Making Recommendation of Songs to Users.\n",
    "\n",
    "   7) Acknowledgement and References\n",
    "\n",
    "\n"
   ]
  },
  {
   "cell_type": "markdown",
   "id": "ef4a9c7c",
   "metadata": {},
   "source": [
    "Detailed Descriptions of Datasets: https://www.kaggle.com/c/kkbox-music-recommendation-challenge/data"
   ]
  },
  {
   "cell_type": "markdown",
   "id": "12328b4e",
   "metadata": {},
   "source": [
    "# Importing required libraries"
   ]
  },
  {
   "cell_type": "code",
   "execution_count": 1,
   "id": "06cc2040",
   "metadata": {},
   "outputs": [],
   "source": [
    "import pandas as pd\n",
    "import numpy as np\n",
    "import matplotlib.pyplot as plt\n",
    "import seaborn as sns\n",
    "import warnings  ## to avoid warnings\n",
    "warnings.filterwarnings(\"ignore\")\n"
   ]
  },
  {
   "cell_type": "code",
   "execution_count": 2,
   "id": "142ce6cd",
   "metadata": {},
   "outputs": [
    {
     "data": {
      "text/html": [
       "<div>\n",
       "<style scoped>\n",
       "    .dataframe tbody tr th:only-of-type {\n",
       "        vertical-align: middle;\n",
       "    }\n",
       "\n",
       "    .dataframe tbody tr th {\n",
       "        vertical-align: top;\n",
       "    }\n",
       "\n",
       "    .dataframe thead th {\n",
       "        text-align: right;\n",
       "    }\n",
       "</style>\n",
       "<table border=\"1\" class=\"dataframe\">\n",
       "  <thead>\n",
       "    <tr style=\"text-align: right;\">\n",
       "      <th></th>\n",
       "      <th>msno</th>\n",
       "      <th>song_id</th>\n",
       "      <th>source_system_tab</th>\n",
       "      <th>source_screen_name</th>\n",
       "      <th>source_type</th>\n",
       "      <th>target</th>\n",
       "    </tr>\n",
       "  </thead>\n",
       "  <tbody>\n",
       "    <tr>\n",
       "      <th>0</th>\n",
       "      <td>FGtllVqz18RPiwJj/edr2gV78zirAiY/9SmYvia+kCg=</td>\n",
       "      <td>BBzumQNXUHKdEBOB7mAJuzok+IJA1c2Ryg/yzTF6tik=</td>\n",
       "      <td>explore</td>\n",
       "      <td>Explore</td>\n",
       "      <td>online-playlist</td>\n",
       "      <td>1</td>\n",
       "    </tr>\n",
       "    <tr>\n",
       "      <th>1</th>\n",
       "      <td>Xumu+NIjS6QYVxDS4/t3SawvJ7viT9hPKXmf0RtLNx8=</td>\n",
       "      <td>bhp/MpSNoqoxOIB+/l8WPqu6jldth4DIpCm3ayXnJqM=</td>\n",
       "      <td>my library</td>\n",
       "      <td>Local playlist more</td>\n",
       "      <td>local-playlist</td>\n",
       "      <td>1</td>\n",
       "    </tr>\n",
       "    <tr>\n",
       "      <th>2</th>\n",
       "      <td>Xumu+NIjS6QYVxDS4/t3SawvJ7viT9hPKXmf0RtLNx8=</td>\n",
       "      <td>JNWfrrC7zNN7BdMpsISKa4Mw+xVJYNnxXh3/Epw7QgY=</td>\n",
       "      <td>my library</td>\n",
       "      <td>Local playlist more</td>\n",
       "      <td>local-playlist</td>\n",
       "      <td>1</td>\n",
       "    </tr>\n",
       "    <tr>\n",
       "      <th>3</th>\n",
       "      <td>Xumu+NIjS6QYVxDS4/t3SawvJ7viT9hPKXmf0RtLNx8=</td>\n",
       "      <td>2A87tzfnJTSWqD7gIZHisolhe4DMdzkbd6LzO1KHjNs=</td>\n",
       "      <td>my library</td>\n",
       "      <td>Local playlist more</td>\n",
       "      <td>local-playlist</td>\n",
       "      <td>1</td>\n",
       "    </tr>\n",
       "    <tr>\n",
       "      <th>4</th>\n",
       "      <td>FGtllVqz18RPiwJj/edr2gV78zirAiY/9SmYvia+kCg=</td>\n",
       "      <td>3qm6XTZ6MOCU11x8FIVbAGH5l5uMkT3/ZalWG1oo2Gc=</td>\n",
       "      <td>explore</td>\n",
       "      <td>Explore</td>\n",
       "      <td>online-playlist</td>\n",
       "      <td>1</td>\n",
       "    </tr>\n",
       "  </tbody>\n",
       "</table>\n",
       "</div>"
      ],
      "text/plain": [
       "                                           msno  \\\n",
       "0  FGtllVqz18RPiwJj/edr2gV78zirAiY/9SmYvia+kCg=   \n",
       "1  Xumu+NIjS6QYVxDS4/t3SawvJ7viT9hPKXmf0RtLNx8=   \n",
       "2  Xumu+NIjS6QYVxDS4/t3SawvJ7viT9hPKXmf0RtLNx8=   \n",
       "3  Xumu+NIjS6QYVxDS4/t3SawvJ7viT9hPKXmf0RtLNx8=   \n",
       "4  FGtllVqz18RPiwJj/edr2gV78zirAiY/9SmYvia+kCg=   \n",
       "\n",
       "                                        song_id source_system_tab  \\\n",
       "0  BBzumQNXUHKdEBOB7mAJuzok+IJA1c2Ryg/yzTF6tik=           explore   \n",
       "1  bhp/MpSNoqoxOIB+/l8WPqu6jldth4DIpCm3ayXnJqM=        my library   \n",
       "2  JNWfrrC7zNN7BdMpsISKa4Mw+xVJYNnxXh3/Epw7QgY=        my library   \n",
       "3  2A87tzfnJTSWqD7gIZHisolhe4DMdzkbd6LzO1KHjNs=        my library   \n",
       "4  3qm6XTZ6MOCU11x8FIVbAGH5l5uMkT3/ZalWG1oo2Gc=           explore   \n",
       "\n",
       "    source_screen_name      source_type  target  \n",
       "0              Explore  online-playlist       1  \n",
       "1  Local playlist more   local-playlist       1  \n",
       "2  Local playlist more   local-playlist       1  \n",
       "3  Local playlist more   local-playlist       1  \n",
       "4              Explore  online-playlist       1  "
      ]
     },
     "execution_count": 2,
     "metadata": {},
     "output_type": "execute_result"
    }
   ],
   "source": [
    "# Considering only Thirty Thousands tuples for our dataset due to limitation of computational resources \n",
    "\n",
    "train_df = pd.read_csv(\"train.csv\", nrows=30000) \n",
    "train_df.head()\n"
   ]
  },
  {
   "cell_type": "code",
   "execution_count": 3,
   "id": "47553e6a",
   "metadata": {},
   "outputs": [
    {
     "data": {
      "text/plain": [
       "(30000, 6)"
      ]
     },
     "execution_count": 3,
     "metadata": {},
     "output_type": "execute_result"
    }
   ],
   "source": [
    "## checking shape\n",
    "train_df.shape"
   ]
  },
  {
   "cell_type": "code",
   "execution_count": 4,
   "id": "38073768",
   "metadata": {},
   "outputs": [
    {
     "data": {
      "text/html": [
       "<div>\n",
       "<style scoped>\n",
       "    .dataframe tbody tr th:only-of-type {\n",
       "        vertical-align: middle;\n",
       "    }\n",
       "\n",
       "    .dataframe tbody tr th {\n",
       "        vertical-align: top;\n",
       "    }\n",
       "\n",
       "    .dataframe thead th {\n",
       "        text-align: right;\n",
       "    }\n",
       "</style>\n",
       "<table border=\"1\" class=\"dataframe\">\n",
       "  <thead>\n",
       "    <tr style=\"text-align: right;\">\n",
       "      <th></th>\n",
       "      <th>song_id</th>\n",
       "      <th>song_length</th>\n",
       "      <th>genre_ids</th>\n",
       "      <th>artist_name</th>\n",
       "      <th>composer</th>\n",
       "      <th>lyricist</th>\n",
       "      <th>language</th>\n",
       "    </tr>\n",
       "  </thead>\n",
       "  <tbody>\n",
       "    <tr>\n",
       "      <th>0</th>\n",
       "      <td>CXoTN1eb7AI+DntdU1vbcwGRV4SCIDxZu+YD8JP8r4E=</td>\n",
       "      <td>247640</td>\n",
       "      <td>465</td>\n",
       "      <td>張信哲 (Jeff Chang)</td>\n",
       "      <td>董貞</td>\n",
       "      <td>何啟弘</td>\n",
       "      <td>3.0</td>\n",
       "    </tr>\n",
       "    <tr>\n",
       "      <th>1</th>\n",
       "      <td>o0kFgae9QtnYgRkVPqLJwa05zIhRlUjfF7O1tDw0ZDU=</td>\n",
       "      <td>197328</td>\n",
       "      <td>444</td>\n",
       "      <td>BLACKPINK</td>\n",
       "      <td>TEDDY|  FUTURE BOUNCE|  Bekuh BOOM</td>\n",
       "      <td>TEDDY</td>\n",
       "      <td>31.0</td>\n",
       "    </tr>\n",
       "    <tr>\n",
       "      <th>2</th>\n",
       "      <td>DwVvVurfpuz+XPuFvucclVQEyPqcpUkHR0ne1RQzPs0=</td>\n",
       "      <td>231781</td>\n",
       "      <td>465</td>\n",
       "      <td>SUPER JUNIOR</td>\n",
       "      <td>NaN</td>\n",
       "      <td>NaN</td>\n",
       "      <td>31.0</td>\n",
       "    </tr>\n",
       "    <tr>\n",
       "      <th>3</th>\n",
       "      <td>dKMBWoZyScdxSkihKG+Vf47nc18N9q4m58+b4e7dSSE=</td>\n",
       "      <td>273554</td>\n",
       "      <td>465</td>\n",
       "      <td>S.H.E</td>\n",
       "      <td>湯小康</td>\n",
       "      <td>徐世珍</td>\n",
       "      <td>3.0</td>\n",
       "    </tr>\n",
       "    <tr>\n",
       "      <th>4</th>\n",
       "      <td>W3bqWd3T+VeHFzHAUfARgW9AvVRaF4N5Yzm4Mr6Eo/o=</td>\n",
       "      <td>140329</td>\n",
       "      <td>726</td>\n",
       "      <td>貴族精選</td>\n",
       "      <td>Traditional</td>\n",
       "      <td>Traditional</td>\n",
       "      <td>52.0</td>\n",
       "    </tr>\n",
       "  </tbody>\n",
       "</table>\n",
       "</div>"
      ],
      "text/plain": [
       "                                        song_id  song_length genre_ids  \\\n",
       "0  CXoTN1eb7AI+DntdU1vbcwGRV4SCIDxZu+YD8JP8r4E=       247640       465   \n",
       "1  o0kFgae9QtnYgRkVPqLJwa05zIhRlUjfF7O1tDw0ZDU=       197328       444   \n",
       "2  DwVvVurfpuz+XPuFvucclVQEyPqcpUkHR0ne1RQzPs0=       231781       465   \n",
       "3  dKMBWoZyScdxSkihKG+Vf47nc18N9q4m58+b4e7dSSE=       273554       465   \n",
       "4  W3bqWd3T+VeHFzHAUfARgW9AvVRaF4N5Yzm4Mr6Eo/o=       140329       726   \n",
       "\n",
       "        artist_name                            composer     lyricist  language  \n",
       "0  張信哲 (Jeff Chang)                                  董貞          何啟弘       3.0  \n",
       "1         BLACKPINK  TEDDY|  FUTURE BOUNCE|  Bekuh BOOM        TEDDY      31.0  \n",
       "2      SUPER JUNIOR                                 NaN          NaN      31.0  \n",
       "3             S.H.E                                 湯小康          徐世珍       3.0  \n",
       "4              貴族精選                         Traditional  Traditional      52.0  "
      ]
     },
     "execution_count": 4,
     "metadata": {},
     "output_type": "execute_result"
    }
   ],
   "source": [
    "song_df = pd.read_csv(\"songs.csv\", nrows=30000)\n",
    "song_df.head()\n"
   ]
  },
  {
   "cell_type": "code",
   "execution_count": 5,
   "id": "cd195dc9",
   "metadata": {},
   "outputs": [
    {
     "data": {
      "text/plain": [
       "(30000, 7)"
      ]
     },
     "execution_count": 5,
     "metadata": {},
     "output_type": "execute_result"
    }
   ],
   "source": [
    "## checking shape\n",
    "song_df.shape"
   ]
  },
  {
   "cell_type": "code",
   "execution_count": 6,
   "id": "6c6f980d",
   "metadata": {},
   "outputs": [
    {
     "data": {
      "text/html": [
       "<div>\n",
       "<style scoped>\n",
       "    .dataframe tbody tr th:only-of-type {\n",
       "        vertical-align: middle;\n",
       "    }\n",
       "\n",
       "    .dataframe tbody tr th {\n",
       "        vertical-align: top;\n",
       "    }\n",
       "\n",
       "    .dataframe thead th {\n",
       "        text-align: right;\n",
       "    }\n",
       "</style>\n",
       "<table border=\"1\" class=\"dataframe\">\n",
       "  <thead>\n",
       "    <tr style=\"text-align: right;\">\n",
       "      <th></th>\n",
       "      <th>song_id</th>\n",
       "      <th>name</th>\n",
       "      <th>isrc</th>\n",
       "    </tr>\n",
       "  </thead>\n",
       "  <tbody>\n",
       "    <tr>\n",
       "      <th>0</th>\n",
       "      <td>LP7pLJoJFBvyuUwvu+oLzjT+bI+UeBPURCecJsX1jjs=</td>\n",
       "      <td>我們</td>\n",
       "      <td>TWUM71200043</td>\n",
       "    </tr>\n",
       "    <tr>\n",
       "      <th>1</th>\n",
       "      <td>ClazTFnk6r0Bnuie44bocdNMM3rdlrq0bCGAsGUWcHE=</td>\n",
       "      <td>Let Me Love You</td>\n",
       "      <td>QMZSY1600015</td>\n",
       "    </tr>\n",
       "    <tr>\n",
       "      <th>2</th>\n",
       "      <td>u2ja/bZE3zhCGxvbbOB3zOoUjx27u40cf5g09UXMoKQ=</td>\n",
       "      <td>原諒我</td>\n",
       "      <td>TWA530887303</td>\n",
       "    </tr>\n",
       "    <tr>\n",
       "      <th>3</th>\n",
       "      <td>92Fqsy0+p6+RHe2EoLKjHahORHR1Kq1TBJoClW9v+Ts=</td>\n",
       "      <td>Classic</td>\n",
       "      <td>USSM11301446</td>\n",
       "    </tr>\n",
       "    <tr>\n",
       "      <th>4</th>\n",
       "      <td>0QFmz/+rJy1Q56C1DuYqT9hKKqi5TUqx0sN0IwvoHrw=</td>\n",
       "      <td>愛投羅網</td>\n",
       "      <td>TWA471306001</td>\n",
       "    </tr>\n",
       "  </tbody>\n",
       "</table>\n",
       "</div>"
      ],
      "text/plain": [
       "                                        song_id             name          isrc\n",
       "0  LP7pLJoJFBvyuUwvu+oLzjT+bI+UeBPURCecJsX1jjs=               我們  TWUM71200043\n",
       "1  ClazTFnk6r0Bnuie44bocdNMM3rdlrq0bCGAsGUWcHE=  Let Me Love You  QMZSY1600015\n",
       "2  u2ja/bZE3zhCGxvbbOB3zOoUjx27u40cf5g09UXMoKQ=              原諒我  TWA530887303\n",
       "3  92Fqsy0+p6+RHe2EoLKjHahORHR1Kq1TBJoClW9v+Ts=          Classic  USSM11301446\n",
       "4  0QFmz/+rJy1Q56C1DuYqT9hKKqi5TUqx0sN0IwvoHrw=             愛投羅網  TWA471306001"
      ]
     },
     "execution_count": 6,
     "metadata": {},
     "output_type": "execute_result"
    }
   ],
   "source": [
    "song_extra_info_df = pd.read_csv(\"song_extra_info.csv\")\n",
    "song_extra_info_df.head()\n"
   ]
  },
  {
   "cell_type": "code",
   "execution_count": 7,
   "id": "2931d2e3",
   "metadata": {},
   "outputs": [
    {
     "data": {
      "text/plain": [
       "(2295971, 3)"
      ]
     },
     "execution_count": 7,
     "metadata": {},
     "output_type": "execute_result"
    }
   ],
   "source": [
    "## Checking shape\n",
    "song_extra_info_df.shape"
   ]
  },
  {
   "cell_type": "markdown",
   "id": "973b36bd",
   "metadata": {},
   "source": [
    "# EDA"
   ]
  },
  {
   "cell_type": "code",
   "execution_count": 8,
   "id": "69a7c7cd",
   "metadata": {},
   "outputs": [
    {
     "data": {
      "text/plain": [
       "msno                    0\n",
       "song_id                 0\n",
       "source_system_tab      91\n",
       "source_screen_name    969\n",
       "source_type            64\n",
       "target                  0\n",
       "dtype: int64"
      ]
     },
     "execution_count": 8,
     "metadata": {},
     "output_type": "execute_result"
    }
   ],
   "source": [
    "## Checking for missing values\n",
    "train_df.isna().sum()"
   ]
  },
  {
   "cell_type": "markdown",
   "id": "f5173736",
   "metadata": {},
   "source": [
    "I have to take only msno and song_id columns from this dataset.Both have not any missing values.  "
   ]
  },
  {
   "cell_type": "code",
   "execution_count": 9,
   "id": "31ffdc42",
   "metadata": {},
   "outputs": [
    {
     "data": {
      "text/plain": [
       "song_id            0\n",
       "song_length        0\n",
       "genre_ids        494\n",
       "artist_name        0\n",
       "composer       12511\n",
       "lyricist       21554\n",
       "language           0\n",
       "dtype: int64"
      ]
     },
     "execution_count": 9,
     "metadata": {},
     "output_type": "execute_result"
    }
   ],
   "source": [
    "song_df.isna().sum()"
   ]
  },
  {
   "cell_type": "markdown",
   "id": "713f0144",
   "metadata": {},
   "source": [
    "So, in this dataset, I'll take all columns except song_length and language.  "
   ]
  },
  {
   "cell_type": "code",
   "execution_count": 10,
   "id": "a7d68d1d",
   "metadata": {},
   "outputs": [
    {
     "data": {
      "text/plain": [
       "song_id         0\n",
       "name            2\n",
       "isrc       136548\n",
       "dtype: int64"
      ]
     },
     "execution_count": 10,
     "metadata": {},
     "output_type": "execute_result"
    }
   ],
   "source": [
    "song_extra_info_df.isna().sum()\n"
   ]
  },
  {
   "cell_type": "markdown",
   "id": "4c9a1771",
   "metadata": {},
   "source": [
    "I have to take only song_id and name column, so I'll handle null values only in 'name' column. "
   ]
  },
  {
   "cell_type": "code",
   "execution_count": 11,
   "id": "ff5ec827",
   "metadata": {},
   "outputs": [
    {
     "data": {
      "text/plain": [
       "msno                  object\n",
       "song_id               object\n",
       "source_system_tab     object\n",
       "source_screen_name    object\n",
       "source_type           object\n",
       "target                 int64\n",
       "dtype: object"
      ]
     },
     "execution_count": 11,
     "metadata": {},
     "output_type": "execute_result"
    }
   ],
   "source": [
    "## Data Types of all the datasets:-\n",
    "\n",
    "train_df.dtypes"
   ]
  },
  {
   "cell_type": "code",
   "execution_count": 12,
   "id": "e1972001",
   "metadata": {},
   "outputs": [
    {
     "data": {
      "text/plain": [
       "song_id         object\n",
       "song_length      int64\n",
       "genre_ids       object\n",
       "artist_name     object\n",
       "composer        object\n",
       "lyricist        object\n",
       "language       float64\n",
       "dtype: object"
      ]
     },
     "execution_count": 12,
     "metadata": {},
     "output_type": "execute_result"
    }
   ],
   "source": [
    "song_df.dtypes\n"
   ]
  },
  {
   "cell_type": "code",
   "execution_count": 13,
   "id": "36a33928",
   "metadata": {},
   "outputs": [
    {
     "data": {
      "text/plain": [
       "song_id    object\n",
       "name       object\n",
       "isrc       object\n",
       "dtype: object"
      ]
     },
     "execution_count": 13,
     "metadata": {},
     "output_type": "execute_result"
    }
   ],
   "source": [
    "song_extra_info_df.dtypes\n"
   ]
  },
  {
   "cell_type": "markdown",
   "id": "b83b4f8b",
   "metadata": {},
   "source": [
    "# Visualization"
   ]
  },
  {
   "cell_type": "markdown",
   "id": "ef714fd0",
   "metadata": {},
   "source": [
    "For recommending songs, genre, artist name, composer, lyricist , these are important factors, \n",
    "so I'll focus only on these attributes."
   ]
  },
  {
   "cell_type": "code",
   "execution_count": 14,
   "id": "855a33c5",
   "metadata": {},
   "outputs": [
    {
     "data": {
      "text/plain": [
       "465              12015\n",
       "1609              1740\n",
       "2022              1573\n",
       "921               1217\n",
       "958               1185\n",
       "                 ...  \n",
       "331                  1\n",
       "2248|1259            1\n",
       "2130|2122|958        1\n",
       "465|2122|423         1\n",
       "829|726              1\n",
       "Name: genre_ids, Length: 321, dtype: int64"
      ]
     },
     "execution_count": 14,
     "metadata": {},
     "output_type": "execute_result"
    }
   ],
   "source": [
    "song_df['genre_ids'].value_counts()\n"
   ]
  },
  {
   "cell_type": "code",
   "execution_count": 15,
   "id": "4bedd887",
   "metadata": {},
   "outputs": [
    {
     "data": {
      "image/png": "[encoded data removed]",
      "text/plain": [
       "<Figure size 432x288 with 1 Axes>"
      ]
     },
     "metadata": {
      "needs_background": "light"
     },
     "output_type": "display_data"
    }
   ],
   "source": [
    "song_df['genre_ids'].value_counts()[:5].plot(kind='bar')\n",
    "plt.xlabel('Genre IDs')\n",
    "plt.ylabel('Value Counts')\n",
    "plt.title(\"Bar Chart of Top 5 Genre_IDs\",\n",
    "          color=\"green\",\n",
    "          fontsize=15);\n"
   ]
  },
  {
   "cell_type": "markdown",
   "id": "d5e34d86",
   "metadata": {},
   "source": [
    "song_df dataset contains large no. of songs with Genre_id with value 465."
   ]
  },
  {
   "cell_type": "code",
   "execution_count": 16,
   "id": "0e96d01f",
   "metadata": {},
   "outputs": [
    {
     "data": {
      "text/plain": [
       "Various Artists                                                                    1370\n",
       "証聲音樂圖書館 ECHO MUSIC                                                                  301\n",
       "貴族精選                                                                                104\n",
       "張學友 (Jacky Cheung)                                                                   96\n",
       "霹靂布袋戲劇集原聲帶                                                                           88\n",
       "                                                                                   ... \n",
       "Laura Wright                                                                          1\n",
       "Marmalade                                                                             1\n",
       "放射空間 (Ground Zero)                                                                    1\n",
       "긱스|소유 (씨스타)                                                                           1\n",
       "101 Piano Classics: Best Classical Songs & Sad Piano Music Collective & Ambient       1\n",
       "Name: artist_name, Length: 10776, dtype: int64"
      ]
     },
     "execution_count": 16,
     "metadata": {},
     "output_type": "execute_result"
    }
   ],
   "source": [
    "song_df['artist_name'].value_counts()\n"
   ]
  },
  {
   "cell_type": "code",
   "execution_count": 17,
   "id": "b77a5a97",
   "metadata": {},
   "outputs": [
    {
     "data": {
      "text/plain": [
       "Neuromancer                                               156\n",
       "佚名                                                        115\n",
       "Wolfgang Amadeus Mozart                                    85\n",
       "Traditional                                                75\n",
       "Johann Sebastian Bach                                      71\n",
       "                                                         ... \n",
       "김윤성                                                         1\n",
       "Yee Law                                                     1\n",
       "Fernando José Montesinos Guerrero| Elmer Figueroa Arce      1\n",
       "Choi Hyung Suk| Joe Han June                                1\n",
       "Andrew Stockdale                                            1\n",
       "Name: composer, Length: 11691, dtype: int64"
      ]
     },
     "execution_count": 17,
     "metadata": {},
     "output_type": "execute_result"
    }
   ],
   "source": [
    "song_df['composer'].value_counts()\n"
   ]
  },
  {
   "cell_type": "markdown",
   "id": "2af580ed",
   "metadata": {},
   "source": [
    "# Data Preprocessing"
   ]
  },
  {
   "cell_type": "code",
   "execution_count": 18,
   "id": "4c6a9050",
   "metadata": {},
   "outputs": [
    {
     "data": {
      "text/plain": [
       "song_id            0\n",
       "song_length        0\n",
       "genre_ids        494\n",
       "artist_name        0\n",
       "composer       12511\n",
       "lyricist       21554\n",
       "language           0\n",
       "dtype: int64"
      ]
     },
     "execution_count": 18,
     "metadata": {},
     "output_type": "execute_result"
    }
   ],
   "source": [
    "song_df.isna().sum()"
   ]
  },
  {
   "cell_type": "markdown",
   "id": "ad3fc87b",
   "metadata": {},
   "source": [
    "So, Filling Nan values only for genre_ids,composer and lyricist"
   ]
  },
  {
   "cell_type": "markdown",
   "id": "f6d231eb",
   "metadata": {},
   "source": [
    "# Filling NaNs/Missing Values with Empty String.\n"
   ]
  },
  {
   "cell_type": "code",
   "execution_count": 19,
   "id": "6082a1d2",
   "metadata": {},
   "outputs": [],
   "source": [
    "song_df['genre_ids'].fillna(' ', inplace=True)\n",
    "song_df['composer'].fillna(' ', inplace=True)\n",
    "song_df['lyricist'].fillna(' ', inplace=True)\n",
    "\n"
   ]
  },
  {
   "cell_type": "code",
   "execution_count": 20,
   "id": "e10ce8d0",
   "metadata": {},
   "outputs": [
    {
     "data": {
      "text/plain": [
       "song_id        0\n",
       "song_length    0\n",
       "genre_ids      0\n",
       "artist_name    0\n",
       "composer       0\n",
       "lyricist       0\n",
       "language       0\n",
       "dtype: int64"
      ]
     },
     "execution_count": 20,
     "metadata": {},
     "output_type": "execute_result"
    }
   ],
   "source": [
    "song_df.isna().sum()"
   ]
  },
  {
   "cell_type": "code",
   "execution_count": 21,
   "id": "49a0f3a5",
   "metadata": {},
   "outputs": [
    {
     "data": {
      "text/plain": [
       "msno                    0\n",
       "song_id                 0\n",
       "source_system_tab      91\n",
       "source_screen_name    969\n",
       "source_type            64\n",
       "target                  0\n",
       "dtype: int64"
      ]
     },
     "execution_count": 21,
     "metadata": {},
     "output_type": "execute_result"
    }
   ],
   "source": [
    "train_df.isna().sum()"
   ]
  },
  {
   "cell_type": "markdown",
   "id": "3487fe2b",
   "metadata": {},
   "source": [
    "Here, I have to take only msno and song_id, so will not do any thing here."
   ]
  },
  {
   "cell_type": "code",
   "execution_count": 22,
   "id": "53fed4ae",
   "metadata": {},
   "outputs": [
    {
     "data": {
      "text/plain": [
       "song_id         0\n",
       "name            2\n",
       "isrc       136548\n",
       "dtype: int64"
      ]
     },
     "execution_count": 22,
     "metadata": {},
     "output_type": "execute_result"
    }
   ],
   "source": [
    "song_extra_info_df.isna().sum()"
   ]
  },
  {
   "cell_type": "markdown",
   "id": "cf101975",
   "metadata": {},
   "source": [
    "I have to take song_id and name column only, so will drop nan values for name column only because only 2 missing values are present."
   ]
  },
  {
   "cell_type": "code",
   "execution_count": 23,
   "id": "df711400",
   "metadata": {},
   "outputs": [],
   "source": [
    "song_extra_info_df['name'] = song_extra_info_df['name'].dropna()\n"
   ]
  },
  {
   "cell_type": "code",
   "execution_count": 24,
   "id": "a73679b5",
   "metadata": {},
   "outputs": [
    {
     "data": {
      "text/plain": [
       "song_id         0\n",
       "name            2\n",
       "isrc       136548\n",
       "dtype: int64"
      ]
     },
     "execution_count": 24,
     "metadata": {},
     "output_type": "execute_result"
    }
   ],
   "source": [
    "song_extra_info_df.isna().sum()"
   ]
  },
  {
   "cell_type": "markdown",
   "id": "34f80471",
   "metadata": {},
   "source": [
    "Now for merging datasets to take out necessary columns to do recommendation"
   ]
  },
  {
   "cell_type": "markdown",
   "id": "55eb9b80",
   "metadata": {},
   "source": [
    "# Preparing Final Dataset"
   ]
  },
  {
   "cell_type": "code",
   "execution_count": 25,
   "id": "10f31541",
   "metadata": {},
   "outputs": [
    {
     "data": {
      "text/html": [
       "<div>\n",
       "<style scoped>\n",
       "    .dataframe tbody tr th:only-of-type {\n",
       "        vertical-align: middle;\n",
       "    }\n",
       "\n",
       "    .dataframe tbody tr th {\n",
       "        vertical-align: top;\n",
       "    }\n",
       "\n",
       "    .dataframe thead th {\n",
       "        text-align: right;\n",
       "    }\n",
       "</style>\n",
       "<table border=\"1\" class=\"dataframe\">\n",
       "  <thead>\n",
       "    <tr style=\"text-align: right;\">\n",
       "      <th></th>\n",
       "      <th>msno</th>\n",
       "      <th>song_id</th>\n",
       "    </tr>\n",
       "  </thead>\n",
       "  <tbody>\n",
       "    <tr>\n",
       "      <th>0</th>\n",
       "      <td>FGtllVqz18RPiwJj/edr2gV78zirAiY/9SmYvia+kCg=</td>\n",
       "      <td>BBzumQNXUHKdEBOB7mAJuzok+IJA1c2Ryg/yzTF6tik=</td>\n",
       "    </tr>\n",
       "    <tr>\n",
       "      <th>1</th>\n",
       "      <td>Xumu+NIjS6QYVxDS4/t3SawvJ7viT9hPKXmf0RtLNx8=</td>\n",
       "      <td>bhp/MpSNoqoxOIB+/l8WPqu6jldth4DIpCm3ayXnJqM=</td>\n",
       "    </tr>\n",
       "    <tr>\n",
       "      <th>2</th>\n",
       "      <td>Xumu+NIjS6QYVxDS4/t3SawvJ7viT9hPKXmf0RtLNx8=</td>\n",
       "      <td>JNWfrrC7zNN7BdMpsISKa4Mw+xVJYNnxXh3/Epw7QgY=</td>\n",
       "    </tr>\n",
       "    <tr>\n",
       "      <th>3</th>\n",
       "      <td>Xumu+NIjS6QYVxDS4/t3SawvJ7viT9hPKXmf0RtLNx8=</td>\n",
       "      <td>2A87tzfnJTSWqD7gIZHisolhe4DMdzkbd6LzO1KHjNs=</td>\n",
       "    </tr>\n",
       "    <tr>\n",
       "      <th>4</th>\n",
       "      <td>FGtllVqz18RPiwJj/edr2gV78zirAiY/9SmYvia+kCg=</td>\n",
       "      <td>3qm6XTZ6MOCU11x8FIVbAGH5l5uMkT3/ZalWG1oo2Gc=</td>\n",
       "    </tr>\n",
       "  </tbody>\n",
       "</table>\n",
       "</div>"
      ],
      "text/plain": [
       "                                           msno  \\\n",
       "0  FGtllVqz18RPiwJj/edr2gV78zirAiY/9SmYvia+kCg=   \n",
       "1  Xumu+NIjS6QYVxDS4/t3SawvJ7viT9hPKXmf0RtLNx8=   \n",
       "2  Xumu+NIjS6QYVxDS4/t3SawvJ7viT9hPKXmf0RtLNx8=   \n",
       "3  Xumu+NIjS6QYVxDS4/t3SawvJ7viT9hPKXmf0RtLNx8=   \n",
       "4  FGtllVqz18RPiwJj/edr2gV78zirAiY/9SmYvia+kCg=   \n",
       "\n",
       "                                        song_id  \n",
       "0  BBzumQNXUHKdEBOB7mAJuzok+IJA1c2Ryg/yzTF6tik=  \n",
       "1  bhp/MpSNoqoxOIB+/l8WPqu6jldth4DIpCm3ayXnJqM=  \n",
       "2  JNWfrrC7zNN7BdMpsISKa4Mw+xVJYNnxXh3/Epw7QgY=  \n",
       "3  2A87tzfnJTSWqD7gIZHisolhe4DMdzkbd6LzO1KHjNs=  \n",
       "4  3qm6XTZ6MOCU11x8FIVbAGH5l5uMkT3/ZalWG1oo2Gc=  "
      ]
     },
     "execution_count": 25,
     "metadata": {},
     "output_type": "execute_result"
    }
   ],
   "source": [
    "final_df = train_df.drop(['source_system_tab', 'source_screen_name', 'source_type', 'target'], axis = 1)\n",
    "final_df.head()\n"
   ]
  },
  {
   "cell_type": "markdown",
   "id": "8617354d",
   "metadata": {},
   "source": [
    "# Merging final_df with song_df"
   ]
  },
  {
   "cell_type": "code",
   "execution_count": 26,
   "id": "010eccec",
   "metadata": {},
   "outputs": [
    {
     "data": {
      "text/html": [
       "<div>\n",
       "<style scoped>\n",
       "    .dataframe tbody tr th:only-of-type {\n",
       "        vertical-align: middle;\n",
       "    }\n",
       "\n",
       "    .dataframe tbody tr th {\n",
       "        vertical-align: top;\n",
       "    }\n",
       "\n",
       "    .dataframe thead th {\n",
       "        text-align: right;\n",
       "    }\n",
       "</style>\n",
       "<table border=\"1\" class=\"dataframe\">\n",
       "  <thead>\n",
       "    <tr style=\"text-align: right;\">\n",
       "      <th></th>\n",
       "      <th>msno</th>\n",
       "      <th>song_id</th>\n",
       "      <th>genre_ids</th>\n",
       "      <th>artist_name</th>\n",
       "      <th>composer</th>\n",
       "      <th>lyricist</th>\n",
       "    </tr>\n",
       "  </thead>\n",
       "  <tbody>\n",
       "    <tr>\n",
       "      <th>0</th>\n",
       "      <td>FGtllVqz18RPiwJj/edr2gV78zirAiY/9SmYvia+kCg=</td>\n",
       "      <td>3Hg5kugV1S0wzEVLAEfqjIV5UHzb7bCrdBRQlGygLvU=</td>\n",
       "      <td>1259</td>\n",
       "      <td>Desiigner</td>\n",
       "      <td>Sidney Selby| Adnan Khan</td>\n",
       "      <td></td>\n",
       "    </tr>\n",
       "    <tr>\n",
       "      <th>1</th>\n",
       "      <td>hZyOA+0yqClPLt6uIEndf8fG8szH/95eKMbaxLE5z30=</td>\n",
       "      <td>3Hg5kugV1S0wzEVLAEfqjIV5UHzb7bCrdBRQlGygLvU=</td>\n",
       "      <td>1259</td>\n",
       "      <td>Desiigner</td>\n",
       "      <td>Sidney Selby| Adnan Khan</td>\n",
       "      <td></td>\n",
       "    </tr>\n",
       "    <tr>\n",
       "      <th>2</th>\n",
       "      <td>XMkoCF4lkuInFshS1maokU4hZEQI2L1ZFQ3Cf7xg184=</td>\n",
       "      <td>3Hg5kugV1S0wzEVLAEfqjIV5UHzb7bCrdBRQlGygLvU=</td>\n",
       "      <td>1259</td>\n",
       "      <td>Desiigner</td>\n",
       "      <td>Sidney Selby| Adnan Khan</td>\n",
       "      <td></td>\n",
       "    </tr>\n",
       "    <tr>\n",
       "      <th>3</th>\n",
       "      <td>kpCpM9wsXhj+Maa6kRAvUJJzE1dyeyPmBDtPoUr4a1o=</td>\n",
       "      <td>3Hg5kugV1S0wzEVLAEfqjIV5UHzb7bCrdBRQlGygLvU=</td>\n",
       "      <td>1259</td>\n",
       "      <td>Desiigner</td>\n",
       "      <td>Sidney Selby| Adnan Khan</td>\n",
       "      <td></td>\n",
       "    </tr>\n",
       "    <tr>\n",
       "      <th>4</th>\n",
       "      <td>jiMKblWJS85kSNBCNvyW9Vz3nlfDfQQbuvPczyWMY1U=</td>\n",
       "      <td>3Hg5kugV1S0wzEVLAEfqjIV5UHzb7bCrdBRQlGygLvU=</td>\n",
       "      <td>1259</td>\n",
       "      <td>Desiigner</td>\n",
       "      <td>Sidney Selby| Adnan Khan</td>\n",
       "      <td></td>\n",
       "    </tr>\n",
       "  </tbody>\n",
       "</table>\n",
       "</div>"
      ],
      "text/plain": [
       "                                           msno  \\\n",
       "0  FGtllVqz18RPiwJj/edr2gV78zirAiY/9SmYvia+kCg=   \n",
       "1  hZyOA+0yqClPLt6uIEndf8fG8szH/95eKMbaxLE5z30=   \n",
       "2  XMkoCF4lkuInFshS1maokU4hZEQI2L1ZFQ3Cf7xg184=   \n",
       "3  kpCpM9wsXhj+Maa6kRAvUJJzE1dyeyPmBDtPoUr4a1o=   \n",
       "4  jiMKblWJS85kSNBCNvyW9Vz3nlfDfQQbuvPczyWMY1U=   \n",
       "\n",
       "                                        song_id genre_ids artist_name  \\\n",
       "0  3Hg5kugV1S0wzEVLAEfqjIV5UHzb7bCrdBRQlGygLvU=      1259   Desiigner   \n",
       "1  3Hg5kugV1S0wzEVLAEfqjIV5UHzb7bCrdBRQlGygLvU=      1259   Desiigner   \n",
       "2  3Hg5kugV1S0wzEVLAEfqjIV5UHzb7bCrdBRQlGygLvU=      1259   Desiigner   \n",
       "3  3Hg5kugV1S0wzEVLAEfqjIV5UHzb7bCrdBRQlGygLvU=      1259   Desiigner   \n",
       "4  3Hg5kugV1S0wzEVLAEfqjIV5UHzb7bCrdBRQlGygLvU=      1259   Desiigner   \n",
       "\n",
       "                   composer lyricist  \n",
       "0  Sidney Selby| Adnan Khan           \n",
       "1  Sidney Selby| Adnan Khan           \n",
       "2  Sidney Selby| Adnan Khan           \n",
       "3  Sidney Selby| Adnan Khan           \n",
       "4  Sidney Selby| Adnan Khan           "
      ]
     },
     "execution_count": 26,
     "metadata": {},
     "output_type": "execute_result"
    }
   ],
   "source": [
    "final_df = final_df.merge(song_df, on='song_id')\n",
    "final_df = final_df.drop(['song_length', 'language'], axis=1)\n",
    "final_df.head()\n"
   ]
  },
  {
   "cell_type": "markdown",
   "id": "1b51e62d",
   "metadata": {},
   "source": [
    "# Now merging with song_extra_info_df"
   ]
  },
  {
   "cell_type": "code",
   "execution_count": 27,
   "id": "b5c0e418",
   "metadata": {},
   "outputs": [
    {
     "data": {
      "text/html": [
       "<div>\n",
       "<style scoped>\n",
       "    .dataframe tbody tr th:only-of-type {\n",
       "        vertical-align: middle;\n",
       "    }\n",
       "\n",
       "    .dataframe tbody tr th {\n",
       "        vertical-align: top;\n",
       "    }\n",
       "\n",
       "    .dataframe thead th {\n",
       "        text-align: right;\n",
       "    }\n",
       "</style>\n",
       "<table border=\"1\" class=\"dataframe\">\n",
       "  <thead>\n",
       "    <tr style=\"text-align: right;\">\n",
       "      <th></th>\n",
       "      <th>msno</th>\n",
       "      <th>song_id</th>\n",
       "      <th>genre_ids</th>\n",
       "      <th>artist_name</th>\n",
       "      <th>composer</th>\n",
       "      <th>lyricist</th>\n",
       "      <th>name</th>\n",
       "    </tr>\n",
       "  </thead>\n",
       "  <tbody>\n",
       "    <tr>\n",
       "      <th>0</th>\n",
       "      <td>FGtllVqz18RPiwJj/edr2gV78zirAiY/9SmYvia+kCg=</td>\n",
       "      <td>3Hg5kugV1S0wzEVLAEfqjIV5UHzb7bCrdBRQlGygLvU=</td>\n",
       "      <td>1259</td>\n",
       "      <td>Desiigner</td>\n",
       "      <td>Sidney Selby| Adnan Khan</td>\n",
       "      <td></td>\n",
       "      <td>Panda</td>\n",
       "    </tr>\n",
       "    <tr>\n",
       "      <th>1</th>\n",
       "      <td>hZyOA+0yqClPLt6uIEndf8fG8szH/95eKMbaxLE5z30=</td>\n",
       "      <td>3Hg5kugV1S0wzEVLAEfqjIV5UHzb7bCrdBRQlGygLvU=</td>\n",
       "      <td>1259</td>\n",
       "      <td>Desiigner</td>\n",
       "      <td>Sidney Selby| Adnan Khan</td>\n",
       "      <td></td>\n",
       "      <td>Panda</td>\n",
       "    </tr>\n",
       "    <tr>\n",
       "      <th>2</th>\n",
       "      <td>XMkoCF4lkuInFshS1maokU4hZEQI2L1ZFQ3Cf7xg184=</td>\n",
       "      <td>3Hg5kugV1S0wzEVLAEfqjIV5UHzb7bCrdBRQlGygLvU=</td>\n",
       "      <td>1259</td>\n",
       "      <td>Desiigner</td>\n",
       "      <td>Sidney Selby| Adnan Khan</td>\n",
       "      <td></td>\n",
       "      <td>Panda</td>\n",
       "    </tr>\n",
       "    <tr>\n",
       "      <th>3</th>\n",
       "      <td>kpCpM9wsXhj+Maa6kRAvUJJzE1dyeyPmBDtPoUr4a1o=</td>\n",
       "      <td>3Hg5kugV1S0wzEVLAEfqjIV5UHzb7bCrdBRQlGygLvU=</td>\n",
       "      <td>1259</td>\n",
       "      <td>Desiigner</td>\n",
       "      <td>Sidney Selby| Adnan Khan</td>\n",
       "      <td></td>\n",
       "      <td>Panda</td>\n",
       "    </tr>\n",
       "    <tr>\n",
       "      <th>4</th>\n",
       "      <td>jiMKblWJS85kSNBCNvyW9Vz3nlfDfQQbuvPczyWMY1U=</td>\n",
       "      <td>3Hg5kugV1S0wzEVLAEfqjIV5UHzb7bCrdBRQlGygLvU=</td>\n",
       "      <td>1259</td>\n",
       "      <td>Desiigner</td>\n",
       "      <td>Sidney Selby| Adnan Khan</td>\n",
       "      <td></td>\n",
       "      <td>Panda</td>\n",
       "    </tr>\n",
       "  </tbody>\n",
       "</table>\n",
       "</div>"
      ],
      "text/plain": [
       "                                           msno  \\\n",
       "0  FGtllVqz18RPiwJj/edr2gV78zirAiY/9SmYvia+kCg=   \n",
       "1  hZyOA+0yqClPLt6uIEndf8fG8szH/95eKMbaxLE5z30=   \n",
       "2  XMkoCF4lkuInFshS1maokU4hZEQI2L1ZFQ3Cf7xg184=   \n",
       "3  kpCpM9wsXhj+Maa6kRAvUJJzE1dyeyPmBDtPoUr4a1o=   \n",
       "4  jiMKblWJS85kSNBCNvyW9Vz3nlfDfQQbuvPczyWMY1U=   \n",
       "\n",
       "                                        song_id genre_ids artist_name  \\\n",
       "0  3Hg5kugV1S0wzEVLAEfqjIV5UHzb7bCrdBRQlGygLvU=      1259   Desiigner   \n",
       "1  3Hg5kugV1S0wzEVLAEfqjIV5UHzb7bCrdBRQlGygLvU=      1259   Desiigner   \n",
       "2  3Hg5kugV1S0wzEVLAEfqjIV5UHzb7bCrdBRQlGygLvU=      1259   Desiigner   \n",
       "3  3Hg5kugV1S0wzEVLAEfqjIV5UHzb7bCrdBRQlGygLvU=      1259   Desiigner   \n",
       "4  3Hg5kugV1S0wzEVLAEfqjIV5UHzb7bCrdBRQlGygLvU=      1259   Desiigner   \n",
       "\n",
       "                   composer lyricist   name  \n",
       "0  Sidney Selby| Adnan Khan           Panda  \n",
       "1  Sidney Selby| Adnan Khan           Panda  \n",
       "2  Sidney Selby| Adnan Khan           Panda  \n",
       "3  Sidney Selby| Adnan Khan           Panda  \n",
       "4  Sidney Selby| Adnan Khan           Panda  "
      ]
     },
     "execution_count": 27,
     "metadata": {},
     "output_type": "execute_result"
    }
   ],
   "source": [
    "final_df = final_df.merge(song_extra_info_df, on='song_id').drop('isrc', axis=1)\n",
    "final_df.head()\n"
   ]
  },
  {
   "cell_type": "markdown",
   "id": "9775ab14",
   "metadata": {},
   "source": [
    "# Renaming columns"
   ]
  },
  {
   "cell_type": "code",
   "execution_count": 28,
   "id": "da1b600e",
   "metadata": {},
   "outputs": [
    {
     "data": {
      "text/html": [
       "<div>\n",
       "<style scoped>\n",
       "    .dataframe tbody tr th:only-of-type {\n",
       "        vertical-align: middle;\n",
       "    }\n",
       "\n",
       "    .dataframe tbody tr th {\n",
       "        vertical-align: top;\n",
       "    }\n",
       "\n",
       "    .dataframe thead th {\n",
       "        text-align: right;\n",
       "    }\n",
       "</style>\n",
       "<table border=\"1\" class=\"dataframe\">\n",
       "  <thead>\n",
       "    <tr style=\"text-align: right;\">\n",
       "      <th></th>\n",
       "      <th>user_id</th>\n",
       "      <th>song_id</th>\n",
       "      <th>genre_ids</th>\n",
       "      <th>artist_name</th>\n",
       "      <th>composer</th>\n",
       "      <th>lyricist</th>\n",
       "      <th>song_name</th>\n",
       "    </tr>\n",
       "  </thead>\n",
       "  <tbody>\n",
       "    <tr>\n",
       "      <th>0</th>\n",
       "      <td>FGtllVqz18RPiwJj/edr2gV78zirAiY/9SmYvia+kCg=</td>\n",
       "      <td>3Hg5kugV1S0wzEVLAEfqjIV5UHzb7bCrdBRQlGygLvU=</td>\n",
       "      <td>1259</td>\n",
       "      <td>Desiigner</td>\n",
       "      <td>Sidney Selby| Adnan Khan</td>\n",
       "      <td></td>\n",
       "      <td>Panda</td>\n",
       "    </tr>\n",
       "    <tr>\n",
       "      <th>1</th>\n",
       "      <td>hZyOA+0yqClPLt6uIEndf8fG8szH/95eKMbaxLE5z30=</td>\n",
       "      <td>3Hg5kugV1S0wzEVLAEfqjIV5UHzb7bCrdBRQlGygLvU=</td>\n",
       "      <td>1259</td>\n",
       "      <td>Desiigner</td>\n",
       "      <td>Sidney Selby| Adnan Khan</td>\n",
       "      <td></td>\n",
       "      <td>Panda</td>\n",
       "    </tr>\n",
       "    <tr>\n",
       "      <th>2</th>\n",
       "      <td>XMkoCF4lkuInFshS1maokU4hZEQI2L1ZFQ3Cf7xg184=</td>\n",
       "      <td>3Hg5kugV1S0wzEVLAEfqjIV5UHzb7bCrdBRQlGygLvU=</td>\n",
       "      <td>1259</td>\n",
       "      <td>Desiigner</td>\n",
       "      <td>Sidney Selby| Adnan Khan</td>\n",
       "      <td></td>\n",
       "      <td>Panda</td>\n",
       "    </tr>\n",
       "    <tr>\n",
       "      <th>3</th>\n",
       "      <td>kpCpM9wsXhj+Maa6kRAvUJJzE1dyeyPmBDtPoUr4a1o=</td>\n",
       "      <td>3Hg5kugV1S0wzEVLAEfqjIV5UHzb7bCrdBRQlGygLvU=</td>\n",
       "      <td>1259</td>\n",
       "      <td>Desiigner</td>\n",
       "      <td>Sidney Selby| Adnan Khan</td>\n",
       "      <td></td>\n",
       "      <td>Panda</td>\n",
       "    </tr>\n",
       "    <tr>\n",
       "      <th>4</th>\n",
       "      <td>jiMKblWJS85kSNBCNvyW9Vz3nlfDfQQbuvPczyWMY1U=</td>\n",
       "      <td>3Hg5kugV1S0wzEVLAEfqjIV5UHzb7bCrdBRQlGygLvU=</td>\n",
       "      <td>1259</td>\n",
       "      <td>Desiigner</td>\n",
       "      <td>Sidney Selby| Adnan Khan</td>\n",
       "      <td></td>\n",
       "      <td>Panda</td>\n",
       "    </tr>\n",
       "  </tbody>\n",
       "</table>\n",
       "</div>"
      ],
      "text/plain": [
       "                                        user_id  \\\n",
       "0  FGtllVqz18RPiwJj/edr2gV78zirAiY/9SmYvia+kCg=   \n",
       "1  hZyOA+0yqClPLt6uIEndf8fG8szH/95eKMbaxLE5z30=   \n",
       "2  XMkoCF4lkuInFshS1maokU4hZEQI2L1ZFQ3Cf7xg184=   \n",
       "3  kpCpM9wsXhj+Maa6kRAvUJJzE1dyeyPmBDtPoUr4a1o=   \n",
       "4  jiMKblWJS85kSNBCNvyW9Vz3nlfDfQQbuvPczyWMY1U=   \n",
       "\n",
       "                                        song_id genre_ids artist_name  \\\n",
       "0  3Hg5kugV1S0wzEVLAEfqjIV5UHzb7bCrdBRQlGygLvU=      1259   Desiigner   \n",
       "1  3Hg5kugV1S0wzEVLAEfqjIV5UHzb7bCrdBRQlGygLvU=      1259   Desiigner   \n",
       "2  3Hg5kugV1S0wzEVLAEfqjIV5UHzb7bCrdBRQlGygLvU=      1259   Desiigner   \n",
       "3  3Hg5kugV1S0wzEVLAEfqjIV5UHzb7bCrdBRQlGygLvU=      1259   Desiigner   \n",
       "4  3Hg5kugV1S0wzEVLAEfqjIV5UHzb7bCrdBRQlGygLvU=      1259   Desiigner   \n",
       "\n",
       "                   composer lyricist song_name  \n",
       "0  Sidney Selby| Adnan Khan              Panda  \n",
       "1  Sidney Selby| Adnan Khan              Panda  \n",
       "2  Sidney Selby| Adnan Khan              Panda  \n",
       "3  Sidney Selby| Adnan Khan              Panda  \n",
       "4  Sidney Selby| Adnan Khan              Panda  "
      ]
     },
     "execution_count": 28,
     "metadata": {},
     "output_type": "execute_result"
    }
   ],
   "source": [
    "final_df.rename(columns={'msno':'user_id','name' : 'song_name'}, inplace=True)\n",
    "final_df.head()\n"
   ]
  },
  {
   "cell_type": "markdown",
   "id": "a2960680",
   "metadata": {},
   "source": [
    "# Performing preprocessing for final dataframe"
   ]
  },
  {
   "cell_type": "code",
   "execution_count": 29,
   "id": "e74c6471",
   "metadata": {},
   "outputs": [
    {
     "data": {
      "text/plain": [
       "465         1683\n",
       "458          847\n",
       "444          135\n",
       "921          133\n",
       "1609         132\n",
       "            ... \n",
       "465|1011       1\n",
       "388|940        1\n",
       "880            1\n",
       "1955           1\n",
       "465|2022       1\n",
       "Name: genre_ids, Length: 62, dtype: int64"
      ]
     },
     "execution_count": 29,
     "metadata": {},
     "output_type": "execute_result"
    }
   ],
   "source": [
    "final_df['genre_ids'].value_counts()\n"
   ]
  },
  {
   "cell_type": "markdown",
   "id": "3347800c",
   "metadata": {},
   "source": [
    "So from above we can see that some of the ids contains '|'.I'll replace it with blank space ' '"
   ]
  },
  {
   "cell_type": "code",
   "execution_count": 30,
   "id": "9ff93ded",
   "metadata": {},
   "outputs": [
    {
     "data": {
      "text/plain": [
       "465         1683\n",
       "458          847\n",
       "444          135\n",
       "921          133\n",
       "1609         132\n",
       "            ... \n",
       "388            1\n",
       "1955           1\n",
       "465 1011       1\n",
       "474            1\n",
       "465 2022       1\n",
       "Name: genre_ids, Length: 62, dtype: int64"
      ]
     },
     "execution_count": 30,
     "metadata": {},
     "output_type": "execute_result"
    }
   ],
   "source": [
    "final_df['genre_ids'] = final_df['genre_ids'].str.replace('|', ' ', regex=True)\n",
    "final_df['genre_ids'].value_counts()\n"
   ]
  },
  {
   "cell_type": "markdown",
   "id": "90debb7d",
   "metadata": {},
   "source": [
    "When analysing csv file, I saw In attributes artist_name, composer and lyricist, '/' and '|' symbols are present.Replacing \n",
    "them by blank space."
   ]
  },
  {
   "cell_type": "code",
   "execution_count": 31,
   "id": "7e18e9d5",
   "metadata": {},
   "outputs": [],
   "source": [
    "final_df['artist_name'] = final_df['artist_name'].str.replace( '|',' ', regex=True)\n",
    "final_df['artist_name'] = final_df['artist_name'].str.replace( '/',' ',  regex=True)\n",
    "\n",
    "final_df['lyricist'] = final_df['lyricist'].str.replace( '|',' ', regex=True)\n",
    "final_df['lyricist'] = final_df['lyricist'].str.replace( '/',' ', regex=True)\n",
    "\n",
    "final_df['composer'] = final_df['composer'].str.replace( '|',' ', regex=True)\n",
    "final_df['composer'] = final_df['composer'].str.replace( '/',' ', regex=True)\n"
   ]
  },
  {
   "cell_type": "markdown",
   "id": "84923ccf",
   "metadata": {},
   "source": [
    "# Converting string into Lower Case for uniformity\n"
   ]
  },
  {
   "cell_type": "code",
   "execution_count": 32,
   "id": "fd37c8da",
   "metadata": {},
   "outputs": [],
   "source": [
    "final_df['artist_name']  = final_df['artist_name'].str.lower()\n",
    "final_df['lyricist']  = final_df['lyricist'].str.lower()\n",
    "final_df['composer']  = final_df['composer'].str.lower()\n"
   ]
  },
  {
   "cell_type": "code",
   "execution_count": 33,
   "id": "4956ccd0",
   "metadata": {},
   "outputs": [
    {
     "data": {
      "text/plain": [
       "(3523, 7)"
      ]
     },
     "execution_count": 33,
     "metadata": {},
     "output_type": "execute_result"
    }
   ],
   "source": [
    "final_df.shape"
   ]
  },
  {
   "cell_type": "code",
   "execution_count": 34,
   "id": "27755e12",
   "metadata": {},
   "outputs": [
    {
     "name": "stdout",
     "output_type": "stream",
     "text": [
      "There are 1458 unique songs in the dataset\n"
     ]
    }
   ],
   "source": [
    "#Unique songs\n",
    "unique_songs = final_df['song_id'].unique().shape[0]\n",
    "print(f\"There are {unique_songs} unique songs in the dataset\")\n"
   ]
  },
  {
   "cell_type": "code",
   "execution_count": 35,
   "id": "dcebd701",
   "metadata": {},
   "outputs": [
    {
     "name": "stdout",
     "output_type": "stream",
     "text": [
      "There are 781 unique artists in the dataset\n"
     ]
    }
   ],
   "source": [
    "#Unique artists\n",
    "unique_artists = final_df['artist_name'].unique().shape[0]\n",
    "print(f\"There are {unique_artists} unique artists in the dataset\")\n"
   ]
  },
  {
   "cell_type": "code",
   "execution_count": 36,
   "id": "07288877",
   "metadata": {},
   "outputs": [
    {
     "name": "stdout",
     "output_type": "stream",
     "text": [
      "There are 1753 unique users in the dataset\n"
     ]
    }
   ],
   "source": [
    "#Unique users\n",
    "unique_users = final_df['user_id'].unique().shape[0]\n",
    "print(f\"There are {unique_users} unique users in the dataset\")\n"
   ]
  },
  {
   "cell_type": "markdown",
   "id": "c42d27e5",
   "metadata": {},
   "source": [
    "# Most Popular Songs"
   ]
  },
  {
   "cell_type": "code",
   "execution_count": 37,
   "id": "58ea8553",
   "metadata": {},
   "outputs": [],
   "source": [
    "popular_songs = final_df.groupby('song_name')['song_id'].count().reset_index().sort_values(['song_id', 'song_name'], ascending = False)\n"
   ]
  },
  {
   "cell_type": "code",
   "execution_count": 38,
   "id": "5ee03d2b",
   "metadata": {},
   "outputs": [
    {
     "data": {
      "text/html": [
       "<div>\n",
       "<style scoped>\n",
       "    .dataframe tbody tr th:only-of-type {\n",
       "        vertical-align: middle;\n",
       "    }\n",
       "\n",
       "    .dataframe tbody tr th {\n",
       "        vertical-align: top;\n",
       "    }\n",
       "\n",
       "    .dataframe thead th {\n",
       "        text-align: right;\n",
       "    }\n",
       "</style>\n",
       "<table border=\"1\" class=\"dataframe\">\n",
       "  <thead>\n",
       "    <tr style=\"text-align: right;\">\n",
       "      <th></th>\n",
       "      <th>song_name</th>\n",
       "      <th>song_id</th>\n",
       "    </tr>\n",
       "  </thead>\n",
       "  <tbody>\n",
       "    <tr>\n",
       "      <th>932</th>\n",
       "      <td>帥到分手</td>\n",
       "      <td>127</td>\n",
       "    </tr>\n",
       "    <tr>\n",
       "      <th>874</th>\n",
       "      <td>好好 (想把你寫成一首歌) (Song About You)</td>\n",
       "      <td>77</td>\n",
       "    </tr>\n",
       "    <tr>\n",
       "      <th>841</th>\n",
       "      <td>夜空中最亮的星</td>\n",
       "      <td>54</td>\n",
       "    </tr>\n",
       "    <tr>\n",
       "      <th>1343</th>\n",
       "      <td>這是我 (This is me)</td>\n",
       "      <td>51</td>\n",
       "    </tr>\n",
       "    <tr>\n",
       "      <th>1340</th>\n",
       "      <td>迷些路 (Lost On The Way)</td>\n",
       "      <td>43</td>\n",
       "    </tr>\n",
       "  </tbody>\n",
       "</table>\n",
       "</div>"
      ],
      "text/plain": [
       "                           song_name  song_id\n",
       "932                             帥到分手      127\n",
       "874   好好 (想把你寫成一首歌) (Song About You)       77\n",
       "841                          夜空中最亮的星       54\n",
       "1343                這是我 (This is me)       51\n",
       "1340           迷些路 (Lost On The Way)       43"
      ]
     },
     "execution_count": 38,
     "metadata": {},
     "output_type": "execute_result"
    }
   ],
   "source": [
    "popular_songs.head()"
   ]
  },
  {
   "cell_type": "code",
   "execution_count": 39,
   "id": "4438ef6c",
   "metadata": {},
   "outputs": [
    {
     "data": {
      "text/plain": [
       "(1429, 2)"
      ]
     },
     "execution_count": 39,
     "metadata": {},
     "output_type": "execute_result"
    }
   ],
   "source": [
    "popular_songs.shape"
   ]
  },
  {
   "cell_type": "markdown",
   "id": "9c799e98",
   "metadata": {},
   "source": [
    "# Most popular artist\n"
   ]
  },
  {
   "cell_type": "code",
   "execution_count": 40,
   "id": "6a88255c",
   "metadata": {},
   "outputs": [],
   "source": [
    "#count how many rows we have by artist name, we show only the ten more popular artist \n",
    "popular_artists  = final_df.groupby(['artist_name'])['song_id'].count().reset_index().sort_values(['song_id', 'artist_name'], \n",
    "                                                                                                ascending = False)\n"
   ]
  },
  {
   "cell_type": "code",
   "execution_count": 41,
   "id": "7ff0d0c3",
   "metadata": {},
   "outputs": [
    {
     "data": {
      "text/html": [
       "<div>\n",
       "<style scoped>\n",
       "    .dataframe tbody tr th:only-of-type {\n",
       "        vertical-align: middle;\n",
       "    }\n",
       "\n",
       "    .dataframe tbody tr th {\n",
       "        vertical-align: top;\n",
       "    }\n",
       "\n",
       "    .dataframe thead th {\n",
       "        text-align: right;\n",
       "    }\n",
       "</style>\n",
       "<table border=\"1\" class=\"dataframe\">\n",
       "  <thead>\n",
       "    <tr style=\"text-align: right;\">\n",
       "      <th></th>\n",
       "      <th>artist_name</th>\n",
       "      <th>song_id</th>\n",
       "    </tr>\n",
       "  </thead>\n",
       "  <tbody>\n",
       "    <tr>\n",
       "      <th>399</th>\n",
       "      <td>various artists</td>\n",
       "      <td>133</td>\n",
       "    </tr>\n",
       "    <tr>\n",
       "      <th>472</th>\n",
       "      <td>周湯豪 (nickthereal)</td>\n",
       "      <td>128</td>\n",
       "    </tr>\n",
       "    <tr>\n",
       "      <th>427</th>\n",
       "      <td>五月天 (mayday)</td>\n",
       "      <td>120</td>\n",
       "    </tr>\n",
       "    <tr>\n",
       "      <th>470</th>\n",
       "      <td>周杰倫 (jay chou)</td>\n",
       "      <td>118</td>\n",
       "    </tr>\n",
       "    <tr>\n",
       "      <th>157</th>\n",
       "      <td>g.e.m.鄧紫棋</td>\n",
       "      <td>86</td>\n",
       "    </tr>\n",
       "  </tbody>\n",
       "</table>\n",
       "</div>"
      ],
      "text/plain": [
       "           artist_name  song_id\n",
       "399    various artists      133\n",
       "472  周湯豪 (nickthereal)      128\n",
       "427       五月天 (mayday)      120\n",
       "470     周杰倫 (jay chou)      118\n",
       "157          g.e.m.鄧紫棋       86"
      ]
     },
     "execution_count": 41,
     "metadata": {},
     "output_type": "execute_result"
    }
   ],
   "source": [
    "popular_artists.head()"
   ]
  },
  {
   "cell_type": "code",
   "execution_count": 42,
   "id": "6196cce0",
   "metadata": {},
   "outputs": [
    {
     "data": {
      "text/plain": [
       "(781, 2)"
      ]
     },
     "execution_count": 42,
     "metadata": {},
     "output_type": "execute_result"
    }
   ],
   "source": [
    "popular_artists.shape"
   ]
  },
  {
   "cell_type": "code",
   "execution_count": 43,
   "id": "ee5209c9",
   "metadata": {},
   "outputs": [],
   "source": [
    "## How many songs does a user listen in average?\n",
    "\n",
    "\n",
    "song_listen_count = final_df.groupby(['user_id'])['song_id'].count().reset_index().rename(columns = {'song_id':'avg_listen_count'})[['user_id','avg_listen_count']]\n"
   ]
  },
  {
   "cell_type": "code",
   "execution_count": 44,
   "id": "db264973",
   "metadata": {},
   "outputs": [
    {
     "data": {
      "text/plain": [
       "(1753, 2)"
      ]
     },
     "execution_count": 44,
     "metadata": {},
     "output_type": "execute_result"
    }
   ],
   "source": [
    "song_listen_count.shape"
   ]
  },
  {
   "cell_type": "code",
   "execution_count": 45,
   "id": "bcbb2861",
   "metadata": {},
   "outputs": [
    {
     "data": {
      "text/html": [
       "<div>\n",
       "<style scoped>\n",
       "    .dataframe tbody tr th:only-of-type {\n",
       "        vertical-align: middle;\n",
       "    }\n",
       "\n",
       "    .dataframe tbody tr th {\n",
       "        vertical-align: top;\n",
       "    }\n",
       "\n",
       "    .dataframe thead th {\n",
       "        text-align: right;\n",
       "    }\n",
       "</style>\n",
       "<table border=\"1\" class=\"dataframe\">\n",
       "  <thead>\n",
       "    <tr style=\"text-align: right;\">\n",
       "      <th></th>\n",
       "      <th>user_id</th>\n",
       "      <th>avg_listen_count</th>\n",
       "    </tr>\n",
       "  </thead>\n",
       "  <tbody>\n",
       "    <tr>\n",
       "      <th>0</th>\n",
       "      <td>+1a0wTElsAMdYysWZk1uBxeLnjxIc4vB2EznisNlpVw=</td>\n",
       "      <td>2</td>\n",
       "    </tr>\n",
       "    <tr>\n",
       "      <th>1</th>\n",
       "      <td>+6qXndZ2nMn0cyAWZlBfOBGVqolfO2CRo1MdVznK7Kg=</td>\n",
       "      <td>3</td>\n",
       "    </tr>\n",
       "    <tr>\n",
       "      <th>2</th>\n",
       "      <td>+87NgMj9nzysibH2vfBohydix5G7HN/mvxYGOXETgGk=</td>\n",
       "      <td>1</td>\n",
       "    </tr>\n",
       "    <tr>\n",
       "      <th>3</th>\n",
       "      <td>+9U5XsTQd6B+ol1h5wm87oMz/+cas2Eu3ig6h7HyH8s=</td>\n",
       "      <td>2</td>\n",
       "    </tr>\n",
       "    <tr>\n",
       "      <th>4</th>\n",
       "      <td>+Ez0nI/qWfSARukmK2mqdW6rffcVoJf5y74BEo+7NQ0=</td>\n",
       "      <td>5</td>\n",
       "    </tr>\n",
       "  </tbody>\n",
       "</table>\n",
       "</div>"
      ],
      "text/plain": [
       "                                        user_id  avg_listen_count\n",
       "0  +1a0wTElsAMdYysWZk1uBxeLnjxIc4vB2EznisNlpVw=                 2\n",
       "1  +6qXndZ2nMn0cyAWZlBfOBGVqolfO2CRo1MdVznK7Kg=                 3\n",
       "2  +87NgMj9nzysibH2vfBohydix5G7HN/mvxYGOXETgGk=                 1\n",
       "3  +9U5XsTQd6B+ol1h5wm87oMz/+cas2Eu3ig6h7HyH8s=                 2\n",
       "4  +Ez0nI/qWfSARukmK2mqdW6rffcVoJf5y74BEo+7NQ0=                 5"
      ]
     },
     "execution_count": 45,
     "metadata": {},
     "output_type": "execute_result"
    }
   ],
   "source": [
    "song_listen_count.head()"
   ]
  },
  {
   "cell_type": "code",
   "execution_count": 46,
   "id": "810fd933",
   "metadata": {},
   "outputs": [],
   "source": [
    "final_df = final_df.merge(song_listen_count,on ='user_id',how = 'left' )"
   ]
  },
  {
   "cell_type": "code",
   "execution_count": 47,
   "id": "baa15f90",
   "metadata": {},
   "outputs": [
    {
     "data": {
      "text/html": [
       "<div>\n",
       "<style scoped>\n",
       "    .dataframe tbody tr th:only-of-type {\n",
       "        vertical-align: middle;\n",
       "    }\n",
       "\n",
       "    .dataframe tbody tr th {\n",
       "        vertical-align: top;\n",
       "    }\n",
       "\n",
       "    .dataframe thead th {\n",
       "        text-align: right;\n",
       "    }\n",
       "</style>\n",
       "<table border=\"1\" class=\"dataframe\">\n",
       "  <thead>\n",
       "    <tr style=\"text-align: right;\">\n",
       "      <th></th>\n",
       "      <th>user_id</th>\n",
       "      <th>song_id</th>\n",
       "      <th>genre_ids</th>\n",
       "      <th>artist_name</th>\n",
       "      <th>composer</th>\n",
       "      <th>lyricist</th>\n",
       "      <th>song_name</th>\n",
       "      <th>avg_listen_count</th>\n",
       "    </tr>\n",
       "  </thead>\n",
       "  <tbody>\n",
       "    <tr>\n",
       "      <th>0</th>\n",
       "      <td>FGtllVqz18RPiwJj/edr2gV78zirAiY/9SmYvia+kCg=</td>\n",
       "      <td>3Hg5kugV1S0wzEVLAEfqjIV5UHzb7bCrdBRQlGygLvU=</td>\n",
       "      <td>1259</td>\n",
       "      <td>desiigner</td>\n",
       "      <td>sidney selby  adnan khan</td>\n",
       "      <td></td>\n",
       "      <td>Panda</td>\n",
       "      <td>4</td>\n",
       "    </tr>\n",
       "    <tr>\n",
       "      <th>1</th>\n",
       "      <td>hZyOA+0yqClPLt6uIEndf8fG8szH/95eKMbaxLE5z30=</td>\n",
       "      <td>3Hg5kugV1S0wzEVLAEfqjIV5UHzb7bCrdBRQlGygLvU=</td>\n",
       "      <td>1259</td>\n",
       "      <td>desiigner</td>\n",
       "      <td>sidney selby  adnan khan</td>\n",
       "      <td></td>\n",
       "      <td>Panda</td>\n",
       "      <td>2</td>\n",
       "    </tr>\n",
       "    <tr>\n",
       "      <th>2</th>\n",
       "      <td>XMkoCF4lkuInFshS1maokU4hZEQI2L1ZFQ3Cf7xg184=</td>\n",
       "      <td>3Hg5kugV1S0wzEVLAEfqjIV5UHzb7bCrdBRQlGygLvU=</td>\n",
       "      <td>1259</td>\n",
       "      <td>desiigner</td>\n",
       "      <td>sidney selby  adnan khan</td>\n",
       "      <td></td>\n",
       "      <td>Panda</td>\n",
       "      <td>2</td>\n",
       "    </tr>\n",
       "    <tr>\n",
       "      <th>3</th>\n",
       "      <td>kpCpM9wsXhj+Maa6kRAvUJJzE1dyeyPmBDtPoUr4a1o=</td>\n",
       "      <td>3Hg5kugV1S0wzEVLAEfqjIV5UHzb7bCrdBRQlGygLvU=</td>\n",
       "      <td>1259</td>\n",
       "      <td>desiigner</td>\n",
       "      <td>sidney selby  adnan khan</td>\n",
       "      <td></td>\n",
       "      <td>Panda</td>\n",
       "      <td>2</td>\n",
       "    </tr>\n",
       "    <tr>\n",
       "      <th>4</th>\n",
       "      <td>jiMKblWJS85kSNBCNvyW9Vz3nlfDfQQbuvPczyWMY1U=</td>\n",
       "      <td>3Hg5kugV1S0wzEVLAEfqjIV5UHzb7bCrdBRQlGygLvU=</td>\n",
       "      <td>1259</td>\n",
       "      <td>desiigner</td>\n",
       "      <td>sidney selby  adnan khan</td>\n",
       "      <td></td>\n",
       "      <td>Panda</td>\n",
       "      <td>4</td>\n",
       "    </tr>\n",
       "  </tbody>\n",
       "</table>\n",
       "</div>"
      ],
      "text/plain": [
       "                                        user_id  \\\n",
       "0  FGtllVqz18RPiwJj/edr2gV78zirAiY/9SmYvia+kCg=   \n",
       "1  hZyOA+0yqClPLt6uIEndf8fG8szH/95eKMbaxLE5z30=   \n",
       "2  XMkoCF4lkuInFshS1maokU4hZEQI2L1ZFQ3Cf7xg184=   \n",
       "3  kpCpM9wsXhj+Maa6kRAvUJJzE1dyeyPmBDtPoUr4a1o=   \n",
       "4  jiMKblWJS85kSNBCNvyW9Vz3nlfDfQQbuvPczyWMY1U=   \n",
       "\n",
       "                                        song_id genre_ids artist_name  \\\n",
       "0  3Hg5kugV1S0wzEVLAEfqjIV5UHzb7bCrdBRQlGygLvU=      1259   desiigner   \n",
       "1  3Hg5kugV1S0wzEVLAEfqjIV5UHzb7bCrdBRQlGygLvU=      1259   desiigner   \n",
       "2  3Hg5kugV1S0wzEVLAEfqjIV5UHzb7bCrdBRQlGygLvU=      1259   desiigner   \n",
       "3  3Hg5kugV1S0wzEVLAEfqjIV5UHzb7bCrdBRQlGygLvU=      1259   desiigner   \n",
       "4  3Hg5kugV1S0wzEVLAEfqjIV5UHzb7bCrdBRQlGygLvU=      1259   desiigner   \n",
       "\n",
       "                   composer lyricist song_name  avg_listen_count  \n",
       "0  sidney selby  adnan khan              Panda                 4  \n",
       "1  sidney selby  adnan khan              Panda                 2  \n",
       "2  sidney selby  adnan khan              Panda                 2  \n",
       "3  sidney selby  adnan khan              Panda                 2  \n",
       "4  sidney selby  adnan khan              Panda                 4  "
      ]
     },
     "execution_count": 47,
     "metadata": {},
     "output_type": "execute_result"
    }
   ],
   "source": [
    "final_df.head()"
   ]
  },
  {
   "cell_type": "code",
   "execution_count": 48,
   "id": "0f36b71c",
   "metadata": {},
   "outputs": [
    {
     "data": {
      "text/plain": [
       "(3523, 8)"
      ]
     },
     "execution_count": 48,
     "metadata": {},
     "output_type": "execute_result"
    }
   ],
   "source": [
    "final_df.shape"
   ]
  },
  {
   "cell_type": "code",
   "execution_count": 49,
   "id": "bfb1de13",
   "metadata": {},
   "outputs": [
    {
     "data": {
      "text/html": [
       "<div>\n",
       "<style scoped>\n",
       "    .dataframe tbody tr th:only-of-type {\n",
       "        vertical-align: middle;\n",
       "    }\n",
       "\n",
       "    .dataframe tbody tr th {\n",
       "        vertical-align: top;\n",
       "    }\n",
       "\n",
       "    .dataframe thead th {\n",
       "        text-align: right;\n",
       "    }\n",
       "</style>\n",
       "<table border=\"1\" class=\"dataframe\">\n",
       "  <thead>\n",
       "    <tr style=\"text-align: right;\">\n",
       "      <th></th>\n",
       "      <th>user_id</th>\n",
       "      <th>song_id</th>\n",
       "      <th>genre_ids</th>\n",
       "      <th>artist_name</th>\n",
       "      <th>composer</th>\n",
       "      <th>lyricist</th>\n",
       "      <th>song_name</th>\n",
       "      <th>avg_listen_count</th>\n",
       "    </tr>\n",
       "  </thead>\n",
       "  <tbody>\n",
       "    <tr>\n",
       "      <th>0</th>\n",
       "      <td>FGtllVqz18RPiwJj/edr2gV78zirAiY/9SmYvia+kCg=</td>\n",
       "      <td>3Hg5kugV1S0wzEVLAEfqjIV5UHzb7bCrdBRQlGygLvU=</td>\n",
       "      <td>1259</td>\n",
       "      <td>desiigner</td>\n",
       "      <td>sidney selby  adnan khan</td>\n",
       "      <td></td>\n",
       "      <td>Panda</td>\n",
       "      <td>4</td>\n",
       "    </tr>\n",
       "    <tr>\n",
       "      <th>1</th>\n",
       "      <td>hZyOA+0yqClPLt6uIEndf8fG8szH/95eKMbaxLE5z30=</td>\n",
       "      <td>3Hg5kugV1S0wzEVLAEfqjIV5UHzb7bCrdBRQlGygLvU=</td>\n",
       "      <td>1259</td>\n",
       "      <td>desiigner</td>\n",
       "      <td>sidney selby  adnan khan</td>\n",
       "      <td></td>\n",
       "      <td>Panda</td>\n",
       "      <td>2</td>\n",
       "    </tr>\n",
       "    <tr>\n",
       "      <th>2</th>\n",
       "      <td>XMkoCF4lkuInFshS1maokU4hZEQI2L1ZFQ3Cf7xg184=</td>\n",
       "      <td>3Hg5kugV1S0wzEVLAEfqjIV5UHzb7bCrdBRQlGygLvU=</td>\n",
       "      <td>1259</td>\n",
       "      <td>desiigner</td>\n",
       "      <td>sidney selby  adnan khan</td>\n",
       "      <td></td>\n",
       "      <td>Panda</td>\n",
       "      <td>2</td>\n",
       "    </tr>\n",
       "    <tr>\n",
       "      <th>3</th>\n",
       "      <td>kpCpM9wsXhj+Maa6kRAvUJJzE1dyeyPmBDtPoUr4a1o=</td>\n",
       "      <td>3Hg5kugV1S0wzEVLAEfqjIV5UHzb7bCrdBRQlGygLvU=</td>\n",
       "      <td>1259</td>\n",
       "      <td>desiigner</td>\n",
       "      <td>sidney selby  adnan khan</td>\n",
       "      <td></td>\n",
       "      <td>Panda</td>\n",
       "      <td>2</td>\n",
       "    </tr>\n",
       "    <tr>\n",
       "      <th>4</th>\n",
       "      <td>jiMKblWJS85kSNBCNvyW9Vz3nlfDfQQbuvPczyWMY1U=</td>\n",
       "      <td>3Hg5kugV1S0wzEVLAEfqjIV5UHzb7bCrdBRQlGygLvU=</td>\n",
       "      <td>1259</td>\n",
       "      <td>desiigner</td>\n",
       "      <td>sidney selby  adnan khan</td>\n",
       "      <td></td>\n",
       "      <td>Panda</td>\n",
       "      <td>4</td>\n",
       "    </tr>\n",
       "  </tbody>\n",
       "</table>\n",
       "</div>"
      ],
      "text/plain": [
       "                                        user_id  \\\n",
       "0  FGtllVqz18RPiwJj/edr2gV78zirAiY/9SmYvia+kCg=   \n",
       "1  hZyOA+0yqClPLt6uIEndf8fG8szH/95eKMbaxLE5z30=   \n",
       "2  XMkoCF4lkuInFshS1maokU4hZEQI2L1ZFQ3Cf7xg184=   \n",
       "3  kpCpM9wsXhj+Maa6kRAvUJJzE1dyeyPmBDtPoUr4a1o=   \n",
       "4  jiMKblWJS85kSNBCNvyW9Vz3nlfDfQQbuvPczyWMY1U=   \n",
       "\n",
       "                                        song_id genre_ids artist_name  \\\n",
       "0  3Hg5kugV1S0wzEVLAEfqjIV5UHzb7bCrdBRQlGygLvU=      1259   desiigner   \n",
       "1  3Hg5kugV1S0wzEVLAEfqjIV5UHzb7bCrdBRQlGygLvU=      1259   desiigner   \n",
       "2  3Hg5kugV1S0wzEVLAEfqjIV5UHzb7bCrdBRQlGygLvU=      1259   desiigner   \n",
       "3  3Hg5kugV1S0wzEVLAEfqjIV5UHzb7bCrdBRQlGygLvU=      1259   desiigner   \n",
       "4  3Hg5kugV1S0wzEVLAEfqjIV5UHzb7bCrdBRQlGygLvU=      1259   desiigner   \n",
       "\n",
       "                   composer lyricist song_name  avg_listen_count  \n",
       "0  sidney selby  adnan khan              Panda                 4  \n",
       "1  sidney selby  adnan khan              Panda                 2  \n",
       "2  sidney selby  adnan khan              Panda                 2  \n",
       "3  sidney selby  adnan khan              Panda                 2  \n",
       "4  sidney selby  adnan khan              Panda                 4  "
      ]
     },
     "execution_count": 49,
     "metadata": {},
     "output_type": "execute_result"
    }
   ],
   "source": [
    "final_df.head()"
   ]
  },
  {
   "cell_type": "code",
   "execution_count": 50,
   "id": "c9f0ec3d",
   "metadata": {},
   "outputs": [],
   "source": [
    "song_user = final_df.groupby('user_id')['song_id'].count()\n"
   ]
  },
  {
   "cell_type": "code",
   "execution_count": 51,
   "id": "ad13ad97",
   "metadata": {},
   "outputs": [
    {
     "name": "stdout",
     "output_type": "stream",
     "text": [
      "A user listens to an average of 2.0096976611523103 songs\n"
     ]
    }
   ],
   "source": [
    "print(f\"A user listens to an average of {np.mean(song_user)} songs\")\n"
   ]
  },
  {
   "cell_type": "code",
   "execution_count": 52,
   "id": "1f026907",
   "metadata": {},
   "outputs": [
    {
     "name": "stdout",
     "output_type": "stream",
     "text": [
      "A user listens to an average of 1.0 songs, with minimum 1 and maximum 34 songs\n"
     ]
    }
   ],
   "source": [
    "print(f\"A user listens to an average of {np.median(song_user)} songs, with minimum {np.min(song_user)} and maximum {np.max(song_user)} songs\")\n"
   ]
  },
  {
   "cell_type": "markdown",
   "id": "4afa65d3",
   "metadata": {},
   "source": [
    "We can see that a user listens in average to 2 songs. Even the maximum amount of songs listen by an user is 34, and we have 3523 songs in our dataset.\n",
    "\n",
    "So, not all user listen to all songs, so a lot of values in the song x users matrix are going to be zero. Thus, we’ll be dealing with extremely sparse data.\n",
    "\n"
   ]
  },
  {
   "cell_type": "code",
   "execution_count": 53,
   "id": "2bad02ab",
   "metadata": {},
   "outputs": [],
   "source": [
    "values_matrix = unique_users * unique_songs\n"
   ]
  },
  {
   "cell_type": "code",
   "execution_count": 54,
   "id": "9eff4429",
   "metadata": {},
   "outputs": [],
   "source": [
    "zero_values_matrix = values_matrix - final_df.shape[0]\n"
   ]
  },
  {
   "cell_type": "code",
   "execution_count": 55,
   "id": "235edd93",
   "metadata": {},
   "outputs": [
    {
     "name": "stdout",
     "output_type": "stream",
     "text": [
      "The matrix of users x songs has 2552351 values that are zero\n"
     ]
    }
   ],
   "source": [
    "print(f\"The matrix of users x songs has {zero_values_matrix} values that are zero\")\n"
   ]
  },
  {
   "cell_type": "markdown",
   "id": "ba7a4579",
   "metadata": {},
   "source": [
    "## Dealing with such a sparse matrix, we'll take a lot of memory and resources. To make easier, let's just select all those users that have listened to at least  2 songs.\n",
    "\n"
   ]
  },
  {
   "cell_type": "code",
   "execution_count": 56,
   "id": "17ac2fa3",
   "metadata": {},
   "outputs": [],
   "source": [
    "# Get users which have listen to at least 2 songs\n",
    "song_t_id = song_user[song_user > 2].index.to_list()\n"
   ]
  },
  {
   "cell_type": "code",
   "execution_count": 57,
   "id": "74b14d04",
   "metadata": {},
   "outputs": [],
   "source": [
    "# Filtered the dataset to keep only those users with more than 2 listened\n",
    "df_song_id_more_two = final_df[final_df['user_id'].isin(song_t_id)].reset_index(drop=True)\n"
   ]
  },
  {
   "cell_type": "code",
   "execution_count": 58,
   "id": "8e9b1ccb",
   "metadata": {},
   "outputs": [],
   "source": [
    "from scipy.sparse import csr_matrix\n",
    "\n",
    "# convert the dataframe into a pivot table\n",
    "df_songs_features = df_song_id_more_two.pivot(index='song_id', columns='user_id', values='avg_listen_count').fillna(0)\n",
    "\n",
    "# obtain a sparse matrix\n",
    "mat_songs_features = csr_matrix(df_songs_features.values)\n"
   ]
  },
  {
   "cell_type": "code",
   "execution_count": 59,
   "id": "5414765f",
   "metadata": {},
   "outputs": [
    {
     "data": {
      "text/html": [
       "<div>\n",
       "<style scoped>\n",
       "    .dataframe tbody tr th:only-of-type {\n",
       "        vertical-align: middle;\n",
       "    }\n",
       "\n",
       "    .dataframe tbody tr th {\n",
       "        vertical-align: top;\n",
       "    }\n",
       "\n",
       "    .dataframe thead th {\n",
       "        text-align: right;\n",
       "    }\n",
       "</style>\n",
       "<table border=\"1\" class=\"dataframe\">\n",
       "  <thead>\n",
       "    <tr style=\"text-align: right;\">\n",
       "      <th>user_id</th>\n",
       "      <th>+6qXndZ2nMn0cyAWZlBfOBGVqolfO2CRo1MdVznK7Kg=</th>\n",
       "      <th>+Ez0nI/qWfSARukmK2mqdW6rffcVoJf5y74BEo+7NQ0=</th>\n",
       "      <th>+Y+wTRRkZ0QA3bV4+7nwu8qlN5Kb7ygMhqvB5L929YI=</th>\n",
       "      <th>+aVBg5Dxo76UZL++0OFJUVW4LFOkhccy/U0NeMisBLo=</th>\n",
       "      <th>+qfv8JlG0jAVxP0tawbvpHA1WFtWBtEbwa74uoQTeh4=</th>\n",
       "      <th>/44F6AQCO2bz1TcSgAu5O0BWf8rAkAl7deB1orof7Ho=</th>\n",
       "      <th>/5nuIXE1veq8SP+0eBLarWW5+kJLWHwhpS6O8mFVPO0=</th>\n",
       "      <th>/XhRwPF08aF9hNUb/yN8Rbz6+LSghFkDoa2OX8zef48=</th>\n",
       "      <th>/mkt7jOTiWXeq2c3mUhVF0SayqpWbF1D7OUYYNreCiA=</th>\n",
       "      <th>07lCno3fuSM5XcKCBNtOIZBxumvUmEicmV+SBIAzPUo=</th>\n",
       "      <th>...</th>\n",
       "      <th>z27xJQmVRtXwq8ZBSeGGy7OUxwmgVlm8dRPix/JNFac=</th>\n",
       "      <th>z2IYoGWjJJPv4ySp+1lCIfU1APu2YRHsjY2sy2ehq0k=</th>\n",
       "      <th>z8f9Ms1BVEl08/nOmya8RYBhAzOUUrZR7yfuzupprzI=</th>\n",
       "      <th>zIVDNYrxuU1XALBSVZtZgwSWFK3ds3Ac9Egoy2h4304=</th>\n",
       "      <th>zRfOEH4Bl09lWEbWtYVEp5CffQ5VBDcSNFLumK291As=</th>\n",
       "      <th>zUbVBvS4+Rbl13lYdUrcyYLmeslbs/ourmea6l6hBds=</th>\n",
       "      <th>zXLzFiB5jQaph3W2EyGi5DGsUloRPcoVTG4VI5ullew=</th>\n",
       "      <th>zr2MEjwpv7bxzJ61TLLBPUoyoSnRqrD8p9BTyUIEXBE=</th>\n",
       "      <th>zx51OvMA6lJ+iNxD6lZnUppO8ZKHhuKBIAgGXAObgqQ=</th>\n",
       "      <th>zyCQN/h38OmzYOsR6ecE+b7GFkO2eCHoxT1tXoFdUjA=</th>\n",
       "    </tr>\n",
       "    <tr>\n",
       "      <th>song_id</th>\n",
       "      <th></th>\n",
       "      <th></th>\n",
       "      <th></th>\n",
       "      <th></th>\n",
       "      <th></th>\n",
       "      <th></th>\n",
       "      <th></th>\n",
       "      <th></th>\n",
       "      <th></th>\n",
       "      <th></th>\n",
       "      <th></th>\n",
       "      <th></th>\n",
       "      <th></th>\n",
       "      <th></th>\n",
       "      <th></th>\n",
       "      <th></th>\n",
       "      <th></th>\n",
       "      <th></th>\n",
       "      <th></th>\n",
       "      <th></th>\n",
       "      <th></th>\n",
       "    </tr>\n",
       "  </thead>\n",
       "  <tbody>\n",
       "    <tr>\n",
       "      <th>+3VBxMwSEK8RRCBdDpVPEHlezOYVBS7UXZdQcy1SK2k=</th>\n",
       "      <td>0.0</td>\n",
       "      <td>0.0</td>\n",
       "      <td>0.0</td>\n",
       "      <td>0.0</td>\n",
       "      <td>0.0</td>\n",
       "      <td>0.0</td>\n",
       "      <td>0.0</td>\n",
       "      <td>0.0</td>\n",
       "      <td>0.0</td>\n",
       "      <td>0.0</td>\n",
       "      <td>...</td>\n",
       "      <td>0.0</td>\n",
       "      <td>0.0</td>\n",
       "      <td>0.0</td>\n",
       "      <td>0.0</td>\n",
       "      <td>0.0</td>\n",
       "      <td>0.0</td>\n",
       "      <td>0.0</td>\n",
       "      <td>0.0</td>\n",
       "      <td>0.0</td>\n",
       "      <td>0.0</td>\n",
       "    </tr>\n",
       "    <tr>\n",
       "      <th>+7lDydxTue8a1N6QAPau0w2izu8qqPOdJq561QfKKH0=</th>\n",
       "      <td>0.0</td>\n",
       "      <td>0.0</td>\n",
       "      <td>0.0</td>\n",
       "      <td>0.0</td>\n",
       "      <td>0.0</td>\n",
       "      <td>0.0</td>\n",
       "      <td>0.0</td>\n",
       "      <td>0.0</td>\n",
       "      <td>0.0</td>\n",
       "      <td>0.0</td>\n",
       "      <td>...</td>\n",
       "      <td>0.0</td>\n",
       "      <td>0.0</td>\n",
       "      <td>0.0</td>\n",
       "      <td>0.0</td>\n",
       "      <td>0.0</td>\n",
       "      <td>0.0</td>\n",
       "      <td>0.0</td>\n",
       "      <td>0.0</td>\n",
       "      <td>0.0</td>\n",
       "      <td>0.0</td>\n",
       "    </tr>\n",
       "    <tr>\n",
       "      <th>+A746gr9EKmfVvPAkkLSEqddZxnzGhk19sez5yLFE4o=</th>\n",
       "      <td>0.0</td>\n",
       "      <td>0.0</td>\n",
       "      <td>0.0</td>\n",
       "      <td>0.0</td>\n",
       "      <td>0.0</td>\n",
       "      <td>0.0</td>\n",
       "      <td>0.0</td>\n",
       "      <td>0.0</td>\n",
       "      <td>0.0</td>\n",
       "      <td>0.0</td>\n",
       "      <td>...</td>\n",
       "      <td>0.0</td>\n",
       "      <td>0.0</td>\n",
       "      <td>0.0</td>\n",
       "      <td>0.0</td>\n",
       "      <td>0.0</td>\n",
       "      <td>0.0</td>\n",
       "      <td>0.0</td>\n",
       "      <td>0.0</td>\n",
       "      <td>8.0</td>\n",
       "      <td>0.0</td>\n",
       "    </tr>\n",
       "    <tr>\n",
       "      <th>+BuoFaAw+sbIYkgPW7ReKkPQpJbW9zvT8+UU3bU7iKU=</th>\n",
       "      <td>0.0</td>\n",
       "      <td>0.0</td>\n",
       "      <td>0.0</td>\n",
       "      <td>5.0</td>\n",
       "      <td>0.0</td>\n",
       "      <td>0.0</td>\n",
       "      <td>0.0</td>\n",
       "      <td>0.0</td>\n",
       "      <td>0.0</td>\n",
       "      <td>0.0</td>\n",
       "      <td>...</td>\n",
       "      <td>0.0</td>\n",
       "      <td>0.0</td>\n",
       "      <td>0.0</td>\n",
       "      <td>0.0</td>\n",
       "      <td>0.0</td>\n",
       "      <td>0.0</td>\n",
       "      <td>0.0</td>\n",
       "      <td>0.0</td>\n",
       "      <td>0.0</td>\n",
       "      <td>0.0</td>\n",
       "    </tr>\n",
       "    <tr>\n",
       "      <th>+Gh4vigxWuY4cL0rXPDUm8z6CwmzCFCdNlOValIkpkc=</th>\n",
       "      <td>0.0</td>\n",
       "      <td>0.0</td>\n",
       "      <td>0.0</td>\n",
       "      <td>0.0</td>\n",
       "      <td>0.0</td>\n",
       "      <td>0.0</td>\n",
       "      <td>0.0</td>\n",
       "      <td>0.0</td>\n",
       "      <td>0.0</td>\n",
       "      <td>0.0</td>\n",
       "      <td>...</td>\n",
       "      <td>0.0</td>\n",
       "      <td>0.0</td>\n",
       "      <td>0.0</td>\n",
       "      <td>0.0</td>\n",
       "      <td>0.0</td>\n",
       "      <td>0.0</td>\n",
       "      <td>0.0</td>\n",
       "      <td>0.0</td>\n",
       "      <td>0.0</td>\n",
       "      <td>0.0</td>\n",
       "    </tr>\n",
       "  </tbody>\n",
       "</table>\n",
       "<p>5 rows × 407 columns</p>\n",
       "</div>"
      ],
      "text/plain": [
       "user_id                                       +6qXndZ2nMn0cyAWZlBfOBGVqolfO2CRo1MdVznK7Kg=  \\\n",
       "song_id                                                                                      \n",
       "+3VBxMwSEK8RRCBdDpVPEHlezOYVBS7UXZdQcy1SK2k=                                           0.0   \n",
       "+7lDydxTue8a1N6QAPau0w2izu8qqPOdJq561QfKKH0=                                           0.0   \n",
       "+A746gr9EKmfVvPAkkLSEqddZxnzGhk19sez5yLFE4o=                                           0.0   \n",
       "+BuoFaAw+sbIYkgPW7ReKkPQpJbW9zvT8+UU3bU7iKU=                                           0.0   \n",
       "+Gh4vigxWuY4cL0rXPDUm8z6CwmzCFCdNlOValIkpkc=                                           0.0   \n",
       "\n",
       "user_id                                       +Ez0nI/qWfSARukmK2mqdW6rffcVoJf5y74BEo+7NQ0=  \\\n",
       "song_id                                                                                      \n",
       "+3VBxMwSEK8RRCBdDpVPEHlezOYVBS7UXZdQcy1SK2k=                                           0.0   \n",
       "+7lDydxTue8a1N6QAPau0w2izu8qqPOdJq561QfKKH0=                                           0.0   \n",
       "+A746gr9EKmfVvPAkkLSEqddZxnzGhk19sez5yLFE4o=                                           0.0   \n",
       "+BuoFaAw+sbIYkgPW7ReKkPQpJbW9zvT8+UU3bU7iKU=                                           0.0   \n",
       "+Gh4vigxWuY4cL0rXPDUm8z6CwmzCFCdNlOValIkpkc=                                           0.0   \n",
       "\n",
       "user_id                                       +Y+wTRRkZ0QA3bV4+7nwu8qlN5Kb7ygMhqvB5L929YI=  \\\n",
       "song_id                                                                                      \n",
       "+3VBxMwSEK8RRCBdDpVPEHlezOYVBS7UXZdQcy1SK2k=                                           0.0   \n",
       "+7lDydxTue8a1N6QAPau0w2izu8qqPOdJq561QfKKH0=                                           0.0   \n",
       "+A746gr9EKmfVvPAkkLSEqddZxnzGhk19sez5yLFE4o=                                           0.0   \n",
       "+BuoFaAw+sbIYkgPW7ReKkPQpJbW9zvT8+UU3bU7iKU=                                           0.0   \n",
       "+Gh4vigxWuY4cL0rXPDUm8z6CwmzCFCdNlOValIkpkc=                                           0.0   \n",
       "\n",
       "user_id                                       +aVBg5Dxo76UZL++0OFJUVW4LFOkhccy/U0NeMisBLo=  \\\n",
       "song_id                                                                                      \n",
       "+3VBxMwSEK8RRCBdDpVPEHlezOYVBS7UXZdQcy1SK2k=                                           0.0   \n",
       "+7lDydxTue8a1N6QAPau0w2izu8qqPOdJq561QfKKH0=                                           0.0   \n",
       "+A746gr9EKmfVvPAkkLSEqddZxnzGhk19sez5yLFE4o=                                           0.0   \n",
       "+BuoFaAw+sbIYkgPW7ReKkPQpJbW9zvT8+UU3bU7iKU=                                           5.0   \n",
       "+Gh4vigxWuY4cL0rXPDUm8z6CwmzCFCdNlOValIkpkc=                                           0.0   \n",
       "\n",
       "user_id                                       +qfv8JlG0jAVxP0tawbvpHA1WFtWBtEbwa74uoQTeh4=  \\\n",
       "song_id                                                                                      \n",
       "+3VBxMwSEK8RRCBdDpVPEHlezOYVBS7UXZdQcy1SK2k=                                           0.0   \n",
       "+7lDydxTue8a1N6QAPau0w2izu8qqPOdJq561QfKKH0=                                           0.0   \n",
       "+A746gr9EKmfVvPAkkLSEqddZxnzGhk19sez5yLFE4o=                                           0.0   \n",
       "+BuoFaAw+sbIYkgPW7ReKkPQpJbW9zvT8+UU3bU7iKU=                                           0.0   \n",
       "+Gh4vigxWuY4cL0rXPDUm8z6CwmzCFCdNlOValIkpkc=                                           0.0   \n",
       "\n",
       "user_id                                       /44F6AQCO2bz1TcSgAu5O0BWf8rAkAl7deB1orof7Ho=  \\\n",
       "song_id                                                                                      \n",
       "+3VBxMwSEK8RRCBdDpVPEHlezOYVBS7UXZdQcy1SK2k=                                           0.0   \n",
       "+7lDydxTue8a1N6QAPau0w2izu8qqPOdJq561QfKKH0=                                           0.0   \n",
       "+A746gr9EKmfVvPAkkLSEqddZxnzGhk19sez5yLFE4o=                                           0.0   \n",
       "+BuoFaAw+sbIYkgPW7ReKkPQpJbW9zvT8+UU3bU7iKU=                                           0.0   \n",
       "+Gh4vigxWuY4cL0rXPDUm8z6CwmzCFCdNlOValIkpkc=                                           0.0   \n",
       "\n",
       "user_id                                       /5nuIXE1veq8SP+0eBLarWW5+kJLWHwhpS6O8mFVPO0=  \\\n",
       "song_id                                                                                      \n",
       "+3VBxMwSEK8RRCBdDpVPEHlezOYVBS7UXZdQcy1SK2k=                                           0.0   \n",
       "+7lDydxTue8a1N6QAPau0w2izu8qqPOdJq561QfKKH0=                                           0.0   \n",
       "+A746gr9EKmfVvPAkkLSEqddZxnzGhk19sez5yLFE4o=                                           0.0   \n",
       "+BuoFaAw+sbIYkgPW7ReKkPQpJbW9zvT8+UU3bU7iKU=                                           0.0   \n",
       "+Gh4vigxWuY4cL0rXPDUm8z6CwmzCFCdNlOValIkpkc=                                           0.0   \n",
       "\n",
       "user_id                                       /XhRwPF08aF9hNUb/yN8Rbz6+LSghFkDoa2OX8zef48=  \\\n",
       "song_id                                                                                      \n",
       "+3VBxMwSEK8RRCBdDpVPEHlezOYVBS7UXZdQcy1SK2k=                                           0.0   \n",
       "+7lDydxTue8a1N6QAPau0w2izu8qqPOdJq561QfKKH0=                                           0.0   \n",
       "+A746gr9EKmfVvPAkkLSEqddZxnzGhk19sez5yLFE4o=                                           0.0   \n",
       "+BuoFaAw+sbIYkgPW7ReKkPQpJbW9zvT8+UU3bU7iKU=                                           0.0   \n",
       "+Gh4vigxWuY4cL0rXPDUm8z6CwmzCFCdNlOValIkpkc=                                           0.0   \n",
       "\n",
       "user_id                                       /mkt7jOTiWXeq2c3mUhVF0SayqpWbF1D7OUYYNreCiA=  \\\n",
       "song_id                                                                                      \n",
       "+3VBxMwSEK8RRCBdDpVPEHlezOYVBS7UXZdQcy1SK2k=                                           0.0   \n",
       "+7lDydxTue8a1N6QAPau0w2izu8qqPOdJq561QfKKH0=                                           0.0   \n",
       "+A746gr9EKmfVvPAkkLSEqddZxnzGhk19sez5yLFE4o=                                           0.0   \n",
       "+BuoFaAw+sbIYkgPW7ReKkPQpJbW9zvT8+UU3bU7iKU=                                           0.0   \n",
       "+Gh4vigxWuY4cL0rXPDUm8z6CwmzCFCdNlOValIkpkc=                                           0.0   \n",
       "\n",
       "user_id                                       07lCno3fuSM5XcKCBNtOIZBxumvUmEicmV+SBIAzPUo=  \\\n",
       "song_id                                                                                      \n",
       "+3VBxMwSEK8RRCBdDpVPEHlezOYVBS7UXZdQcy1SK2k=                                           0.0   \n",
       "+7lDydxTue8a1N6QAPau0w2izu8qqPOdJq561QfKKH0=                                           0.0   \n",
       "+A746gr9EKmfVvPAkkLSEqddZxnzGhk19sez5yLFE4o=                                           0.0   \n",
       "+BuoFaAw+sbIYkgPW7ReKkPQpJbW9zvT8+UU3bU7iKU=                                           0.0   \n",
       "+Gh4vigxWuY4cL0rXPDUm8z6CwmzCFCdNlOValIkpkc=                                           0.0   \n",
       "\n",
       "user_id                                       ...  \\\n",
       "song_id                                       ...   \n",
       "+3VBxMwSEK8RRCBdDpVPEHlezOYVBS7UXZdQcy1SK2k=  ...   \n",
       "+7lDydxTue8a1N6QAPau0w2izu8qqPOdJq561QfKKH0=  ...   \n",
       "+A746gr9EKmfVvPAkkLSEqddZxnzGhk19sez5yLFE4o=  ...   \n",
       "+BuoFaAw+sbIYkgPW7ReKkPQpJbW9zvT8+UU3bU7iKU=  ...   \n",
       "+Gh4vigxWuY4cL0rXPDUm8z6CwmzCFCdNlOValIkpkc=  ...   \n",
       "\n",
       "user_id                                       z27xJQmVRtXwq8ZBSeGGy7OUxwmgVlm8dRPix/JNFac=  \\\n",
       "song_id                                                                                      \n",
       "+3VBxMwSEK8RRCBdDpVPEHlezOYVBS7UXZdQcy1SK2k=                                           0.0   \n",
       "+7lDydxTue8a1N6QAPau0w2izu8qqPOdJq561QfKKH0=                                           0.0   \n",
       "+A746gr9EKmfVvPAkkLSEqddZxnzGhk19sez5yLFE4o=                                           0.0   \n",
       "+BuoFaAw+sbIYkgPW7ReKkPQpJbW9zvT8+UU3bU7iKU=                                           0.0   \n",
       "+Gh4vigxWuY4cL0rXPDUm8z6CwmzCFCdNlOValIkpkc=                                           0.0   \n",
       "\n",
       "user_id                                       z2IYoGWjJJPv4ySp+1lCIfU1APu2YRHsjY2sy2ehq0k=  \\\n",
       "song_id                                                                                      \n",
       "+3VBxMwSEK8RRCBdDpVPEHlezOYVBS7UXZdQcy1SK2k=                                           0.0   \n",
       "+7lDydxTue8a1N6QAPau0w2izu8qqPOdJq561QfKKH0=                                           0.0   \n",
       "+A746gr9EKmfVvPAkkLSEqddZxnzGhk19sez5yLFE4o=                                           0.0   \n",
       "+BuoFaAw+sbIYkgPW7ReKkPQpJbW9zvT8+UU3bU7iKU=                                           0.0   \n",
       "+Gh4vigxWuY4cL0rXPDUm8z6CwmzCFCdNlOValIkpkc=                                           0.0   \n",
       "\n",
       "user_id                                       z8f9Ms1BVEl08/nOmya8RYBhAzOUUrZR7yfuzupprzI=  \\\n",
       "song_id                                                                                      \n",
       "+3VBxMwSEK8RRCBdDpVPEHlezOYVBS7UXZdQcy1SK2k=                                           0.0   \n",
       "+7lDydxTue8a1N6QAPau0w2izu8qqPOdJq561QfKKH0=                                           0.0   \n",
       "+A746gr9EKmfVvPAkkLSEqddZxnzGhk19sez5yLFE4o=                                           0.0   \n",
       "+BuoFaAw+sbIYkgPW7ReKkPQpJbW9zvT8+UU3bU7iKU=                                           0.0   \n",
       "+Gh4vigxWuY4cL0rXPDUm8z6CwmzCFCdNlOValIkpkc=                                           0.0   \n",
       "\n",
       "user_id                                       zIVDNYrxuU1XALBSVZtZgwSWFK3ds3Ac9Egoy2h4304=  \\\n",
       "song_id                                                                                      \n",
       "+3VBxMwSEK8RRCBdDpVPEHlezOYVBS7UXZdQcy1SK2k=                                           0.0   \n",
       "+7lDydxTue8a1N6QAPau0w2izu8qqPOdJq561QfKKH0=                                           0.0   \n",
       "+A746gr9EKmfVvPAkkLSEqddZxnzGhk19sez5yLFE4o=                                           0.0   \n",
       "+BuoFaAw+sbIYkgPW7ReKkPQpJbW9zvT8+UU3bU7iKU=                                           0.0   \n",
       "+Gh4vigxWuY4cL0rXPDUm8z6CwmzCFCdNlOValIkpkc=                                           0.0   \n",
       "\n",
       "user_id                                       zRfOEH4Bl09lWEbWtYVEp5CffQ5VBDcSNFLumK291As=  \\\n",
       "song_id                                                                                      \n",
       "+3VBxMwSEK8RRCBdDpVPEHlezOYVBS7UXZdQcy1SK2k=                                           0.0   \n",
       "+7lDydxTue8a1N6QAPau0w2izu8qqPOdJq561QfKKH0=                                           0.0   \n",
       "+A746gr9EKmfVvPAkkLSEqddZxnzGhk19sez5yLFE4o=                                           0.0   \n",
       "+BuoFaAw+sbIYkgPW7ReKkPQpJbW9zvT8+UU3bU7iKU=                                           0.0   \n",
       "+Gh4vigxWuY4cL0rXPDUm8z6CwmzCFCdNlOValIkpkc=                                           0.0   \n",
       "\n",
       "user_id                                       zUbVBvS4+Rbl13lYdUrcyYLmeslbs/ourmea6l6hBds=  \\\n",
       "song_id                                                                                      \n",
       "+3VBxMwSEK8RRCBdDpVPEHlezOYVBS7UXZdQcy1SK2k=                                           0.0   \n",
       "+7lDydxTue8a1N6QAPau0w2izu8qqPOdJq561QfKKH0=                                           0.0   \n",
       "+A746gr9EKmfVvPAkkLSEqddZxnzGhk19sez5yLFE4o=                                           0.0   \n",
       "+BuoFaAw+sbIYkgPW7ReKkPQpJbW9zvT8+UU3bU7iKU=                                           0.0   \n",
       "+Gh4vigxWuY4cL0rXPDUm8z6CwmzCFCdNlOValIkpkc=                                           0.0   \n",
       "\n",
       "user_id                                       zXLzFiB5jQaph3W2EyGi5DGsUloRPcoVTG4VI5ullew=  \\\n",
       "song_id                                                                                      \n",
       "+3VBxMwSEK8RRCBdDpVPEHlezOYVBS7UXZdQcy1SK2k=                                           0.0   \n",
       "+7lDydxTue8a1N6QAPau0w2izu8qqPOdJq561QfKKH0=                                           0.0   \n",
       "+A746gr9EKmfVvPAkkLSEqddZxnzGhk19sez5yLFE4o=                                           0.0   \n",
       "+BuoFaAw+sbIYkgPW7ReKkPQpJbW9zvT8+UU3bU7iKU=                                           0.0   \n",
       "+Gh4vigxWuY4cL0rXPDUm8z6CwmzCFCdNlOValIkpkc=                                           0.0   \n",
       "\n",
       "user_id                                       zr2MEjwpv7bxzJ61TLLBPUoyoSnRqrD8p9BTyUIEXBE=  \\\n",
       "song_id                                                                                      \n",
       "+3VBxMwSEK8RRCBdDpVPEHlezOYVBS7UXZdQcy1SK2k=                                           0.0   \n",
       "+7lDydxTue8a1N6QAPau0w2izu8qqPOdJq561QfKKH0=                                           0.0   \n",
       "+A746gr9EKmfVvPAkkLSEqddZxnzGhk19sez5yLFE4o=                                           0.0   \n",
       "+BuoFaAw+sbIYkgPW7ReKkPQpJbW9zvT8+UU3bU7iKU=                                           0.0   \n",
       "+Gh4vigxWuY4cL0rXPDUm8z6CwmzCFCdNlOValIkpkc=                                           0.0   \n",
       "\n",
       "user_id                                       zx51OvMA6lJ+iNxD6lZnUppO8ZKHhuKBIAgGXAObgqQ=  \\\n",
       "song_id                                                                                      \n",
       "+3VBxMwSEK8RRCBdDpVPEHlezOYVBS7UXZdQcy1SK2k=                                           0.0   \n",
       "+7lDydxTue8a1N6QAPau0w2izu8qqPOdJq561QfKKH0=                                           0.0   \n",
       "+A746gr9EKmfVvPAkkLSEqddZxnzGhk19sez5yLFE4o=                                           8.0   \n",
       "+BuoFaAw+sbIYkgPW7ReKkPQpJbW9zvT8+UU3bU7iKU=                                           0.0   \n",
       "+Gh4vigxWuY4cL0rXPDUm8z6CwmzCFCdNlOValIkpkc=                                           0.0   \n",
       "\n",
       "user_id                                       zyCQN/h38OmzYOsR6ecE+b7GFkO2eCHoxT1tXoFdUjA=  \n",
       "song_id                                                                                     \n",
       "+3VBxMwSEK8RRCBdDpVPEHlezOYVBS7UXZdQcy1SK2k=                                           0.0  \n",
       "+7lDydxTue8a1N6QAPau0w2izu8qqPOdJq561QfKKH0=                                           0.0  \n",
       "+A746gr9EKmfVvPAkkLSEqddZxnzGhk19sez5yLFE4o=                                           0.0  \n",
       "+BuoFaAw+sbIYkgPW7ReKkPQpJbW9zvT8+UU3bU7iKU=                                           0.0  \n",
       "+Gh4vigxWuY4cL0rXPDUm8z6CwmzCFCdNlOValIkpkc=                                           0.0  \n",
       "\n",
       "[5 rows x 407 columns]"
      ]
     },
     "execution_count": 59,
     "metadata": {},
     "output_type": "execute_result"
    }
   ],
   "source": [
    "df_songs_features.head()"
   ]
  },
  {
   "cell_type": "markdown",
   "id": "c7dc157d",
   "metadata": {},
   "source": [
    "Because the system will output the id of the song, instead of the name, we'll make a function that maps those indices with the song title.\n",
    "\n"
   ]
  },
  {
   "cell_type": "code",
   "execution_count": 60,
   "id": "3a19b4fc",
   "metadata": {},
   "outputs": [],
   "source": [
    "df_unique_songs = final_df.drop_duplicates(subset=['song_id']).reset_index(drop=True)[['song_id', 'song_name']]\n"
   ]
  },
  {
   "cell_type": "code",
   "execution_count": 61,
   "id": "81c3a726",
   "metadata": {},
   "outputs": [],
   "source": [
    "decode_id_song = {\n",
    "    song: i for i, song in \n",
    "    enumerate(list(df_unique_songs.set_index('song_id').loc[df_songs_features.index].song_name))\n",
    "}\n"
   ]
  },
  {
   "cell_type": "code",
   "execution_count": 63,
   "id": "79b0ab5e",
   "metadata": {},
   "outputs": [
    {
     "name": "stdout",
     "output_type": "stream",
     "text": [
      "Collecting fuzzywuzzy\n",
      "  Downloading fuzzywuzzy-0.18.0-py2.py3-none-any.whl (18 kB)\n",
      "Installing collected packages: fuzzywuzzy\n",
      "Successfully installed fuzzywuzzy-0.18.0\n"
     ]
    }
   ],
   "source": [
    "!pip install fuzzywuzzy"
   ]
  },
  {
   "cell_type": "code",
   "execution_count": 72,
   "id": "dee383de",
   "metadata": {},
   "outputs": [],
   "source": [
    "from sklearn.neighbors import NearestNeighbors\n",
    "from fuzzywuzzy import fuzz ##FuzzyWuzzy is a library of Python which is used for string matching\n",
    "import numpy as np\n",
    "\n",
    "class Recommender:\n",
    "    def __init__(self, metric, algorithm, k, data, decode_id_song):\n",
    "        self.metric = metric\n",
    "        self.algorithm = algorithm\n",
    "        self.k = k\n",
    "        self.data = data\n",
    "        self.decode_id_song = decode_id_song\n",
    "        self.data = data\n",
    "        self.model = self._recommender().fit(data)\n",
    "    \n",
    "    def make_recommendation(self, new_song, n_recommendations):\n",
    "        recommended = self._recommend(new_song=new_song, n_recommendations=n_recommendations)\n",
    "        print(\"... Done\")\n",
    "        return recommended \n",
    "    \n",
    "    def _recommender(self):\n",
    "        return NearestNeighbors(metric=self.metric, algorithm=self.algorithm, n_neighbors=self.k, n_jobs=-1)\n",
    "    \n",
    "    def _recommend(self, new_song, n_recommendations):\n",
    "        # Get the id of the recommended songs\n",
    "        recommendations = []\n",
    "        recommendation_ids = self._get_recommendations(new_song=new_song, n_recommendations=n_recommendations)\n",
    "        # return the name of the song using a mapping dictionary\n",
    "        recommendations_map = self._map_indeces_to_song_title(recommendation_ids)\n",
    "        # Translate this recommendations into the ranking of song titles recommended\n",
    "        for i, (idx, dist) in enumerate(recommendation_ids):\n",
    "            recommendations.append(recommendations_map[idx])\n",
    "        return recommendations\n",
    "                 \n",
    "    def _get_recommendations(self, new_song, n_recommendations):\n",
    "        # Get the id of the song according to the text\n",
    "        recom_song_id = self._fuzzy_matching(song=new_song)\n",
    "        # Start the recommendation process\n",
    "        print(f\"Starting the recommendation process for {new_song} ...\")\n",
    "        # Return the n neighbors for the song id\n",
    "        distances, indices = self.model.kneighbors(self.data[recom_song_id], n_neighbors=n_recommendations+1)\n",
    "        return sorted(list(zip(indices.squeeze().tolist(), distances.squeeze().tolist())), key=lambda x: x[1])[:0:-1]\n",
    "    \n",
    "    def _map_indeces_to_song_title(self, recommendation_ids):\n",
    "        # get reverse mapper\n",
    "        return {song_id: song_title for song_title, song_id in self.decode_id_song.items()}\n",
    "    \n",
    "    def _fuzzy_matching(self, song):\n",
    "        match_tuple = []\n",
    "        # get match\n",
    "        for title, idx in self.decode_id_song.items():\n",
    "            ratio = fuzz.ratio(title.lower(), song.lower())\n",
    "            if ratio >= 90:\n",
    "                match_tuple.append((title, idx, ratio))\n",
    "        # sort\n",
    "        match_tuple = sorted(match_tuple, key=lambda x: x[2])[::-1]\n",
    "        print(match_tuple)\n",
    "        if not match_tuple:\n",
    "            print(f\"The recommendation system could not find a match for {song}\")\n",
    "            return\n",
    "        return match_tuple[0][1]\n",
    "\n"
   ]
  },
  {
   "cell_type": "markdown",
   "id": "31f1ffc5",
   "metadata": {},
   "source": [
    "# Recommendations"
   ]
  },
  {
   "cell_type": "code",
   "execution_count": 73,
   "id": "d4bd129e",
   "metadata": {},
   "outputs": [],
   "source": [
    "model = Recommender(metric='cosine', algorithm='brute', k=20, data=mat_songs_features, decode_id_song=decode_id_song)\n"
   ]
  },
  {
   "cell_type": "code",
   "execution_count": 74,
   "id": "9c13e568",
   "metadata": {},
   "outputs": [],
   "source": [
    "song = 'Panda'\n"
   ]
  },
  {
   "cell_type": "code",
   "execution_count": 75,
   "id": "47c37c7e",
   "metadata": {},
   "outputs": [
    {
     "name": "stdout",
     "output_type": "stream",
     "text": [
      "[('Panda', 84, 100)]\n",
      "Starting the recommendation process for Panda ...\n",
      "... Done\n"
     ]
    }
   ],
   "source": [
    "new_recommendations = model.make_recommendation(new_song=song, n_recommendations=10)\n"
   ]
  },
  {
   "cell_type": "code",
   "execution_count": 76,
   "id": "19359d78",
   "metadata": {},
   "outputs": [
    {
     "name": "stdout",
     "output_type": "stream",
     "text": [
      "The recommendations for Panda are:\n",
      "['我變成了我', '人質', 'wia', '怎麼還不愛 (Why Not Love)', 'Coming Home', 'Wanna Be That Song', '夜空中最亮的星', 'Pull Up (feat. Lil Uzi Vert)', 'Tiimmy Turner', 'Call on Me (Ryan Riback Remix)']\n"
     ]
    }
   ],
   "source": [
    "print(f\"The recommendations for {song} are:\")\n",
    "print(f\"{new_recommendations}\")\n"
   ]
  },
  {
   "cell_type": "markdown",
   "id": "fb994570",
   "metadata": {},
   "source": [
    "# Thanking to LetsGrowMore and Respected Aman Kesarwani sir for this\n",
    "golden opportunity to improve and enhance myself in the field of DataScience.\n",
    "References:\n",
    "https://github.com/ugis22/music_recommender https://towardsdatascience.com/the-abc-of-building-a-music-recommender-system-part-i-230e99da9cad\n",
    "https://www.youtube.com/watch?v=-agdLu4tPxk&list=PLZoTAELRMXVN7QGpcuN-Vg35Hgjp3htvi&index=7\n"
   ]
  }
 ],
 "metadata": {
  "kernelspec": {
   "display_name": "Python 3",
   "language": "python",
   "name": "python3"
  },
  "language_info": {
   "codemirror_mode": {
    "name": "ipython",
    "version": 3
   },
   "file_extension": ".py",
   "mimetype": "text/x-python",
   "name": "python",
   "nbconvert_exporter": "python",
   "pygments_lexer": "ipython3",
   "version": "3.8.8"
  }
 },
 "nbformat": 4,
 "nbformat_minor": 5
}
