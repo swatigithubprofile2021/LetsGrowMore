{
 "cells": [
  {
   "cell_type": "markdown",
   "id": "8033dc4a",
   "metadata": {},
   "source": [
    "# Created by - Swati Pandey (Batch - October 2022)"
   ]
  },
  {
   "cell_type": "markdown",
   "id": "f93e10c7",
   "metadata": {},
   "source": [
    "Thanking to LetsGrowMore and Respected Aman Kesarwami sir for giving this golden opportunity to learn,improve and enhance my skills in the field of DataScience.\n",
    "Also, i would like to thanks respected Krish Naik sir for your informative youtube video\n",
    "video link : https://www.youtube.com/watch?v=H6du_pfuznE&t=128s\n",
    "\n",
    "References:\n",
    "https://machinelearningmastery.com/time-series-prediction-with-deep-learning-in-python-with-keras/\n",
    "\n",
    "Contact me:\n",
    "linkedin: https://www.linkedin.com/in/swati-pandey-380989230/\n",
    "\n",
    "\n"
   ]
  },
  {
   "cell_type": "markdown",
   "id": "cb72f536",
   "metadata": {},
   "source": [
    "# Approach : - \n",
    "             1.Data Acquistion\n",
    "             2.Data Preprocessing\n",
    "             3.Visualization \n",
    "             4.Feature Scaling\n",
    "             5.Train Test Split \n",
    "             6.Create a stacked LSTM model\n",
    "             7.Predict future 30 days and plot the output"
   ]
  },
  {
   "cell_type": "markdown",
   "id": "5e61a815",
   "metadata": {},
   "source": [
    "Dataset Link : https://raw.githubusercontent.com/mwitiderrick/stockprice/master/NSE-TATAGLOBAL.csv"
   ]
  },
  {
   "cell_type": "code",
   "execution_count": 1,
   "id": "c0eddb60",
   "metadata": {},
   "outputs": [],
   "source": [
    "## Importing necessary libraries\n",
    "import pandas as pd ## for Data wrangling purpose\n",
    "import numpy as np ## Basic Computation library\n",
    "import matplotlib.pyplot as plt ## Plotting package\n",
    "%matplotlib inline\n",
    "import seaborn as sns ##for visualization\n",
    "import warnings ## For filter warnings\n",
    "warnings.filterwarnings(\"ignore\")"
   ]
  },
  {
   "cell_type": "markdown",
   "id": "0a60e92d",
   "metadata": {},
   "source": [
    "# Data Acquistion"
   ]
  },
  {
   "cell_type": "code",
   "execution_count": 2,
   "id": "34977437",
   "metadata": {},
   "outputs": [],
   "source": [
    "## reading csv file\n",
    "## Using parse_dates so that panda recongnize Date column as date not as string.\n",
    "\n",
    "Tata_df = pd.read_csv(\"https://raw.githubusercontent.com/mwitiderrick/stockprice/master/NSE-TATAGLOBAL.csv\",parse_dates=[0])"
   ]
  },
  {
   "cell_type": "code",
   "execution_count": 3,
   "id": "81fe8fa3",
   "metadata": {},
   "outputs": [
    {
     "data": {
      "text/html": [
       "<div>\n",
       "<style scoped>\n",
       "    .dataframe tbody tr th:only-of-type {\n",
       "        vertical-align: middle;\n",
       "    }\n",
       "\n",
       "    .dataframe tbody tr th {\n",
       "        vertical-align: top;\n",
       "    }\n",
       "\n",
       "    .dataframe thead th {\n",
       "        text-align: right;\n",
       "    }\n",
       "</style>\n",
       "<table border=\"1\" class=\"dataframe\">\n",
       "  <thead>\n",
       "    <tr style=\"text-align: right;\">\n",
       "      <th></th>\n",
       "      <th>Date</th>\n",
       "      <th>Open</th>\n",
       "      <th>High</th>\n",
       "      <th>Low</th>\n",
       "      <th>Last</th>\n",
       "      <th>Close</th>\n",
       "      <th>Total Trade Quantity</th>\n",
       "      <th>Turnover (Lacs)</th>\n",
       "    </tr>\n",
       "  </thead>\n",
       "  <tbody>\n",
       "    <tr>\n",
       "      <th>0</th>\n",
       "      <td>2018-09-28</td>\n",
       "      <td>234.05</td>\n",
       "      <td>235.95</td>\n",
       "      <td>230.20</td>\n",
       "      <td>233.50</td>\n",
       "      <td>233.75</td>\n",
       "      <td>3069914</td>\n",
       "      <td>7162.35</td>\n",
       "    </tr>\n",
       "    <tr>\n",
       "      <th>1</th>\n",
       "      <td>2018-09-27</td>\n",
       "      <td>234.55</td>\n",
       "      <td>236.80</td>\n",
       "      <td>231.10</td>\n",
       "      <td>233.80</td>\n",
       "      <td>233.25</td>\n",
       "      <td>5082859</td>\n",
       "      <td>11859.95</td>\n",
       "    </tr>\n",
       "    <tr>\n",
       "      <th>2</th>\n",
       "      <td>2018-09-26</td>\n",
       "      <td>240.00</td>\n",
       "      <td>240.00</td>\n",
       "      <td>232.50</td>\n",
       "      <td>235.00</td>\n",
       "      <td>234.25</td>\n",
       "      <td>2240909</td>\n",
       "      <td>5248.60</td>\n",
       "    </tr>\n",
       "    <tr>\n",
       "      <th>3</th>\n",
       "      <td>2018-09-25</td>\n",
       "      <td>233.30</td>\n",
       "      <td>236.75</td>\n",
       "      <td>232.00</td>\n",
       "      <td>236.25</td>\n",
       "      <td>236.10</td>\n",
       "      <td>2349368</td>\n",
       "      <td>5503.90</td>\n",
       "    </tr>\n",
       "    <tr>\n",
       "      <th>4</th>\n",
       "      <td>2018-09-24</td>\n",
       "      <td>233.55</td>\n",
       "      <td>239.20</td>\n",
       "      <td>230.75</td>\n",
       "      <td>234.00</td>\n",
       "      <td>233.30</td>\n",
       "      <td>3423509</td>\n",
       "      <td>7999.55</td>\n",
       "    </tr>\n",
       "  </tbody>\n",
       "</table>\n",
       "</div>"
      ],
      "text/plain": [
       "        Date    Open    High     Low    Last   Close  Total Trade Quantity  \\\n",
       "0 2018-09-28  234.05  235.95  230.20  233.50  233.75               3069914   \n",
       "1 2018-09-27  234.55  236.80  231.10  233.80  233.25               5082859   \n",
       "2 2018-09-26  240.00  240.00  232.50  235.00  234.25               2240909   \n",
       "3 2018-09-25  233.30  236.75  232.00  236.25  236.10               2349368   \n",
       "4 2018-09-24  233.55  239.20  230.75  234.00  233.30               3423509   \n",
       "\n",
       "   Turnover (Lacs)  \n",
       "0          7162.35  \n",
       "1         11859.95  \n",
       "2          5248.60  \n",
       "3          5503.90  \n",
       "4          7999.55  "
      ]
     },
     "execution_count": 3,
     "metadata": {},
     "output_type": "execute_result"
    }
   ],
   "source": [
    "Tata_df.head()"
   ]
  },
  {
   "cell_type": "code",
   "execution_count": 4,
   "id": "7d0bf82c",
   "metadata": {},
   "outputs": [
    {
     "data": {
      "text/html": [
       "<div>\n",
       "<style scoped>\n",
       "    .dataframe tbody tr th:only-of-type {\n",
       "        vertical-align: middle;\n",
       "    }\n",
       "\n",
       "    .dataframe tbody tr th {\n",
       "        vertical-align: top;\n",
       "    }\n",
       "\n",
       "    .dataframe thead th {\n",
       "        text-align: right;\n",
       "    }\n",
       "</style>\n",
       "<table border=\"1\" class=\"dataframe\">\n",
       "  <thead>\n",
       "    <tr style=\"text-align: right;\">\n",
       "      <th></th>\n",
       "      <th>Date</th>\n",
       "      <th>Open</th>\n",
       "      <th>High</th>\n",
       "      <th>Low</th>\n",
       "      <th>Last</th>\n",
       "      <th>Close</th>\n",
       "      <th>Total Trade Quantity</th>\n",
       "      <th>Turnover (Lacs)</th>\n",
       "    </tr>\n",
       "  </thead>\n",
       "  <tbody>\n",
       "    <tr>\n",
       "      <th>2030</th>\n",
       "      <td>2010-07-27</td>\n",
       "      <td>117.6</td>\n",
       "      <td>119.50</td>\n",
       "      <td>112.00</td>\n",
       "      <td>118.80</td>\n",
       "      <td>118.65</td>\n",
       "      <td>586100</td>\n",
       "      <td>694.98</td>\n",
       "    </tr>\n",
       "    <tr>\n",
       "      <th>2031</th>\n",
       "      <td>2010-07-26</td>\n",
       "      <td>120.1</td>\n",
       "      <td>121.00</td>\n",
       "      <td>117.10</td>\n",
       "      <td>117.10</td>\n",
       "      <td>117.60</td>\n",
       "      <td>658440</td>\n",
       "      <td>780.01</td>\n",
       "    </tr>\n",
       "    <tr>\n",
       "      <th>2032</th>\n",
       "      <td>2010-07-23</td>\n",
       "      <td>121.8</td>\n",
       "      <td>121.95</td>\n",
       "      <td>120.25</td>\n",
       "      <td>120.35</td>\n",
       "      <td>120.65</td>\n",
       "      <td>281312</td>\n",
       "      <td>340.31</td>\n",
       "    </tr>\n",
       "    <tr>\n",
       "      <th>2033</th>\n",
       "      <td>2010-07-22</td>\n",
       "      <td>120.3</td>\n",
       "      <td>122.00</td>\n",
       "      <td>120.25</td>\n",
       "      <td>120.75</td>\n",
       "      <td>120.90</td>\n",
       "      <td>293312</td>\n",
       "      <td>355.17</td>\n",
       "    </tr>\n",
       "    <tr>\n",
       "      <th>2034</th>\n",
       "      <td>2010-07-21</td>\n",
       "      <td>122.1</td>\n",
       "      <td>123.00</td>\n",
       "      <td>121.05</td>\n",
       "      <td>121.10</td>\n",
       "      <td>121.55</td>\n",
       "      <td>658666</td>\n",
       "      <td>803.56</td>\n",
       "    </tr>\n",
       "  </tbody>\n",
       "</table>\n",
       "</div>"
      ],
      "text/plain": [
       "           Date   Open    High     Low    Last   Close  Total Trade Quantity  \\\n",
       "2030 2010-07-27  117.6  119.50  112.00  118.80  118.65                586100   \n",
       "2031 2010-07-26  120.1  121.00  117.10  117.10  117.60                658440   \n",
       "2032 2010-07-23  121.8  121.95  120.25  120.35  120.65                281312   \n",
       "2033 2010-07-22  120.3  122.00  120.25  120.75  120.90                293312   \n",
       "2034 2010-07-21  122.1  123.00  121.05  121.10  121.55                658666   \n",
       "\n",
       "      Turnover (Lacs)  \n",
       "2030           694.98  \n",
       "2031           780.01  \n",
       "2032           340.31  \n",
       "2033           355.17  \n",
       "2034           803.56  "
      ]
     },
     "execution_count": 4,
     "metadata": {},
     "output_type": "execute_result"
    }
   ],
   "source": [
    "Tata_df.tail()"
   ]
  },
  {
   "cell_type": "code",
   "execution_count": 5,
   "id": "f462dc06",
   "metadata": {},
   "outputs": [
    {
     "data": {
      "text/plain": [
       "(2035, 8)"
      ]
     },
     "execution_count": 5,
     "metadata": {},
     "output_type": "execute_result"
    }
   ],
   "source": [
    "## size of the dataset\n",
    "Tata_df.shape"
   ]
  },
  {
   "cell_type": "markdown",
   "id": "a92792a8",
   "metadata": {},
   "source": [
    "2035 rows and 8 columns present in dataset."
   ]
  },
  {
   "cell_type": "code",
   "execution_count": 6,
   "id": "f2b1eb27",
   "metadata": {},
   "outputs": [
    {
     "name": "stdout",
     "output_type": "stream",
     "text": [
      "<class 'pandas.core.frame.DataFrame'>\n",
      "RangeIndex: 2035 entries, 0 to 2034\n",
      "Data columns (total 8 columns):\n",
      " #   Column                Non-Null Count  Dtype         \n",
      "---  ------                --------------  -----         \n",
      " 0   Date                  2035 non-null   datetime64[ns]\n",
      " 1   Open                  2035 non-null   float64       \n",
      " 2   High                  2035 non-null   float64       \n",
      " 3   Low                   2035 non-null   float64       \n",
      " 4   Last                  2035 non-null   float64       \n",
      " 5   Close                 2035 non-null   float64       \n",
      " 6   Total Trade Quantity  2035 non-null   int64         \n",
      " 7   Turnover (Lacs)       2035 non-null   float64       \n",
      "dtypes: datetime64[ns](1), float64(6), int64(1)\n",
      "memory usage: 127.3 KB\n"
     ]
    }
   ],
   "source": [
    "## information about dataset\n",
    "Tata_df.info()"
   ]
  },
  {
   "cell_type": "markdown",
   "id": "9a7dc1ab",
   "metadata": {},
   "source": [
    "So, there is not any missing value present in dataset. Date datatype has also changed from string to datetime."
   ]
  },
  {
   "cell_type": "code",
   "execution_count": 7,
   "id": "1ab728e6",
   "metadata": {},
   "outputs": [
    {
     "data": {
      "text/plain": [
       "Date                    0\n",
       "Open                    0\n",
       "High                    0\n",
       "Low                     0\n",
       "Last                    0\n",
       "Close                   0\n",
       "Total Trade Quantity    0\n",
       "Turnover (Lacs)         0\n",
       "dtype: int64"
      ]
     },
     "execution_count": 7,
     "metadata": {},
     "output_type": "execute_result"
    }
   ],
   "source": [
    "## Again checking for null/missing values present\n",
    "Tata_df.isnull().sum()"
   ]
  },
  {
   "cell_type": "code",
   "execution_count": 8,
   "id": "72102512",
   "metadata": {},
   "outputs": [
    {
     "data": {
      "text/html": [
       "<div>\n",
       "<style scoped>\n",
       "    .dataframe tbody tr th:only-of-type {\n",
       "        vertical-align: middle;\n",
       "    }\n",
       "\n",
       "    .dataframe tbody tr th {\n",
       "        vertical-align: top;\n",
       "    }\n",
       "\n",
       "    .dataframe thead th {\n",
       "        text-align: right;\n",
       "    }\n",
       "</style>\n",
       "<table border=\"1\" class=\"dataframe\">\n",
       "  <thead>\n",
       "    <tr style=\"text-align: right;\">\n",
       "      <th></th>\n",
       "      <th>Open</th>\n",
       "      <th>High</th>\n",
       "      <th>Low</th>\n",
       "      <th>Last</th>\n",
       "      <th>Close</th>\n",
       "      <th>Total Trade Quantity</th>\n",
       "      <th>Turnover (Lacs)</th>\n",
       "    </tr>\n",
       "  </thead>\n",
       "  <tbody>\n",
       "    <tr>\n",
       "      <th>count</th>\n",
       "      <td>2035.000000</td>\n",
       "      <td>2035.000000</td>\n",
       "      <td>2035.000000</td>\n",
       "      <td>2035.000000</td>\n",
       "      <td>2035.00000</td>\n",
       "      <td>2.035000e+03</td>\n",
       "      <td>2035.000000</td>\n",
       "    </tr>\n",
       "    <tr>\n",
       "      <th>mean</th>\n",
       "      <td>149.713735</td>\n",
       "      <td>151.992826</td>\n",
       "      <td>147.293931</td>\n",
       "      <td>149.474251</td>\n",
       "      <td>149.45027</td>\n",
       "      <td>2.335681e+06</td>\n",
       "      <td>3899.980565</td>\n",
       "    </tr>\n",
       "    <tr>\n",
       "      <th>std</th>\n",
       "      <td>48.664509</td>\n",
       "      <td>49.413109</td>\n",
       "      <td>47.931958</td>\n",
       "      <td>48.732570</td>\n",
       "      <td>48.71204</td>\n",
       "      <td>2.091778e+06</td>\n",
       "      <td>4570.767877</td>\n",
       "    </tr>\n",
       "    <tr>\n",
       "      <th>min</th>\n",
       "      <td>81.100000</td>\n",
       "      <td>82.800000</td>\n",
       "      <td>80.000000</td>\n",
       "      <td>81.000000</td>\n",
       "      <td>80.95000</td>\n",
       "      <td>3.961000e+04</td>\n",
       "      <td>37.040000</td>\n",
       "    </tr>\n",
       "    <tr>\n",
       "      <th>25%</th>\n",
       "      <td>120.025000</td>\n",
       "      <td>122.100000</td>\n",
       "      <td>118.300000</td>\n",
       "      <td>120.075000</td>\n",
       "      <td>120.05000</td>\n",
       "      <td>1.146444e+06</td>\n",
       "      <td>1427.460000</td>\n",
       "    </tr>\n",
       "    <tr>\n",
       "      <th>50%</th>\n",
       "      <td>141.500000</td>\n",
       "      <td>143.400000</td>\n",
       "      <td>139.600000</td>\n",
       "      <td>141.100000</td>\n",
       "      <td>141.25000</td>\n",
       "      <td>1.783456e+06</td>\n",
       "      <td>2512.030000</td>\n",
       "    </tr>\n",
       "    <tr>\n",
       "      <th>75%</th>\n",
       "      <td>157.175000</td>\n",
       "      <td>159.400000</td>\n",
       "      <td>155.150000</td>\n",
       "      <td>156.925000</td>\n",
       "      <td>156.90000</td>\n",
       "      <td>2.813594e+06</td>\n",
       "      <td>4539.015000</td>\n",
       "    </tr>\n",
       "    <tr>\n",
       "      <th>max</th>\n",
       "      <td>327.700000</td>\n",
       "      <td>328.750000</td>\n",
       "      <td>321.650000</td>\n",
       "      <td>325.950000</td>\n",
       "      <td>325.75000</td>\n",
       "      <td>2.919102e+07</td>\n",
       "      <td>55755.080000</td>\n",
       "    </tr>\n",
       "  </tbody>\n",
       "</table>\n",
       "</div>"
      ],
      "text/plain": [
       "              Open         High          Low         Last       Close  \\\n",
       "count  2035.000000  2035.000000  2035.000000  2035.000000  2035.00000   \n",
       "mean    149.713735   151.992826   147.293931   149.474251   149.45027   \n",
       "std      48.664509    49.413109    47.931958    48.732570    48.71204   \n",
       "min      81.100000    82.800000    80.000000    81.000000    80.95000   \n",
       "25%     120.025000   122.100000   118.300000   120.075000   120.05000   \n",
       "50%     141.500000   143.400000   139.600000   141.100000   141.25000   \n",
       "75%     157.175000   159.400000   155.150000   156.925000   156.90000   \n",
       "max     327.700000   328.750000   321.650000   325.950000   325.75000   \n",
       "\n",
       "       Total Trade Quantity  Turnover (Lacs)  \n",
       "count          2.035000e+03      2035.000000  \n",
       "mean           2.335681e+06      3899.980565  \n",
       "std            2.091778e+06      4570.767877  \n",
       "min            3.961000e+04        37.040000  \n",
       "25%            1.146444e+06      1427.460000  \n",
       "50%            1.783456e+06      2512.030000  \n",
       "75%            2.813594e+06      4539.015000  \n",
       "max            2.919102e+07     55755.080000  "
      ]
     },
     "execution_count": 8,
     "metadata": {},
     "output_type": "execute_result"
    }
   ],
   "source": [
    "## Checking statistics of dataset\n",
    "Tata_df.describe()"
   ]
  },
  {
   "cell_type": "markdown",
   "id": "7b923579",
   "metadata": {},
   "source": [
    "According to statistics provided by describe method , data seems to be normally distributed."
   ]
  },
  {
   "cell_type": "markdown",
   "id": "720b64ce",
   "metadata": {},
   "source": [
    "I have a very clean and sorted dataset, So I'll proceed to next step."
   ]
  },
  {
   "cell_type": "markdown",
   "id": "ab89a28d",
   "metadata": {},
   "source": [
    "# Visualization"
   ]
  },
  {
   "cell_type": "markdown",
   "id": "312c5bf8",
   "metadata": {},
   "source": [
    "# Univaraite Analysis"
   ]
  },
  {
   "cell_type": "code",
   "execution_count": 9,
   "id": "03e1fa9f",
   "metadata": {},
   "outputs": [
    {
     "data": {
      "text/plain": [
       "[<matplotlib.lines.Line2D at 0x1eab34047f0>]"
      ]
     },
     "execution_count": 9,
     "metadata": {},
     "output_type": "execute_result"
    },
    {
     "data": {
      "image/png": "[encoded data removed]",
      "text/plain": [
       "<Figure size 432x288 with 1 Axes>"
      ]
     },
     "metadata": {
      "needs_background": "light"
     },
     "output_type": "display_data"
    }
   ],
   "source": [
    "plt.plot(Tata_df.Close)"
   ]
  },
  {
   "cell_type": "code",
   "execution_count": 10,
   "id": "768241b7",
   "metadata": {},
   "outputs": [
    {
     "data": {
      "text/plain": [
       "<AxesSubplot:>"
      ]
     },
     "execution_count": 10,
     "metadata": {},
     "output_type": "execute_result"
    },
    {
     "data": {
      "image/png": "[encoded data removed]",
      "text/plain": [
       "<Figure size 432x288 with 1 Axes>"
      ]
     },
     "metadata": {
      "needs_background": "light"
     },
     "output_type": "display_data"
    }
   ],
   "source": [
    "Tata_df.Close.hist()"
   ]
  },
  {
   "cell_type": "markdown",
   "id": "9656a1c1",
   "metadata": {},
   "source": [
    "So from this plot, Most of stocks Closing prices ranges between 100 to 170rs."
   ]
  },
  {
   "cell_type": "code",
   "execution_count": 11,
   "id": "1bf0c1dc",
   "metadata": {},
   "outputs": [
    {
     "data": {
      "text/plain": [
       "2034   2010-07-21\n",
       "2033   2010-07-22\n",
       "2032   2010-07-23\n",
       "2031   2010-07-26\n",
       "2030   2010-07-27\n",
       "Name: Date, dtype: datetime64[ns]"
      ]
     },
     "execution_count": 11,
     "metadata": {},
     "output_type": "execute_result"
    }
   ],
   "source": [
    "# Sort Dataframe in date order, While working with time series data, It's a good practice to sort data in ascending order since\n",
    "# next data is dependent on previous time step data.\n",
    "\n",
    "Tata_df.sort_values(by=[\"Date\"], inplace=True, ascending=True)\n",
    "Tata_df.Date.head()\n"
   ]
  },
  {
   "cell_type": "code",
   "execution_count": 12,
   "id": "273ca227",
   "metadata": {},
   "outputs": [
    {
     "data": {
      "text/plain": [
       "<matplotlib.collections.PathCollection at 0x1eab4c27eb0>"
      ]
     },
     "execution_count": 12,
     "metadata": {},
     "output_type": "execute_result"
    },
    {
     "data": {
      "image/png": "[encoded data removed]",
      "text/plain": [
       "<Figure size 432x288 with 1 Axes>"
      ]
     },
     "metadata": {
      "needs_background": "light"
     },
     "output_type": "display_data"
    }
   ],
   "source": [
    "plt.scatter(Tata_df.Date,Tata_df.Close)"
   ]
  },
  {
   "cell_type": "markdown",
   "id": "473c1a6e",
   "metadata": {},
   "source": [
    "# Making a copy of Original DataFrame"
   ]
  },
  {
   "cell_type": "code",
   "execution_count": 13,
   "id": "5ad88683",
   "metadata": {},
   "outputs": [
    {
     "data": {
      "text/html": [
       "<div>\n",
       "<style scoped>\n",
       "    .dataframe tbody tr th:only-of-type {\n",
       "        vertical-align: middle;\n",
       "    }\n",
       "\n",
       "    .dataframe tbody tr th {\n",
       "        vertical-align: top;\n",
       "    }\n",
       "\n",
       "    .dataframe thead th {\n",
       "        text-align: right;\n",
       "    }\n",
       "</style>\n",
       "<table border=\"1\" class=\"dataframe\">\n",
       "  <thead>\n",
       "    <tr style=\"text-align: right;\">\n",
       "      <th></th>\n",
       "      <th>Date</th>\n",
       "      <th>Open</th>\n",
       "      <th>High</th>\n",
       "      <th>Low</th>\n",
       "      <th>Last</th>\n",
       "      <th>Close</th>\n",
       "      <th>Total Trade Quantity</th>\n",
       "      <th>Turnover (Lacs)</th>\n",
       "    </tr>\n",
       "  </thead>\n",
       "  <tbody>\n",
       "    <tr>\n",
       "      <th>2034</th>\n",
       "      <td>2010-07-21</td>\n",
       "      <td>122.10</td>\n",
       "      <td>123.00</td>\n",
       "      <td>121.05</td>\n",
       "      <td>121.10</td>\n",
       "      <td>121.55</td>\n",
       "      <td>658666</td>\n",
       "      <td>803.56</td>\n",
       "    </tr>\n",
       "    <tr>\n",
       "      <th>2033</th>\n",
       "      <td>2010-07-22</td>\n",
       "      <td>120.30</td>\n",
       "      <td>122.00</td>\n",
       "      <td>120.25</td>\n",
       "      <td>120.75</td>\n",
       "      <td>120.90</td>\n",
       "      <td>293312</td>\n",
       "      <td>355.17</td>\n",
       "    </tr>\n",
       "    <tr>\n",
       "      <th>2032</th>\n",
       "      <td>2010-07-23</td>\n",
       "      <td>121.80</td>\n",
       "      <td>121.95</td>\n",
       "      <td>120.25</td>\n",
       "      <td>120.35</td>\n",
       "      <td>120.65</td>\n",
       "      <td>281312</td>\n",
       "      <td>340.31</td>\n",
       "    </tr>\n",
       "    <tr>\n",
       "      <th>2031</th>\n",
       "      <td>2010-07-26</td>\n",
       "      <td>120.10</td>\n",
       "      <td>121.00</td>\n",
       "      <td>117.10</td>\n",
       "      <td>117.10</td>\n",
       "      <td>117.60</td>\n",
       "      <td>658440</td>\n",
       "      <td>780.01</td>\n",
       "    </tr>\n",
       "    <tr>\n",
       "      <th>2030</th>\n",
       "      <td>2010-07-27</td>\n",
       "      <td>117.60</td>\n",
       "      <td>119.50</td>\n",
       "      <td>112.00</td>\n",
       "      <td>118.80</td>\n",
       "      <td>118.65</td>\n",
       "      <td>586100</td>\n",
       "      <td>694.98</td>\n",
       "    </tr>\n",
       "    <tr>\n",
       "      <th>...</th>\n",
       "      <td>...</td>\n",
       "      <td>...</td>\n",
       "      <td>...</td>\n",
       "      <td>...</td>\n",
       "      <td>...</td>\n",
       "      <td>...</td>\n",
       "      <td>...</td>\n",
       "      <td>...</td>\n",
       "    </tr>\n",
       "    <tr>\n",
       "      <th>4</th>\n",
       "      <td>2018-09-24</td>\n",
       "      <td>233.55</td>\n",
       "      <td>239.20</td>\n",
       "      <td>230.75</td>\n",
       "      <td>234.00</td>\n",
       "      <td>233.30</td>\n",
       "      <td>3423509</td>\n",
       "      <td>7999.55</td>\n",
       "    </tr>\n",
       "    <tr>\n",
       "      <th>3</th>\n",
       "      <td>2018-09-25</td>\n",
       "      <td>233.30</td>\n",
       "      <td>236.75</td>\n",
       "      <td>232.00</td>\n",
       "      <td>236.25</td>\n",
       "      <td>236.10</td>\n",
       "      <td>2349368</td>\n",
       "      <td>5503.90</td>\n",
       "    </tr>\n",
       "    <tr>\n",
       "      <th>2</th>\n",
       "      <td>2018-09-26</td>\n",
       "      <td>240.00</td>\n",
       "      <td>240.00</td>\n",
       "      <td>232.50</td>\n",
       "      <td>235.00</td>\n",
       "      <td>234.25</td>\n",
       "      <td>2240909</td>\n",
       "      <td>5248.60</td>\n",
       "    </tr>\n",
       "    <tr>\n",
       "      <th>1</th>\n",
       "      <td>2018-09-27</td>\n",
       "      <td>234.55</td>\n",
       "      <td>236.80</td>\n",
       "      <td>231.10</td>\n",
       "      <td>233.80</td>\n",
       "      <td>233.25</td>\n",
       "      <td>5082859</td>\n",
       "      <td>11859.95</td>\n",
       "    </tr>\n",
       "    <tr>\n",
       "      <th>0</th>\n",
       "      <td>2018-09-28</td>\n",
       "      <td>234.05</td>\n",
       "      <td>235.95</td>\n",
       "      <td>230.20</td>\n",
       "      <td>233.50</td>\n",
       "      <td>233.75</td>\n",
       "      <td>3069914</td>\n",
       "      <td>7162.35</td>\n",
       "    </tr>\n",
       "  </tbody>\n",
       "</table>\n",
       "<p>2035 rows × 8 columns</p>\n",
       "</div>"
      ],
      "text/plain": [
       "           Date    Open    High     Low    Last   Close  Total Trade Quantity  \\\n",
       "2034 2010-07-21  122.10  123.00  121.05  121.10  121.55                658666   \n",
       "2033 2010-07-22  120.30  122.00  120.25  120.75  120.90                293312   \n",
       "2032 2010-07-23  121.80  121.95  120.25  120.35  120.65                281312   \n",
       "2031 2010-07-26  120.10  121.00  117.10  117.10  117.60                658440   \n",
       "2030 2010-07-27  117.60  119.50  112.00  118.80  118.65                586100   \n",
       "...         ...     ...     ...     ...     ...     ...                   ...   \n",
       "4    2018-09-24  233.55  239.20  230.75  234.00  233.30               3423509   \n",
       "3    2018-09-25  233.30  236.75  232.00  236.25  236.10               2349368   \n",
       "2    2018-09-26  240.00  240.00  232.50  235.00  234.25               2240909   \n",
       "1    2018-09-27  234.55  236.80  231.10  233.80  233.25               5082859   \n",
       "0    2018-09-28  234.05  235.95  230.20  233.50  233.75               3069914   \n",
       "\n",
       "      Turnover (Lacs)  \n",
       "2034           803.56  \n",
       "2033           355.17  \n",
       "2032           340.31  \n",
       "2031           780.01  \n",
       "2030           694.98  \n",
       "...               ...  \n",
       "4             7999.55  \n",
       "3             5503.90  \n",
       "2             5248.60  \n",
       "1            11859.95  \n",
       "0             7162.35  \n",
       "\n",
       "[2035 rows x 8 columns]"
      ]
     },
     "execution_count": 13,
     "metadata": {},
     "output_type": "execute_result"
    }
   ],
   "source": [
    "## Creating new dataframe \n",
    "df_copy= Tata_df.copy()\n",
    "df_copy"
   ]
  },
  {
   "cell_type": "code",
   "execution_count": 14,
   "id": "f2617198",
   "metadata": {},
   "outputs": [],
   "source": [
    "df_copy.reset_index(inplace = True)"
   ]
  },
  {
   "cell_type": "code",
   "execution_count": 15,
   "id": "c0218540",
   "metadata": {
    "scrolled": true
   },
   "outputs": [
    {
     "data": {
      "text/html": [
       "<div>\n",
       "<style scoped>\n",
       "    .dataframe tbody tr th:only-of-type {\n",
       "        vertical-align: middle;\n",
       "    }\n",
       "\n",
       "    .dataframe tbody tr th {\n",
       "        vertical-align: top;\n",
       "    }\n",
       "\n",
       "    .dataframe thead th {\n",
       "        text-align: right;\n",
       "    }\n",
       "</style>\n",
       "<table border=\"1\" class=\"dataframe\">\n",
       "  <thead>\n",
       "    <tr style=\"text-align: right;\">\n",
       "      <th></th>\n",
       "      <th>index</th>\n",
       "      <th>Date</th>\n",
       "      <th>Open</th>\n",
       "      <th>High</th>\n",
       "      <th>Low</th>\n",
       "      <th>Last</th>\n",
       "      <th>Close</th>\n",
       "      <th>Total Trade Quantity</th>\n",
       "      <th>Turnover (Lacs)</th>\n",
       "    </tr>\n",
       "  </thead>\n",
       "  <tbody>\n",
       "    <tr>\n",
       "      <th>0</th>\n",
       "      <td>2034</td>\n",
       "      <td>2010-07-21</td>\n",
       "      <td>122.10</td>\n",
       "      <td>123.00</td>\n",
       "      <td>121.05</td>\n",
       "      <td>121.10</td>\n",
       "      <td>121.55</td>\n",
       "      <td>658666</td>\n",
       "      <td>803.56</td>\n",
       "    </tr>\n",
       "    <tr>\n",
       "      <th>1</th>\n",
       "      <td>2033</td>\n",
       "      <td>2010-07-22</td>\n",
       "      <td>120.30</td>\n",
       "      <td>122.00</td>\n",
       "      <td>120.25</td>\n",
       "      <td>120.75</td>\n",
       "      <td>120.90</td>\n",
       "      <td>293312</td>\n",
       "      <td>355.17</td>\n",
       "    </tr>\n",
       "    <tr>\n",
       "      <th>2</th>\n",
       "      <td>2032</td>\n",
       "      <td>2010-07-23</td>\n",
       "      <td>121.80</td>\n",
       "      <td>121.95</td>\n",
       "      <td>120.25</td>\n",
       "      <td>120.35</td>\n",
       "      <td>120.65</td>\n",
       "      <td>281312</td>\n",
       "      <td>340.31</td>\n",
       "    </tr>\n",
       "    <tr>\n",
       "      <th>3</th>\n",
       "      <td>2031</td>\n",
       "      <td>2010-07-26</td>\n",
       "      <td>120.10</td>\n",
       "      <td>121.00</td>\n",
       "      <td>117.10</td>\n",
       "      <td>117.10</td>\n",
       "      <td>117.60</td>\n",
       "      <td>658440</td>\n",
       "      <td>780.01</td>\n",
       "    </tr>\n",
       "    <tr>\n",
       "      <th>4</th>\n",
       "      <td>2030</td>\n",
       "      <td>2010-07-27</td>\n",
       "      <td>117.60</td>\n",
       "      <td>119.50</td>\n",
       "      <td>112.00</td>\n",
       "      <td>118.80</td>\n",
       "      <td>118.65</td>\n",
       "      <td>586100</td>\n",
       "      <td>694.98</td>\n",
       "    </tr>\n",
       "    <tr>\n",
       "      <th>...</th>\n",
       "      <td>...</td>\n",
       "      <td>...</td>\n",
       "      <td>...</td>\n",
       "      <td>...</td>\n",
       "      <td>...</td>\n",
       "      <td>...</td>\n",
       "      <td>...</td>\n",
       "      <td>...</td>\n",
       "      <td>...</td>\n",
       "    </tr>\n",
       "    <tr>\n",
       "      <th>2030</th>\n",
       "      <td>4</td>\n",
       "      <td>2018-09-24</td>\n",
       "      <td>233.55</td>\n",
       "      <td>239.20</td>\n",
       "      <td>230.75</td>\n",
       "      <td>234.00</td>\n",
       "      <td>233.30</td>\n",
       "      <td>3423509</td>\n",
       "      <td>7999.55</td>\n",
       "    </tr>\n",
       "    <tr>\n",
       "      <th>2031</th>\n",
       "      <td>3</td>\n",
       "      <td>2018-09-25</td>\n",
       "      <td>233.30</td>\n",
       "      <td>236.75</td>\n",
       "      <td>232.00</td>\n",
       "      <td>236.25</td>\n",
       "      <td>236.10</td>\n",
       "      <td>2349368</td>\n",
       "      <td>5503.90</td>\n",
       "    </tr>\n",
       "    <tr>\n",
       "      <th>2032</th>\n",
       "      <td>2</td>\n",
       "      <td>2018-09-26</td>\n",
       "      <td>240.00</td>\n",
       "      <td>240.00</td>\n",
       "      <td>232.50</td>\n",
       "      <td>235.00</td>\n",
       "      <td>234.25</td>\n",
       "      <td>2240909</td>\n",
       "      <td>5248.60</td>\n",
       "    </tr>\n",
       "    <tr>\n",
       "      <th>2033</th>\n",
       "      <td>1</td>\n",
       "      <td>2018-09-27</td>\n",
       "      <td>234.55</td>\n",
       "      <td>236.80</td>\n",
       "      <td>231.10</td>\n",
       "      <td>233.80</td>\n",
       "      <td>233.25</td>\n",
       "      <td>5082859</td>\n",
       "      <td>11859.95</td>\n",
       "    </tr>\n",
       "    <tr>\n",
       "      <th>2034</th>\n",
       "      <td>0</td>\n",
       "      <td>2018-09-28</td>\n",
       "      <td>234.05</td>\n",
       "      <td>235.95</td>\n",
       "      <td>230.20</td>\n",
       "      <td>233.50</td>\n",
       "      <td>233.75</td>\n",
       "      <td>3069914</td>\n",
       "      <td>7162.35</td>\n",
       "    </tr>\n",
       "  </tbody>\n",
       "</table>\n",
       "<p>2035 rows × 9 columns</p>\n",
       "</div>"
      ],
      "text/plain": [
       "      index       Date    Open    High     Low    Last   Close  \\\n",
       "0      2034 2010-07-21  122.10  123.00  121.05  121.10  121.55   \n",
       "1      2033 2010-07-22  120.30  122.00  120.25  120.75  120.90   \n",
       "2      2032 2010-07-23  121.80  121.95  120.25  120.35  120.65   \n",
       "3      2031 2010-07-26  120.10  121.00  117.10  117.10  117.60   \n",
       "4      2030 2010-07-27  117.60  119.50  112.00  118.80  118.65   \n",
       "...     ...        ...     ...     ...     ...     ...     ...   \n",
       "2030      4 2018-09-24  233.55  239.20  230.75  234.00  233.30   \n",
       "2031      3 2018-09-25  233.30  236.75  232.00  236.25  236.10   \n",
       "2032      2 2018-09-26  240.00  240.00  232.50  235.00  234.25   \n",
       "2033      1 2018-09-27  234.55  236.80  231.10  233.80  233.25   \n",
       "2034      0 2018-09-28  234.05  235.95  230.20  233.50  233.75   \n",
       "\n",
       "      Total Trade Quantity  Turnover (Lacs)  \n",
       "0                   658666           803.56  \n",
       "1                   293312           355.17  \n",
       "2                   281312           340.31  \n",
       "3                   658440           780.01  \n",
       "4                   586100           694.98  \n",
       "...                    ...              ...  \n",
       "2030               3423509          7999.55  \n",
       "2031               2349368          5503.90  \n",
       "2032               2240909          5248.60  \n",
       "2033               5082859         11859.95  \n",
       "2034               3069914          7162.35  \n",
       "\n",
       "[2035 rows x 9 columns]"
      ]
     },
     "execution_count": 15,
     "metadata": {},
     "output_type": "execute_result"
    }
   ],
   "source": [
    "df_copy"
   ]
  },
  {
   "cell_type": "code",
   "execution_count": 16,
   "id": "ce923bc7",
   "metadata": {},
   "outputs": [],
   "source": [
    "df_copy.drop(\"index\", axis =1, inplace = True)"
   ]
  },
  {
   "cell_type": "code",
   "execution_count": 17,
   "id": "765f98a5",
   "metadata": {
    "scrolled": true
   },
   "outputs": [
    {
     "data": {
      "text/html": [
       "<div>\n",
       "<style scoped>\n",
       "    .dataframe tbody tr th:only-of-type {\n",
       "        vertical-align: middle;\n",
       "    }\n",
       "\n",
       "    .dataframe tbody tr th {\n",
       "        vertical-align: top;\n",
       "    }\n",
       "\n",
       "    .dataframe thead th {\n",
       "        text-align: right;\n",
       "    }\n",
       "</style>\n",
       "<table border=\"1\" class=\"dataframe\">\n",
       "  <thead>\n",
       "    <tr style=\"text-align: right;\">\n",
       "      <th></th>\n",
       "      <th>Date</th>\n",
       "      <th>Open</th>\n",
       "      <th>High</th>\n",
       "      <th>Low</th>\n",
       "      <th>Last</th>\n",
       "      <th>Close</th>\n",
       "      <th>Total Trade Quantity</th>\n",
       "      <th>Turnover (Lacs)</th>\n",
       "    </tr>\n",
       "  </thead>\n",
       "  <tbody>\n",
       "    <tr>\n",
       "      <th>0</th>\n",
       "      <td>2010-07-21</td>\n",
       "      <td>122.10</td>\n",
       "      <td>123.00</td>\n",
       "      <td>121.05</td>\n",
       "      <td>121.10</td>\n",
       "      <td>121.55</td>\n",
       "      <td>658666</td>\n",
       "      <td>803.56</td>\n",
       "    </tr>\n",
       "    <tr>\n",
       "      <th>1</th>\n",
       "      <td>2010-07-22</td>\n",
       "      <td>120.30</td>\n",
       "      <td>122.00</td>\n",
       "      <td>120.25</td>\n",
       "      <td>120.75</td>\n",
       "      <td>120.90</td>\n",
       "      <td>293312</td>\n",
       "      <td>355.17</td>\n",
       "    </tr>\n",
       "    <tr>\n",
       "      <th>2</th>\n",
       "      <td>2010-07-23</td>\n",
       "      <td>121.80</td>\n",
       "      <td>121.95</td>\n",
       "      <td>120.25</td>\n",
       "      <td>120.35</td>\n",
       "      <td>120.65</td>\n",
       "      <td>281312</td>\n",
       "      <td>340.31</td>\n",
       "    </tr>\n",
       "    <tr>\n",
       "      <th>3</th>\n",
       "      <td>2010-07-26</td>\n",
       "      <td>120.10</td>\n",
       "      <td>121.00</td>\n",
       "      <td>117.10</td>\n",
       "      <td>117.10</td>\n",
       "      <td>117.60</td>\n",
       "      <td>658440</td>\n",
       "      <td>780.01</td>\n",
       "    </tr>\n",
       "    <tr>\n",
       "      <th>4</th>\n",
       "      <td>2010-07-27</td>\n",
       "      <td>117.60</td>\n",
       "      <td>119.50</td>\n",
       "      <td>112.00</td>\n",
       "      <td>118.80</td>\n",
       "      <td>118.65</td>\n",
       "      <td>586100</td>\n",
       "      <td>694.98</td>\n",
       "    </tr>\n",
       "    <tr>\n",
       "      <th>...</th>\n",
       "      <td>...</td>\n",
       "      <td>...</td>\n",
       "      <td>...</td>\n",
       "      <td>...</td>\n",
       "      <td>...</td>\n",
       "      <td>...</td>\n",
       "      <td>...</td>\n",
       "      <td>...</td>\n",
       "    </tr>\n",
       "    <tr>\n",
       "      <th>2030</th>\n",
       "      <td>2018-09-24</td>\n",
       "      <td>233.55</td>\n",
       "      <td>239.20</td>\n",
       "      <td>230.75</td>\n",
       "      <td>234.00</td>\n",
       "      <td>233.30</td>\n",
       "      <td>3423509</td>\n",
       "      <td>7999.55</td>\n",
       "    </tr>\n",
       "    <tr>\n",
       "      <th>2031</th>\n",
       "      <td>2018-09-25</td>\n",
       "      <td>233.30</td>\n",
       "      <td>236.75</td>\n",
       "      <td>232.00</td>\n",
       "      <td>236.25</td>\n",
       "      <td>236.10</td>\n",
       "      <td>2349368</td>\n",
       "      <td>5503.90</td>\n",
       "    </tr>\n",
       "    <tr>\n",
       "      <th>2032</th>\n",
       "      <td>2018-09-26</td>\n",
       "      <td>240.00</td>\n",
       "      <td>240.00</td>\n",
       "      <td>232.50</td>\n",
       "      <td>235.00</td>\n",
       "      <td>234.25</td>\n",
       "      <td>2240909</td>\n",
       "      <td>5248.60</td>\n",
       "    </tr>\n",
       "    <tr>\n",
       "      <th>2033</th>\n",
       "      <td>2018-09-27</td>\n",
       "      <td>234.55</td>\n",
       "      <td>236.80</td>\n",
       "      <td>231.10</td>\n",
       "      <td>233.80</td>\n",
       "      <td>233.25</td>\n",
       "      <td>5082859</td>\n",
       "      <td>11859.95</td>\n",
       "    </tr>\n",
       "    <tr>\n",
       "      <th>2034</th>\n",
       "      <td>2018-09-28</td>\n",
       "      <td>234.05</td>\n",
       "      <td>235.95</td>\n",
       "      <td>230.20</td>\n",
       "      <td>233.50</td>\n",
       "      <td>233.75</td>\n",
       "      <td>3069914</td>\n",
       "      <td>7162.35</td>\n",
       "    </tr>\n",
       "  </tbody>\n",
       "</table>\n",
       "<p>2035 rows × 8 columns</p>\n",
       "</div>"
      ],
      "text/plain": [
       "           Date    Open    High     Low    Last   Close  Total Trade Quantity  \\\n",
       "0    2010-07-21  122.10  123.00  121.05  121.10  121.55                658666   \n",
       "1    2010-07-22  120.30  122.00  120.25  120.75  120.90                293312   \n",
       "2    2010-07-23  121.80  121.95  120.25  120.35  120.65                281312   \n",
       "3    2010-07-26  120.10  121.00  117.10  117.10  117.60                658440   \n",
       "4    2010-07-27  117.60  119.50  112.00  118.80  118.65                586100   \n",
       "...         ...     ...     ...     ...     ...     ...                   ...   \n",
       "2030 2018-09-24  233.55  239.20  230.75  234.00  233.30               3423509   \n",
       "2031 2018-09-25  233.30  236.75  232.00  236.25  236.10               2349368   \n",
       "2032 2018-09-26  240.00  240.00  232.50  235.00  234.25               2240909   \n",
       "2033 2018-09-27  234.55  236.80  231.10  233.80  233.25               5082859   \n",
       "2034 2018-09-28  234.05  235.95  230.20  233.50  233.75               3069914   \n",
       "\n",
       "      Turnover (Lacs)  \n",
       "0              803.56  \n",
       "1              355.17  \n",
       "2              340.31  \n",
       "3              780.01  \n",
       "4              694.98  \n",
       "...               ...  \n",
       "2030          7999.55  \n",
       "2031          5503.90  \n",
       "2032          5248.60  \n",
       "2033         11859.95  \n",
       "2034          7162.35  \n",
       "\n",
       "[2035 rows x 8 columns]"
      ]
     },
     "execution_count": 17,
     "metadata": {},
     "output_type": "execute_result"
    }
   ],
   "source": [
    "df_copy"
   ]
  },
  {
   "cell_type": "code",
   "execution_count": 18,
   "id": "72d7c01b",
   "metadata": {},
   "outputs": [
    {
     "data": {
      "text/plain": [
       "Text(0.5, 1.0, 'Variation of Closing price with different Date year')"
      ]
     },
     "execution_count": 18,
     "metadata": {},
     "output_type": "execute_result"
    },
    {
     "data": {
      "image/png": "[encoded data removed]",
      "text/plain": [
       "<Figure size 720x504 with 1 Axes>"
      ]
     },
     "metadata": {
      "needs_background": "light"
     },
     "output_type": "display_data"
    }
   ],
   "source": [
    "plt.figure(figsize=(10,7))\n",
    "plt.plot(df_copy[\"Date\"],\n",
    "         df_copy[\"Close\"])\n",
    "plt.xlabel(\"Date\")\n",
    "plt.ylabel(\"Closing Price\");\n",
    "plt.title(\"Variation of Closing price with different Date year\",\n",
    "          fontsize=18)\n"
   ]
  },
  {
   "cell_type": "markdown",
   "id": "64727613",
   "metadata": {},
   "source": [
    "WE can see here, that from 2017 closing price has increased for Tata\n",
    "Global stock price."
   ]
  },
  {
   "cell_type": "markdown",
   "id": "3e01ce3d",
   "metadata": {},
   "source": [
    "# Correlation"
   ]
  },
  {
   "cell_type": "code",
   "execution_count": 19,
   "id": "8ecb4b6f",
   "metadata": {},
   "outputs": [
    {
     "data": {
      "text/plain": [
       "<AxesSubplot:>"
      ]
     },
     "execution_count": 19,
     "metadata": {},
     "output_type": "execute_result"
    },
    {
     "data": {
      "image/png": "[encoded data removed]",
      "text/plain": [
       "<Figure size 432x288 with 2 Axes>"
      ]
     },
     "metadata": {
      "needs_background": "light"
     },
     "output_type": "display_data"
    }
   ],
   "source": [
    "sns.heatmap(df_copy.corr(),annot= True,cmap = 'coolwarm')"
   ]
  },
  {
   "cell_type": "markdown",
   "id": "951c5b75",
   "metadata": {},
   "source": [
    "So, we can see here that Open, High, Low, Last, Close ,they are strongly\n",
    "correlated with each other."
   ]
  },
  {
   "cell_type": "markdown",
   "id": "5302129c",
   "metadata": {},
   "source": [
    "# Selecting Close as target variable for prediction\n"
   ]
  },
  {
   "cell_type": "code",
   "execution_count": 20,
   "id": "a01c381d",
   "metadata": {},
   "outputs": [
    {
     "data": {
      "text/plain": [
       "0       121.55\n",
       "1       120.90\n",
       "2       120.65\n",
       "3       117.60\n",
       "4       118.65\n",
       "         ...  \n",
       "2030    233.30\n",
       "2031    236.10\n",
       "2032    234.25\n",
       "2033    233.25\n",
       "2034    233.75\n",
       "Name: Close, Length: 2035, dtype: float64"
      ]
     },
     "execution_count": 20,
     "metadata": {},
     "output_type": "execute_result"
    }
   ],
   "source": [
    "closingprice_df = df_copy['Close']\n",
    "closingprice_df"
   ]
  },
  {
   "cell_type": "code",
   "execution_count": 21,
   "id": "d01c61a7",
   "metadata": {},
   "outputs": [
    {
     "data": {
      "text/plain": [
       "(2035,)"
      ]
     },
     "execution_count": 21,
     "metadata": {},
     "output_type": "execute_result"
    }
   ],
   "source": [
    "closingprice_df.shape"
   ]
  },
  {
   "cell_type": "code",
   "execution_count": 22,
   "id": "4cbf82c6",
   "metadata": {},
   "outputs": [
    {
     "data": {
      "text/plain": [
       "count    2035.00000\n",
       "mean      149.45027\n",
       "std        48.71204\n",
       "min        80.95000\n",
       "25%       120.05000\n",
       "50%       141.25000\n",
       "75%       156.90000\n",
       "max       325.75000\n",
       "Name: Close, dtype: float64"
      ]
     },
     "execution_count": 22,
     "metadata": {},
     "output_type": "execute_result"
    }
   ],
   "source": [
    "closingprice_df.describe()"
   ]
  },
  {
   "cell_type": "code",
   "execution_count": 23,
   "id": "ab654c60",
   "metadata": {},
   "outputs": [
    {
     "data": {
      "image/png": "[encoded data removed]",
      "text/plain": [
       "<Figure size 432x288 with 1 Axes>"
      ]
     },
     "metadata": {
      "needs_background": "light"
     },
     "output_type": "display_data"
    }
   ],
   "source": [
    "plt.plot(df_copy.Date, closingprice_df)\n",
    "plt.xlabel(\"Year\")\n",
    "plt.ylabel(\"Closing Price\");\n",
    "plt.title(\"Variation of Closing price with Year\",\n",
    "          fontsize=14);\n"
   ]
  },
  {
   "cell_type": "markdown",
   "id": "de133a7f",
   "metadata": {},
   "source": [
    "# Feature Scaling with MinMax Scaler"
   ]
  },
  {
   "cell_type": "code",
   "execution_count": 24,
   "id": "db5e3d4a",
   "metadata": {},
   "outputs": [
    {
     "data": {
      "text/plain": [
       "array([[0.16584967],\n",
       "       [0.16319444],\n",
       "       [0.1621732 ],\n",
       "       ...,\n",
       "       [0.62622549],\n",
       "       [0.62214052],\n",
       "       [0.62418301]])"
      ]
     },
     "execution_count": 24,
     "metadata": {},
     "output_type": "execute_result"
    }
   ],
   "source": [
    "### LSTM are sensitive to the scale of the data.  For Open price min price is 81 and max is 327 rs,So I'll apply MinMax scaler \n",
    "from sklearn.preprocessing import MinMaxScaler\n",
    "scaler=MinMaxScaler(feature_range=(0,1))\n",
    "closingprice_df=scaler.fit_transform(np.array(closingprice_df).reshape(-1,1))\n",
    "closingprice_df"
   ]
  },
  {
   "cell_type": "markdown",
   "id": "d6249e7b",
   "metadata": {},
   "source": [
    "Now all prices are in range 0 to 1."
   ]
  },
  {
   "cell_type": "markdown",
   "id": "f9813cb9",
   "metadata": {},
   "source": [
    "# Train Test Split"
   ]
  },
  {
   "cell_type": "code",
   "execution_count": 25,
   "id": "581d5cc3",
   "metadata": {},
   "outputs": [],
   "source": [
    "##splitting dataset into train and test split\n",
    "training_size=int(len(closingprice_df)*0.70)\n",
    "test_size=len(closingprice_df)-training_size\n",
    "train_data,test_data=closingprice_df[0:training_size,:],closingprice_df[training_size:len(closingprice_df),:1]\n"
   ]
  },
  {
   "cell_type": "code",
   "execution_count": 26,
   "id": "b886e21b",
   "metadata": {},
   "outputs": [
    {
     "data": {
      "text/plain": [
       "((1424, 1), (611, 1))"
      ]
     },
     "execution_count": 26,
     "metadata": {},
     "output_type": "execute_result"
    }
   ],
   "source": [
    "train_data.shape,test_data.shape"
   ]
  },
  {
   "cell_type": "markdown",
   "id": "2a1a9cd6",
   "metadata": {},
   "source": [
    "Since Stock prices are time sensitive data, So for predicting next 30 days price, I have taken previous 100 days stock \n",
    "Close price."
   ]
  },
  {
   "cell_type": "code",
   "execution_count": 27,
   "id": "a8ad2bb4",
   "metadata": {},
   "outputs": [],
   "source": [
    "# convert an array of values into a dataset matrix\n",
    "def create_dataset(dataset, time_step):\n",
    "    dataX, dataY = [], []\n",
    "    for i in range(len(dataset)-time_step-1):\n",
    "        a = dataset[i:(i+time_step), 0]   ###i=0, 0,1,2,3-----99   100 \n",
    "        \n",
    "        dataX.append(a)\n",
    "        dataY.append(dataset[i + time_step, 0])\n",
    "   # print(dataX) \n",
    "    #print(dataY)\n",
    "    return np.array(dataX), np.array(dataY)\n"
   ]
  },
  {
   "cell_type": "code",
   "execution_count": 28,
   "id": "97e04c84",
   "metadata": {},
   "outputs": [
    {
     "data": {
      "text/plain": [
       "(1424, 611)"
      ]
     },
     "execution_count": 28,
     "metadata": {},
     "output_type": "execute_result"
    }
   ],
   "source": [
    "len(train_data),len(test_data)"
   ]
  },
  {
   "cell_type": "code",
   "execution_count": 29,
   "id": "4267b0dc",
   "metadata": {},
   "outputs": [
    {
     "data": {
      "text/plain": [
       "array([[0.16584967],\n",
       "       [0.16319444],\n",
       "       [0.1621732 ],\n",
       "       ...,\n",
       "       [0.15012255],\n",
       "       [0.15747549],\n",
       "       [0.15277778]])"
      ]
     },
     "execution_count": 29,
     "metadata": {},
     "output_type": "execute_result"
    }
   ],
   "source": [
    "train_data"
   ]
  },
  {
   "cell_type": "code",
   "execution_count": 30,
   "id": "fce3f574",
   "metadata": {},
   "outputs": [],
   "source": [
    "time_step = 100\n",
    "X_train, y_train = create_dataset(train_data, time_step)\n",
    "X_test, y_test = create_dataset(test_data, time_step)\n"
   ]
  },
  {
   "cell_type": "code",
   "execution_count": 31,
   "id": "e69c6003",
   "metadata": {},
   "outputs": [
    {
     "data": {
      "text/plain": [
       "((1323, 100), (1323,), (510, 100), (510,))"
      ]
     },
     "execution_count": 31,
     "metadata": {},
     "output_type": "execute_result"
    }
   ],
   "source": [
    "X_train.shape,y_train.shape,X_test.shape,y_test.shape"
   ]
  },
  {
   "cell_type": "markdown",
   "id": "8d938dfd",
   "metadata": {},
   "source": [
    "# Reshape input to be [samples, time steps, features] which is required for LSTM\n"
   ]
  },
  {
   "cell_type": "code",
   "execution_count": 32,
   "id": "2dfc84ba",
   "metadata": {},
   "outputs": [],
   "source": [
    "# reshape input to be [samples, time steps, features] which is required for LSTM\n",
    "X_train =X_train.reshape(X_train.shape[0],X_train.shape[1] , 1)\n",
    "X_test = X_test.reshape(X_test.shape[0],X_test.shape[1] , 1)\n"
   ]
  },
  {
   "cell_type": "code",
   "execution_count": 33,
   "id": "3134236c",
   "metadata": {},
   "outputs": [],
   "source": [
    "# Create the Stacked LSTM model\n",
    "\n",
    "from tensorflow.keras.models import Sequential\n",
    "from tensorflow.keras.layers import Dense\n",
    "from tensorflow.keras.layers import LSTM\n"
   ]
  },
  {
   "cell_type": "code",
   "execution_count": 34,
   "id": "8b3cd888",
   "metadata": {},
   "outputs": [],
   "source": [
    "model=Sequential()\n",
    "model.add(LSTM(50,return_sequences = True,input_shape=(100,1))) # Input layer,We are working with a univariate series, so the number of features is one,\n",
    "model.add(LSTM(50,return_sequences = True)) ## numberOfLSTMunits =50\n",
    "model.add(LSTM(50)) ## numberOfLSTMunits = 50\n",
    "model.add(Dense(1)) ## Output Layer\n",
    "model.compile(loss='mean_squared_error',optimizer='adam')\n"
   ]
  },
  {
   "cell_type": "code",
   "execution_count": 35,
   "id": "f2db2f60",
   "metadata": {},
   "outputs": [
    {
     "data": {
      "text/plain": [
       "50851"
      ]
     },
     "execution_count": 35,
     "metadata": {},
     "output_type": "execute_result"
    }
   ],
   "source": [
    "## Checking for trainable parameters\n",
    "model.count_params()"
   ]
  },
  {
   "cell_type": "code",
   "execution_count": 36,
   "id": "8e75d32a",
   "metadata": {},
   "outputs": [
    {
     "name": "stdout",
     "output_type": "stream",
     "text": [
      "Model: \"sequential\"\n",
      "_________________________________________________________________\n",
      " Layer (type)                Output Shape              Param #   \n",
      "=================================================================\n",
      " lstm (LSTM)                 (None, 100, 50)           10400     \n",
      "                                                                 \n",
      " lstm_1 (LSTM)               (None, 100, 50)           20200     \n",
      "                                                                 \n",
      " lstm_2 (LSTM)               (None, 50)                20200     \n",
      "                                                                 \n",
      " dense (Dense)               (None, 1)                 51        \n",
      "                                                                 \n",
      "=================================================================\n",
      "Total params: 50,851\n",
      "Trainable params: 50,851\n",
      "Non-trainable params: 0\n",
      "_________________________________________________________________\n"
     ]
    }
   ],
   "source": [
    "model.summary()"
   ]
  },
  {
   "cell_type": "markdown",
   "id": "976783cf",
   "metadata": {},
   "source": [
    "## understandig model summary:\n",
    "We know LSTM has four functional units 3 sigmoid and one tanh.\n",
    "\n",
    "Formula for calculating params in lstm layer :\n",
    "4*(n+m+b)*m, where n dimension of input vector, m =number of lstm units and b is bias which is initialized with 1 always.\n",
    "so 4 *(1+50+1)*50 =10400\n",
    "\n"
   ]
  },
  {
   "cell_type": "code",
   "execution_count": 37,
   "id": "ff9b956a",
   "metadata": {},
   "outputs": [
    {
     "name": "stdout",
     "output_type": "stream",
     "text": [
      "Epoch 1/100\n",
      "21/21 [==============================] - 14s 334ms/step - loss: 0.0122 - val_loss: 0.0332\n",
      "Epoch 2/100\n",
      "21/21 [==============================] - 5s 238ms/step - loss: 0.0019 - val_loss: 0.0061\n",
      "Epoch 3/100\n",
      "21/21 [==============================] - 5s 226ms/step - loss: 9.9590e-04 - val_loss: 0.0041\n",
      "Epoch 4/100\n",
      "21/21 [==============================] - 5s 227ms/step - loss: 9.2028e-04 - val_loss: 0.0053\n",
      "Epoch 5/100\n",
      "21/21 [==============================] - 5s 239ms/step - loss: 8.8788e-04 - val_loss: 0.0053\n",
      "Epoch 6/100\n",
      "21/21 [==============================] - 5s 229ms/step - loss: 8.3938e-04 - val_loss: 0.0039\n",
      "Epoch 7/100\n",
      "21/21 [==============================] - 5s 226ms/step - loss: 8.0062e-04 - val_loss: 0.0061\n",
      "Epoch 8/100\n",
      "21/21 [==============================] - 5s 228ms/step - loss: 7.6371e-04 - val_loss: 0.0037\n",
      "Epoch 9/100\n",
      "21/21 [==============================] - 5s 225ms/step - loss: 7.2149e-04 - val_loss: 0.0063\n",
      "Epoch 10/100\n",
      "21/21 [==============================] - 5s 227ms/step - loss: 7.0617e-04 - val_loss: 0.0048\n",
      "Epoch 11/100\n",
      "21/21 [==============================] - 5s 227ms/step - loss: 6.9475e-04 - val_loss: 0.0058\n",
      "Epoch 12/100\n",
      "21/21 [==============================] - 5s 224ms/step - loss: 6.4102e-04 - val_loss: 0.0051\n",
      "Epoch 13/100\n",
      "21/21 [==============================] - 5s 223ms/step - loss: 6.2691e-04 - val_loss: 0.0053\n",
      "Epoch 14/100\n",
      "21/21 [==============================] - 5s 225ms/step - loss: 6.1672e-04 - val_loss: 0.0059\n",
      "Epoch 15/100\n",
      "21/21 [==============================] - 5s 225ms/step - loss: 5.9379e-04 - val_loss: 0.0074\n",
      "Epoch 16/100\n",
      "21/21 [==============================] - 5s 225ms/step - loss: 6.0001e-04 - val_loss: 0.0065\n",
      "Epoch 17/100\n",
      "21/21 [==============================] - 5s 226ms/step - loss: 5.6813e-04 - val_loss: 0.0042\n",
      "Epoch 18/100\n",
      "21/21 [==============================] - 5s 228ms/step - loss: 5.8180e-04 - val_loss: 0.0051\n",
      "Epoch 19/100\n",
      "21/21 [==============================] - 5s 225ms/step - loss: 5.3458e-04 - val_loss: 0.0056\n",
      "Epoch 20/100\n",
      "21/21 [==============================] - 5s 228ms/step - loss: 5.2352e-04 - val_loss: 0.0031\n",
      "Epoch 21/100\n",
      "21/21 [==============================] - 5s 224ms/step - loss: 5.7744e-04 - val_loss: 0.0066\n",
      "Epoch 22/100\n",
      "21/21 [==============================] - 5s 225ms/step - loss: 4.9561e-04 - val_loss: 0.0052\n",
      "Epoch 23/100\n",
      "21/21 [==============================] - 5s 225ms/step - loss: 4.8356e-04 - val_loss: 0.0042\n",
      "Epoch 24/100\n",
      "21/21 [==============================] - 5s 227ms/step - loss: 4.9032e-04 - val_loss: 0.0069\n",
      "Epoch 25/100\n",
      "21/21 [==============================] - 5s 226ms/step - loss: 4.5432e-04 - val_loss: 0.0046\n",
      "Epoch 26/100\n",
      "21/21 [==============================] - 5s 225ms/step - loss: 4.6062e-04 - val_loss: 0.0060\n",
      "Epoch 27/100\n",
      "21/21 [==============================] - 5s 223ms/step - loss: 4.6716e-04 - val_loss: 0.0043\n",
      "Epoch 28/100\n",
      "21/21 [==============================] - 5s 230ms/step - loss: 4.2302e-04 - val_loss: 0.0044\n",
      "Epoch 29/100\n",
      "21/21 [==============================] - 5s 227ms/step - loss: 4.3464e-04 - val_loss: 0.0028\n",
      "Epoch 30/100\n",
      "21/21 [==============================] - 5s 227ms/step - loss: 4.1067e-04 - val_loss: 0.0027\n",
      "Epoch 31/100\n",
      "21/21 [==============================] - 5s 230ms/step - loss: 3.9221e-04 - val_loss: 0.0024\n",
      "Epoch 32/100\n",
      "21/21 [==============================] - 5s 229ms/step - loss: 3.8172e-04 - val_loss: 0.0023\n",
      "Epoch 33/100\n",
      "21/21 [==============================] - 5s 227ms/step - loss: 3.7478e-04 - val_loss: 0.0038\n",
      "Epoch 34/100\n",
      "21/21 [==============================] - 5s 227ms/step - loss: 3.8466e-04 - val_loss: 0.0017\n",
      "Epoch 35/100\n",
      "21/21 [==============================] - 5s 228ms/step - loss: 3.4615e-04 - val_loss: 0.0024\n",
      "Epoch 36/100\n",
      "21/21 [==============================] - 5s 226ms/step - loss: 3.4266e-04 - val_loss: 0.0027\n",
      "Epoch 37/100\n",
      "21/21 [==============================] - 5s 227ms/step - loss: 3.2942e-04 - val_loss: 0.0040\n",
      "Epoch 38/100\n",
      "21/21 [==============================] - 5s 227ms/step - loss: 3.1620e-04 - val_loss: 0.0019\n",
      "Epoch 39/100\n",
      "21/21 [==============================] - 5s 227ms/step - loss: 3.0314e-04 - val_loss: 0.0015\n",
      "Epoch 40/100\n",
      "21/21 [==============================] - 5s 226ms/step - loss: 3.2057e-04 - val_loss: 0.0015\n",
      "Epoch 41/100\n",
      "21/21 [==============================] - 5s 230ms/step - loss: 3.0307e-04 - val_loss: 9.9108e-04\n",
      "Epoch 42/100\n",
      "21/21 [==============================] - 5s 226ms/step - loss: 3.4403e-04 - val_loss: 8.0200e-04\n",
      "Epoch 43/100\n",
      "21/21 [==============================] - 5s 228ms/step - loss: 3.1877e-04 - val_loss: 0.0010\n",
      "Epoch 44/100\n",
      "21/21 [==============================] - 5s 227ms/step - loss: 2.7235e-04 - val_loss: 7.2384e-04\n",
      "Epoch 45/100\n",
      "21/21 [==============================] - 5s 224ms/step - loss: 2.8817e-04 - val_loss: 0.0011\n",
      "Epoch 46/100\n",
      "21/21 [==============================] - 5s 217ms/step - loss: 2.5510e-04 - val_loss: 0.0014\n",
      "Epoch 47/100\n",
      "21/21 [==============================] - 5s 233ms/step - loss: 2.6407e-04 - val_loss: 7.1167e-04\n",
      "Epoch 48/100\n",
      "21/21 [==============================] - 5s 232ms/step - loss: 2.5521e-04 - val_loss: 6.2611e-04\n",
      "Epoch 49/100\n",
      "21/21 [==============================] - 5s 225ms/step - loss: 2.3208e-04 - val_loss: 5.6466e-04\n",
      "Epoch 50/100\n",
      "21/21 [==============================] - 5s 231ms/step - loss: 2.3735e-04 - val_loss: 0.0016\n",
      "Epoch 51/100\n",
      "21/21 [==============================] - 5s 229ms/step - loss: 2.8171e-04 - val_loss: 5.2009e-04\n",
      "Epoch 52/100\n",
      "21/21 [==============================] - 5s 223ms/step - loss: 2.5519e-04 - val_loss: 8.0434e-04\n",
      "Epoch 53/100\n",
      "21/21 [==============================] - 5s 227ms/step - loss: 2.5204e-04 - val_loss: 6.4233e-04\n",
      "Epoch 54/100\n",
      "21/21 [==============================] - 5s 225ms/step - loss: 2.1767e-04 - val_loss: 0.0010\n",
      "Epoch 55/100\n",
      "21/21 [==============================] - 5s 222ms/step - loss: 2.0497e-04 - val_loss: 4.6443e-04\n",
      "Epoch 56/100\n",
      "21/21 [==============================] - 5s 233ms/step - loss: 2.1133e-04 - val_loss: 4.6257e-04\n",
      "Epoch 57/100\n",
      "21/21 [==============================] - 5s 227ms/step - loss: 2.1804e-04 - val_loss: 4.5817e-04\n",
      "Epoch 58/100\n",
      "21/21 [==============================] - 5s 227ms/step - loss: 2.5641e-04 - val_loss: 0.0011\n",
      "Epoch 59/100\n",
      "21/21 [==============================] - 5s 229ms/step - loss: 2.0828e-04 - val_loss: 0.0013\n",
      "Epoch 60/100\n",
      "21/21 [==============================] - 5s 226ms/step - loss: 1.9704e-04 - val_loss: 8.5594e-04\n",
      "Epoch 61/100\n",
      "21/21 [==============================] - 5s 225ms/step - loss: 1.7915e-04 - val_loss: 6.3932e-04\n",
      "Epoch 62/100\n",
      "21/21 [==============================] - 5s 224ms/step - loss: 1.7072e-04 - val_loss: 4.6737e-04\n",
      "Epoch 63/100\n",
      "21/21 [==============================] - 5s 225ms/step - loss: 1.8239e-04 - val_loss: 0.0010\n",
      "Epoch 64/100\n",
      "21/21 [==============================] - 5s 229ms/step - loss: 1.8986e-04 - val_loss: 4.7851e-04\n",
      "Epoch 65/100\n",
      "21/21 [==============================] - 5s 229ms/step - loss: 1.8182e-04 - val_loss: 4.2077e-04\n",
      "Epoch 66/100\n",
      "21/21 [==============================] - 5s 227ms/step - loss: 1.8565e-04 - val_loss: 4.1579e-04\n",
      "Epoch 67/100\n",
      "21/21 [==============================] - 5s 228ms/step - loss: 1.9687e-04 - val_loss: 4.3084e-04\n",
      "Epoch 68/100\n",
      "21/21 [==============================] - 5s 227ms/step - loss: 1.5836e-04 - val_loss: 6.6809e-04\n",
      "Epoch 69/100\n",
      "21/21 [==============================] - 5s 225ms/step - loss: 1.5719e-04 - val_loss: 5.5514e-04\n",
      "Epoch 70/100\n",
      "21/21 [==============================] - 5s 225ms/step - loss: 1.8952e-04 - val_loss: 4.6408e-04\n",
      "Epoch 71/100\n",
      "21/21 [==============================] - 5s 227ms/step - loss: 1.5832e-04 - val_loss: 7.9649e-04\n",
      "Epoch 72/100\n",
      "21/21 [==============================] - 5s 227ms/step - loss: 1.5217e-04 - val_loss: 5.0063e-04\n",
      "Epoch 73/100\n",
      "21/21 [==============================] - 5s 230ms/step - loss: 1.5679e-04 - val_loss: 4.0486e-04\n",
      "Epoch 74/100\n",
      "21/21 [==============================] - 5s 224ms/step - loss: 1.5132e-04 - val_loss: 4.2177e-04\n",
      "Epoch 75/100\n",
      "21/21 [==============================] - 5s 226ms/step - loss: 1.5631e-04 - val_loss: 5.6322e-04\n",
      "Epoch 76/100\n",
      "21/21 [==============================] - 5s 226ms/step - loss: 1.8376e-04 - val_loss: 5.8780e-04\n",
      "Epoch 77/100\n"
     ]
    },
    {
     "name": "stdout",
     "output_type": "stream",
     "text": [
      "21/21 [==============================] - 5s 226ms/step - loss: 1.4756e-04 - val_loss: 4.5853e-04\n",
      "Epoch 78/100\n",
      "21/21 [==============================] - 5s 226ms/step - loss: 1.4047e-04 - val_loss: 4.0641e-04\n",
      "Epoch 79/100\n",
      "21/21 [==============================] - 5s 230ms/step - loss: 1.7214e-04 - val_loss: 4.8644e-04\n",
      "Epoch 80/100\n",
      "21/21 [==============================] - 5s 227ms/step - loss: 1.5344e-04 - val_loss: 4.1971e-04\n",
      "Epoch 81/100\n",
      "21/21 [==============================] - 5s 227ms/step - loss: 1.5799e-04 - val_loss: 5.3184e-04\n",
      "Epoch 82/100\n",
      "21/21 [==============================] - 5s 227ms/step - loss: 1.4814e-04 - val_loss: 4.0838e-04\n",
      "Epoch 83/100\n",
      "21/21 [==============================] - 5s 230ms/step - loss: 1.4490e-04 - val_loss: 5.3932e-04\n",
      "Epoch 84/100\n",
      "21/21 [==============================] - 5s 225ms/step - loss: 1.5281e-04 - val_loss: 4.1781e-04\n",
      "Epoch 85/100\n",
      "21/21 [==============================] - 5s 224ms/step - loss: 1.6749e-04 - val_loss: 5.8574e-04\n",
      "Epoch 86/100\n",
      "21/21 [==============================] - 5s 229ms/step - loss: 1.5475e-04 - val_loss: 5.1073e-04\n",
      "Epoch 87/100\n",
      "21/21 [==============================] - 5s 226ms/step - loss: 1.4427e-04 - val_loss: 5.6346e-04\n",
      "Epoch 88/100\n",
      "21/21 [==============================] - 5s 228ms/step - loss: 1.3943e-04 - val_loss: 4.2455e-04\n",
      "Epoch 89/100\n",
      "21/21 [==============================] - 5s 225ms/step - loss: 1.3529e-04 - val_loss: 6.1046e-04\n",
      "Epoch 90/100\n",
      "21/21 [==============================] - 5s 223ms/step - loss: 1.3932e-04 - val_loss: 4.2321e-04\n",
      "Epoch 91/100\n",
      "21/21 [==============================] - 5s 225ms/step - loss: 1.4850e-04 - val_loss: 4.8590e-04\n",
      "Epoch 92/100\n",
      "21/21 [==============================] - 5s 226ms/step - loss: 1.3871e-04 - val_loss: 5.6848e-04\n",
      "Epoch 93/100\n",
      "21/21 [==============================] - 5s 226ms/step - loss: 1.4103e-04 - val_loss: 5.0206e-04\n",
      "Epoch 94/100\n",
      "21/21 [==============================] - 5s 227ms/step - loss: 1.3185e-04 - val_loss: 4.2793e-04\n",
      "Epoch 95/100\n",
      "21/21 [==============================] - 5s 227ms/step - loss: 1.2973e-04 - val_loss: 5.7909e-04\n",
      "Epoch 96/100\n",
      "21/21 [==============================] - 5s 225ms/step - loss: 1.4409e-04 - val_loss: 5.2512e-04\n",
      "Epoch 97/100\n",
      "21/21 [==============================] - 5s 223ms/step - loss: 1.7385e-04 - val_loss: 0.0011\n",
      "Epoch 98/100\n",
      "21/21 [==============================] - 5s 230ms/step - loss: 1.5706e-04 - val_loss: 8.0220e-04\n",
      "Epoch 99/100\n",
      "21/21 [==============================] - 5s 227ms/step - loss: 1.2900e-04 - val_loss: 7.1998e-04\n",
      "Epoch 100/100\n",
      "21/21 [==============================] - 5s 225ms/step - loss: 1.3126e-04 - val_loss: 0.0011\n"
     ]
    }
   ],
   "source": [
    "history = model.fit(X_train,y_train,validation_data=(X_test,y_test),epochs=100,batch_size=64,verbose=1)\n"
   ]
  },
  {
   "cell_type": "code",
   "execution_count": 38,
   "id": "2dbbeb43",
   "metadata": {},
   "outputs": [],
   "source": [
    "model.save('stock_model.h5')"
   ]
  },
  {
   "cell_type": "markdown",
   "id": "a7354fdb",
   "metadata": {},
   "source": [
    "# Visualizing Loss Function"
   ]
  },
  {
   "cell_type": "code",
   "execution_count": 39,
   "id": "53fcfd02",
   "metadata": {},
   "outputs": [
    {
     "data": {
      "text/plain": [
       "<matplotlib.legend.Legend at 0x1eacb777bb0>"
      ]
     },
     "execution_count": 39,
     "metadata": {},
     "output_type": "execute_result"
    },
    {
     "data": {
      "image/png": "[encoded data removed]",
      "text/plain": [
       "<Figure size 432x288 with 1 Axes>"
      ]
     },
     "metadata": {
      "needs_background": "light"
     },
     "output_type": "display_data"
    }
   ],
   "source": [
    "plt.plot(history.history['loss'],label ='Train Loss' )\n",
    "plt.plot(history.history['val_loss'],label = 'Validation Loss')\n",
    "plt.xlabel(\"No of epochs\")\n",
    "plt.ylabel(\"Loss Value\")\n",
    "plt.legend()"
   ]
  },
  {
   "cell_type": "markdown",
   "id": "ff50212a",
   "metadata": {},
   "source": [
    "Loss has been decreased significantly with increasing no of epochs."
   ]
  },
  {
   "cell_type": "markdown",
   "id": "9f447dfd",
   "metadata": {},
   "source": [
    "# Lets Do the prediction and check performance metrics"
   ]
  },
  {
   "cell_type": "code",
   "execution_count": 40,
   "id": "abb268d0",
   "metadata": {},
   "outputs": [],
   "source": [
    "##Transformback to original form\n",
    "train_predict=scaler.inverse_transform(model.predict(X_train))\n",
    "test_predict=scaler.inverse_transform(model.predict(X_test))\n"
   ]
  },
  {
   "cell_type": "code",
   "execution_count": 41,
   "id": "3a74a5d6",
   "metadata": {},
   "outputs": [
    {
     "name": "stdout",
     "output_type": "stream",
     "text": [
      "133.02357389934377\n"
     ]
    }
   ],
   "source": [
    "### Calculate RMSE performance metrics\n",
    "import math\n",
    "from sklearn.metrics import mean_squared_error,r2_score\n",
    "print(math.sqrt(mean_squared_error(y_train,train_predict)))\n"
   ]
  },
  {
   "cell_type": "code",
   "execution_count": 42,
   "id": "7dda92a2",
   "metadata": {},
   "outputs": [
    {
     "data": {
      "text/plain": [
       "207.1945330638114"
      ]
     },
     "execution_count": 42,
     "metadata": {},
     "output_type": "execute_result"
    }
   ],
   "source": [
    "### Test Data RMSE\n",
    "math.sqrt(mean_squared_error(y_test,test_predict))\n"
   ]
  },
  {
   "cell_type": "code",
   "execution_count": 43,
   "id": "29ad6657",
   "metadata": {},
   "outputs": [
    {
     "data": {
      "image/png": "[encoded data removed]",
      "text/plain": [
       "<Figure size 432x288 with 1 Axes>"
      ]
     },
     "metadata": {
      "needs_background": "light"
     },
     "output_type": "display_data"
    }
   ],
   "source": [
    "### Plotting \n",
    "# shift train predictions for plotting\n",
    "look_back=100 ## To check predicted and actual on same curve\n",
    "trainPredictPlot = np.empty_like(closingprice_df) ## To create a new array with the same shape and type as given arrary\n",
    "trainPredictPlot[:, :] = np.nan\n",
    "trainPredictPlot[look_back:len(train_predict)+look_back, :] = train_predict\n",
    "# shift test predictions for plotting\n",
    "testPredictPlot = np.empty_like(closingprice_df)\n",
    "testPredictPlot[:, :] = np.nan\n",
    "testPredictPlot[len(train_predict)+(look_back*2)+1:len(closingprice_df)-1, :] = test_predict\n",
    "# plot baseline and predictions\n",
    "plt.plot(scaler.inverse_transform(closingprice_df))\n",
    "plt.title(\"Variation of Actual Dataset\")\n",
    "plt.xlabel(\"Data Index\")\n",
    "plt.ylabel(\"Closing Price\")\n",
    "plt.show()\n"
   ]
  },
  {
   "cell_type": "code",
   "execution_count": 44,
   "id": "4909a2ce",
   "metadata": {},
   "outputs": [
    {
     "data": {
      "text/plain": [
       "Text(0, 0.5, 'Closing price')"
      ]
     },
     "execution_count": 44,
     "metadata": {},
     "output_type": "execute_result"
    },
    {
     "data": {
      "image/png": "[encoded data removed]",
      "text/plain": [
       "<Figure size 432x288 with 1 Axes>"
      ]
     },
     "metadata": {
      "needs_background": "light"
     },
     "output_type": "display_data"
    }
   ],
   "source": [
    "plt.plot(scaler.inverse_transform(closingprice_df))\n",
    "plt.plot(trainPredictPlot)\n",
    "plt.plot(testPredictPlot)\n",
    "plt.title(\"Variation of  Actual dataset,predicted train dataset and predicted testdataset\")\n",
    "plt.xlabel(\"Data Index\")\n",
    "plt.ylabel(\"Closing price\")\n",
    "\n"
   ]
  },
  {
   "cell_type": "markdown",
   "id": "af48a8fd",
   "metadata": {},
   "source": [
    "Blue present -Original dataset\n",
    "Orange - Predicted train dataset\n",
    "green - Predicted test dataset"
   ]
  },
  {
   "cell_type": "markdown",
   "id": "bc4f878c",
   "metadata": {},
   "source": [
    "# Forecasting for future 30 days"
   ]
  },
  {
   "cell_type": "markdown",
   "id": "a8736e0f",
   "metadata": {},
   "source": [
    "## Considering last 100 days for future prediction."
   ]
  },
  {
   "cell_type": "code",
   "execution_count": 45,
   "id": "93543bed",
   "metadata": {},
   "outputs": [
    {
     "data": {
      "text/plain": [
       "(1, 100)"
      ]
     },
     "execution_count": 45,
     "metadata": {},
     "output_type": "execute_result"
    }
   ],
   "source": [
    "x_input=test_data[511:].reshape(1,-1) ## len of test data - 100 = (611 -100 =511) and reshaping into row matrix\n",
    "x_input.shape\n"
   ]
  },
  {
   "cell_type": "code",
   "execution_count": 46,
   "id": "6031be66",
   "metadata": {},
   "outputs": [
    {
     "data": {
      "text/plain": [
       "1"
      ]
     },
     "execution_count": 46,
     "metadata": {},
     "output_type": "execute_result"
    }
   ],
   "source": [
    "temp_input=list(x_input)\n",
    "len(temp_input)\n"
   ]
  },
  {
   "cell_type": "code",
   "execution_count": 47,
   "id": "262aed3e",
   "metadata": {},
   "outputs": [
    {
     "data": {
      "text/plain": [
       "100"
      ]
     },
     "execution_count": 47,
     "metadata": {},
     "output_type": "execute_result"
    }
   ],
   "source": [
    "temp_input=temp_input[0].tolist()\n",
    "len(temp_input)"
   ]
  },
  {
   "cell_type": "code",
   "execution_count": 49,
   "id": "4d6948b6",
   "metadata": {},
   "outputs": [],
   "source": [
    "# demonstrate prediction for next 30 days\n",
    "from numpy import array\n",
    "\n",
    "lst_output=[]\n",
    "n_steps=100\n",
    "i=0\n",
    "while(i<30):\n",
    "    \n",
    "    if(len(temp_input)>100):\n",
    "        #print(temp_input)\n",
    "        x_input=np.array(temp_input[1:])\n",
    "        #print(\"{} day input {}\".format(i,x_input))\n",
    "        x_input=x_input.reshape(1,-1)\n",
    "        x_input = x_input.reshape((1, n_steps, 1))\n",
    "        #print(x_input)\n",
    "        yhat = model.predict(x_input, verbose=0)\n",
    "        #print(\"{} day output {}\".format(i,yhat))\n",
    "        temp_input.extend(yhat[0].tolist())\n",
    "        temp_input=temp_input[1:]\n",
    "        #print(temp_input)\n",
    "        lst_output.extend(yhat.tolist())\n",
    "        i=i+1\n",
    "    else:\n",
    "        x_input = x_input.reshape((1, n_steps,1))\n",
    "        yhat = model.predict(x_input, verbose=0)\n",
    "       # print(yhat[0])\n",
    "        temp_input.extend(yhat[0].tolist())\n",
    "        print(len(temp_input))\n",
    "        lst_output.extend(yhat.tolist())\n",
    "        i=i+1\n",
    "    \n",
    "\n",
    "#print(lst_output)\n"
   ]
  },
  {
   "cell_type": "code",
   "execution_count": 50,
   "id": "5883856b",
   "metadata": {},
   "outputs": [],
   "source": [
    "latest_100days=np.arange(1,101)\n",
    "pred_30days=np.arange(101,131)\n"
   ]
  },
  {
   "cell_type": "code",
   "execution_count": 51,
   "id": "f5f6cc5d",
   "metadata": {},
   "outputs": [
    {
     "data": {
      "text/plain": [
       "2035"
      ]
     },
     "execution_count": 51,
     "metadata": {},
     "output_type": "execute_result"
    }
   ],
   "source": [
    "len(closingprice_df)"
   ]
  },
  {
   "cell_type": "code",
   "execution_count": 52,
   "id": "b32d7bfa",
   "metadata": {},
   "outputs": [
    {
     "data": {
      "text/plain": [
       "[<matplotlib.lines.Line2D at 0x1eaccb6afd0>]"
      ]
     },
     "execution_count": 52,
     "metadata": {},
     "output_type": "execute_result"
    },
    {
     "data": {
      "image/png": "[encoded data removed]",
      "text/plain": [
       "<Figure size 432x288 with 1 Axes>"
      ]
     },
     "metadata": {
      "needs_background": "light"
     },
     "output_type": "display_data"
    }
   ],
   "source": [
    "plt.plot(latest_100days,scaler.inverse_transform(closingprice_df[1935:]))\n",
    "plt.plot(pred_30days,scaler.inverse_transform(lst_output))\n"
   ]
  },
  {
   "cell_type": "markdown",
   "id": "af995cf1",
   "metadata": {},
   "source": [
    "## Since Graph is discontinuous, So to smooth it, I will do following steps:"
   ]
  },
  {
   "cell_type": "code",
   "execution_count": 53,
   "id": "3a748660",
   "metadata": {},
   "outputs": [
    {
     "data": {
      "text/plain": [
       "[<matplotlib.lines.Line2D at 0x1eacdc68850>]"
      ]
     },
     "execution_count": 53,
     "metadata": {},
     "output_type": "execute_result"
    },
    {
     "data": {
      "image/png": "[encoded data removed]",
      "text/plain": [
       "<Figure size 432x288 with 1 Axes>"
      ]
     },
     "metadata": {
      "needs_background": "light"
     },
     "output_type": "display_data"
    }
   ],
   "source": [
    "df2=closingprice_df.tolist()\n",
    "df2.extend(lst_output)\n",
    "plt.plot(df2[1935:])\n"
   ]
  },
  {
   "cell_type": "code",
   "execution_count": 54,
   "id": "6ba197b1",
   "metadata": {},
   "outputs": [],
   "source": [
    "df2=scaler.inverse_transform(df2).tolist()\n"
   ]
  },
  {
   "cell_type": "code",
   "execution_count": 55,
   "id": "e99af8d7",
   "metadata": {},
   "outputs": [
    {
     "data": {
      "text/plain": [
       "[<matplotlib.lines.Line2D at 0x1eacdba0fd0>]"
      ]
     },
     "execution_count": 55,
     "metadata": {},
     "output_type": "execute_result"
    },
    {
     "data": {
      "image/png": "[encoded data removed]",
      "text/plain": [
       "<Figure size 432x288 with 1 Axes>"
      ]
     },
     "metadata": {
      "needs_background": "light"
     },
     "output_type": "display_data"
    }
   ],
   "source": [
    "plt.plot(df2)\n"
   ]
  },
  {
   "cell_type": "code",
   "execution_count": null,
   "id": "136022e4",
   "metadata": {},
   "outputs": [],
   "source": []
  }
 ],
 "metadata": {
  "kernelspec": {
   "display_name": "Python 3",
   "language": "python",
   "name": "python3"
  },
  "language_info": {
   "codemirror_mode": {
    "name": "ipython",
    "version": 3
   },
   "file_extension": ".py",
   "mimetype": "text/x-python",
   "name": "python",
   "nbconvert_exporter": "python",
   "pygments_lexer": "ipython3",
   "version": "3.8.8"
  }
 },
 "nbformat": 4,
 "nbformat_minor": 5
}
